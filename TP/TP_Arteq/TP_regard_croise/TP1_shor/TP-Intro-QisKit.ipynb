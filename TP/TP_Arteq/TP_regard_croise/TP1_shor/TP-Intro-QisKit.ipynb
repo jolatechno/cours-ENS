{
 "cells": [
  {
   "cell_type": "markdown",
   "metadata": {},
   "source": [
    "# 0 - Libraries to load up front"
   ]
  },
  {
   "cell_type": "code",
   "execution_count": 1,
   "metadata": {},
   "outputs": [
    {
     "name": "stdout",
     "output_type": "stream",
     "text": [
      "Defaulting to user installation because normal site-packages is not writeable\n",
      "Requirement already satisfied: matplotlib in /home/joseph/.local/lib/python3.10/site-packages (3.5.1)\n",
      "Collecting pylatexenc\n",
      "  Downloading pylatexenc-2.10.tar.gz (162 kB)\n",
      "\u001b[2K     \u001b[38;2;114;156;31m━━━━━━━━━━━━━━━━━━━━━━━━━━━━━━━━━━━━━━━\u001b[0m \u001b[32m162.6/162.6 kB\u001b[0m \u001b[31m3.0 MB/s\u001b[0m eta \u001b[36m0:00:00\u001b[0m[31m2.9 MB/s\u001b[0m eta \u001b[36m0:00:01\u001b[0m\n",
      "\u001b[?25h  Preparing metadata (setup.py) ... \u001b[?25ldone\n",
      "\u001b[?25hRequirement already satisfied: packaging>=20.0 in /usr/lib/python3.10/site-packages (from matplotlib) (21.3)\n",
      "Requirement already satisfied: python-dateutil>=2.7 in /home/joseph/.local/lib/python3.10/site-packages (from matplotlib) (2.8.2)\n",
      "Requirement already satisfied: numpy>=1.17 in /home/joseph/.local/lib/python3.10/site-packages (from matplotlib) (1.22.1)\n",
      "Requirement already satisfied: pillow>=6.2.0 in /usr/lib/python3.10/site-packages (from matplotlib) (9.2.0)\n",
      "Requirement already satisfied: pyparsing>=2.2.1 in /usr/lib/python3.10/site-packages (from matplotlib) (3.0.9)\n",
      "Requirement already satisfied: cycler>=0.10 in /home/joseph/.local/lib/python3.10/site-packages (from matplotlib) (0.11.0)\n",
      "Requirement already satisfied: kiwisolver>=1.0.1 in /home/joseph/.local/lib/python3.10/site-packages (from matplotlib) (1.3.2)\n",
      "Requirement already satisfied: fonttools>=4.22.0 in /home/joseph/.local/lib/python3.10/site-packages (from matplotlib) (4.28.5)\n",
      "Requirement already satisfied: six>=1.5 in /home/joseph/.local/lib/python3.10/site-packages (from python-dateutil>=2.7->matplotlib) (1.12.0)\n",
      "Building wheels for collected packages: pylatexenc\n",
      "  Building wheel for pylatexenc (setup.py) ... \u001b[?25ldone\n",
      "\u001b[?25h  Created wheel for pylatexenc: filename=pylatexenc-2.10-py3-none-any.whl size=136820 sha256=d3b9daed41fdcb64d910aa91ec2f9af696c63147806e1ff6799e7ef0603e6fb4\n",
      "  Stored in directory: /home/joseph/.cache/pip/wheels/d3/31/8b/e09b0386afd80cfc556c00408c9aeea5c35c4d484a9c762fd5\n",
      "Successfully built pylatexenc\n",
      "Installing collected packages: pylatexenc\n",
      "Successfully installed pylatexenc-2.10\n",
      "Defaulting to user installation because normal site-packages is not writeable\n",
      "Collecting qiskit\n",
      "  Downloading qiskit-0.39.2.tar.gz (13 kB)\n",
      "  Preparing metadata (setup.py) ... \u001b[?25ldone\n",
      "\u001b[?25hCollecting qiskit-terra==0.22.2\n",
      "  Downloading qiskit_terra-0.22.2-cp310-cp310-manylinux_2_17_x86_64.manylinux2014_x86_64.whl (4.8 MB)\n",
      "\u001b[2K     \u001b[38;2;114;156;31m━━━━━━━━━━━━━━━━━━━━━━━━━━━━━━━━━━━━━━━━\u001b[0m \u001b[32m4.8/4.8 MB\u001b[0m \u001b[31m934.6 kB/s\u001b[0m eta \u001b[36m0:00:00\u001b[0mm eta \u001b[36m0:00:01\u001b[0m0:01\u001b[0m:01\u001b[0m\n",
      "\u001b[?25hCollecting qiskit-aer==0.11.1\n",
      "  Downloading qiskit_aer-0.11.1-cp310-cp310-manylinux_2_17_x86_64.manylinux2014_x86_64.whl (19.2 MB)\n",
      "\u001b[2K     \u001b[38;2;114;156;31m━━━━━━━━━━━━━━━━━━━━━━━━━━━━━━━━━━━━━━━━\u001b[0m \u001b[32m19.2/19.2 MB\u001b[0m \u001b[31m2.0 MB/s\u001b[0m eta \u001b[36m0:00:00\u001b[0mm eta \u001b[36m0:00:01\u001b[0m[36m0:00:01\u001b[0m\n",
      "\u001b[?25hCollecting qiskit-ibmq-provider==0.19.2\n",
      "  Downloading qiskit_ibmq_provider-0.19.2-py3-none-any.whl (240 kB)\n",
      "\u001b[2K     \u001b[38;2;114;156;31m━━━━━━━━━━━━━━━━━━━━━━━━━━━━━━━━━━━━━━━\u001b[0m \u001b[32m240.4/240.4 kB\u001b[0m \u001b[31m1.7 MB/s\u001b[0m eta \u001b[36m0:00:00\u001b[0m[31m1.8 MB/s\u001b[0m eta \u001b[36m0:00:01\u001b[0m\n",
      "\u001b[?25hRequirement already satisfied: numpy>=1.16.3 in /home/joseph/.local/lib/python3.10/site-packages (from qiskit-aer==0.11.1->qiskit) (1.22.1)\n",
      "Requirement already satisfied: scipy>=1.0 in /home/joseph/.local/lib/python3.10/site-packages (from qiskit-aer==0.11.1->qiskit) (1.7.3)\n",
      "Requirement already satisfied: python-dateutil>=2.8.0 in /home/joseph/.local/lib/python3.10/site-packages (from qiskit-ibmq-provider==0.19.2->qiskit) (2.8.2)\n",
      "Collecting requests-ntlm>=1.1.0\n",
      "  Downloading requests_ntlm-1.1.0-py2.py3-none-any.whl (5.7 kB)\n",
      "Requirement already satisfied: requests>=2.19 in /home/joseph/.local/lib/python3.10/site-packages (from qiskit-ibmq-provider==0.19.2->qiskit) (2.21.0)\n",
      "Requirement already satisfied: websocket-client>=1.0.1 in /usr/lib/python3.10/site-packages (from qiskit-ibmq-provider==0.19.2->qiskit) (1.4.1)\n",
      "Requirement already satisfied: urllib3>=1.21.1 in /home/joseph/.local/lib/python3.10/site-packages (from qiskit-ibmq-provider==0.19.2->qiskit) (1.24.3)\n",
      "Collecting websockets>=10.0\n",
      "  Downloading websockets-10.4-cp310-cp310-manylinux_2_5_x86_64.manylinux1_x86_64.manylinux_2_17_x86_64.manylinux2014_x86_64.whl (106 kB)\n",
      "\u001b[2K     \u001b[38;2;114;156;31m━━━━━━━━━━━━━━━━━━━━━━━━━━━━━━━━━━━━━━━\u001b[0m \u001b[32m106.8/106.8 kB\u001b[0m \u001b[31m3.4 MB/s\u001b[0m eta \u001b[36m0:00:00\u001b[0m\n",
      "\u001b[?25hCollecting retworkx>=0.11.0\n",
      "  Downloading retworkx-0.12.0-py3-none-any.whl (10 kB)\n",
      "Collecting tweedledum<2.0,>=1.1\n",
      "  Downloading tweedledum-1.1.1-cp310-cp310-manylinux_2_12_x86_64.manylinux2010_x86_64.whl (929 kB)\n",
      "\u001b[2K     \u001b[38;2;114;156;31m━━━━━━━━━━━━━━━━━━━━━━━━━━━━━━━━━━━━━━━\u001b[0m \u001b[32m929.7/929.7 kB\u001b[0m \u001b[31m6.0 MB/s\u001b[0m eta \u001b[36m0:00:00\u001b[0m[31m5.9 MB/s\u001b[0m eta \u001b[36m0:00:01\u001b[0m\n",
      "\u001b[?25hCollecting symengine>=0.9\n",
      "  Downloading symengine-0.9.2-cp310-cp310-manylinux2010_x86_64.whl (37.5 MB)\n",
      "\u001b[2K     \u001b[38;2;114;156;31m━━━━━━━━━━━━━━━━━━━━━━━━━━━━━━━━━━━━━━━━\u001b[0m \u001b[32m37.5/37.5 MB\u001b[0m \u001b[31m1.5 MB/s\u001b[0m eta \u001b[36m0:00:00\u001b[0mm eta \u001b[36m0:00:01\u001b[0m[36m0:00:01\u001b[0mm\n",
      "\u001b[?25hCollecting dill>=0.3\n",
      "  Downloading dill-0.3.6-py3-none-any.whl (110 kB)\n",
      "\u001b[2K     \u001b[38;2;114;156;31m━━━━━━━━━━━━━━━━━━━━━━━━━━━━━━━━━━━━━━━\u001b[0m \u001b[32m110.5/110.5 kB\u001b[0m \u001b[31m4.6 MB/s\u001b[0m eta \u001b[36m0:00:00\u001b[0m\n",
      "\u001b[?25hRequirement already satisfied: psutil>=5 in /usr/lib/python3.10/site-packages (from qiskit-terra==0.22.2->qiskit) (5.9.2)\n",
      "Collecting stevedore>=3.0.0\n",
      "  Downloading stevedore-4.1.0-py3-none-any.whl (50 kB)\n",
      "\u001b[2K     \u001b[38;2;114;156;31m━━━━━━━━━━━━━━━━━━━━━━━━━━━━━━━━━━━━━━━━\u001b[0m \u001b[32m50.0/50.0 kB\u001b[0m \u001b[31m7.4 MB/s\u001b[0m eta \u001b[36m0:00:00\u001b[0m\n",
      "\u001b[?25hCollecting sympy>=1.3\n",
      "  Downloading sympy-1.11.1-py3-none-any.whl (6.5 MB)\n",
      "\u001b[2K     \u001b[38;2;114;156;31m━━━━━━━━━━━━━━━━━━━━━━━━━━━━━━━━━━━━━━━━\u001b[0m \u001b[32m6.5/6.5 MB\u001b[0m \u001b[31m3.0 MB/s\u001b[0m eta \u001b[36m0:00:00\u001b[0mm eta \u001b[36m0:00:01\u001b[0m0:01\u001b[0m:01\u001b[0m\n",
      "\u001b[?25hRequirement already satisfied: ply>=3.10 in /usr/lib/python3.10/site-packages (from qiskit-terra==0.22.2->qiskit) (3.11)\n",
      "Requirement already satisfied: six>=1.5 in /home/joseph/.local/lib/python3.10/site-packages (from python-dateutil>=2.8.0->qiskit-ibmq-provider==0.19.2->qiskit) (1.12.0)\n",
      "Requirement already satisfied: certifi>=2017.4.17 in /usr/lib/python3.10/site-packages (from requests>=2.19->qiskit-ibmq-provider==0.19.2->qiskit) (2022.9.24)\n",
      "Requirement already satisfied: chardet<3.1.0,>=3.0.2 in /home/joseph/.local/lib/python3.10/site-packages (from requests>=2.19->qiskit-ibmq-provider==0.19.2->qiskit) (3.0.4)\n",
      "Requirement already satisfied: idna<2.9,>=2.5 in /home/joseph/.local/lib/python3.10/site-packages (from requests>=2.19->qiskit-ibmq-provider==0.19.2->qiskit) (2.8)\n",
      "Requirement already satisfied: cryptography>=1.3 in /usr/lib/python3.10/site-packages (from requests-ntlm>=1.1.0->qiskit-ibmq-provider==0.19.2->qiskit) (38.0.1)\n",
      "Collecting ntlm-auth>=1.0.2\n",
      "  Downloading ntlm_auth-1.5.0-py2.py3-none-any.whl (29 kB)\n",
      "Collecting rustworkx==0.12.0\n",
      "  Downloading rustworkx-0.12.0-cp310-cp310-manylinux_2_17_x86_64.manylinux2014_x86_64.whl (1.9 MB)\n",
      "\u001b[2K     \u001b[38;2;114;156;31m━━━━━━━━━━━━━━━━━━━━━━━━━━━━━━━━━━━━━━━━\u001b[0m \u001b[32m1.9/1.9 MB\u001b[0m \u001b[31m6.9 MB/s\u001b[0m eta \u001b[36m0:00:00\u001b[0mm eta \u001b[36m0:00:01\u001b[0m[36m0:00:01\u001b[0m\n",
      "\u001b[?25hCollecting pbr!=2.1.0,>=2.0.0\n",
      "  Downloading pbr-5.11.0-py2.py3-none-any.whl (112 kB)\n",
      "\u001b[2K     \u001b[38;2;114;156;31m━━━━━━━━━━━━━━━━━━━━━━━━━━━━━━━━━━━━━━━\u001b[0m \u001b[32m112.6/112.6 kB\u001b[0m \u001b[31m9.1 MB/s\u001b[0m eta \u001b[36m0:00:00\u001b[0m\n",
      "\u001b[?25hCollecting mpmath>=0.19\n",
      "  Downloading mpmath-1.2.1-py3-none-any.whl (532 kB)\n",
      "\u001b[2K     \u001b[38;2;114;156;31m━━━━━━━━━━━━━━━━━━━━━━━━━━━━━━━━━━━━━━━\u001b[0m \u001b[32m532.6/532.6 kB\u001b[0m \u001b[31m7.1 MB/s\u001b[0m eta \u001b[36m0:00:00\u001b[0mm eta \u001b[36m0:00:01\u001b[0m0:01\u001b[0m\n",
      "\u001b[?25hRequirement already satisfied: cffi>=1.12 in /usr/lib/python3.10/site-packages (from cryptography>=1.3->requests-ntlm>=1.1.0->qiskit-ibmq-provider==0.19.2->qiskit) (1.15.1)\n",
      "Requirement already satisfied: pycparser in /usr/lib/python3.10/site-packages (from cffi>=1.12->cryptography>=1.3->requests-ntlm>=1.1.0->qiskit-ibmq-provider==0.19.2->qiskit) (2.21)\n",
      "Building wheels for collected packages: qiskit\n",
      "  Building wheel for qiskit (setup.py) ... \u001b[?25ldone\n",
      "\u001b[?25h  Created wheel for qiskit: filename=qiskit-0.39.2-py3-none-any.whl size=12207 sha256=28c62cbb1a6d99af0a88c3da4e2634b0bd7d8134d00708ee4537f298fc553789\n",
      "  Stored in directory: /home/joseph/.cache/pip/wheels/c0/c4/14/6cf1cf2bb77272dd8844719494da64296f68deae675b735717\n",
      "Successfully built qiskit\n"
     ]
    },
    {
     "name": "stdout",
     "output_type": "stream",
     "text": [
      "Installing collected packages: mpmath, websockets, tweedledum, sympy, symengine, rustworkx, pbr, ntlm-auth, dill, stevedore, retworkx, requests-ntlm, qiskit-terra, qiskit-ibmq-provider, qiskit-aer, qiskit\n",
      "Successfully installed dill-0.3.6 mpmath-1.2.1 ntlm-auth-1.5.0 pbr-5.11.0 qiskit-0.39.2 qiskit-aer-0.11.1 qiskit-ibmq-provider-0.19.2 qiskit-terra-0.22.2 requests-ntlm-1.1.0 retworkx-0.12.0 rustworkx-0.12.0 stevedore-4.1.0 symengine-0.9.2 sympy-1.11.1 tweedledum-1.1.1 websockets-10.4\n"
     ]
    }
   ],
   "source": [
    "import numpy as np\n",
    "from math import pi\n",
    "try:\n",
    "    from qiskit import *\n",
    "    from matplotlib.pyplot import plot,show\n",
    "except:\n",
    "    ! python -m pip install matplotlib pylatexenc\n",
    "    ! python -m pip install qiskit\n",
    "from qiskit import *\n",
    "from qiskit.circuit import *\n",
    "from qiskit.extensions import *\n",
    "from qiskit.circuit.library import *\n",
    "from qiskit.extensions.simulator.snapshot import snapshot\n",
    "from qiskit.quantum_info.operators import Operator\n",
    "from qiskit.extensions.simulator.snapshot import snapshot\n",
    "from scipy import optimize\n",
    "from matplotlib.pyplot import plot,show\n",
    "%matplotlib inline\n",
    "%config InlineBackend.figure_format = 'svg' # Makes the images look nice"
   ]
  },
  {
   "cell_type": "markdown",
   "metadata": {},
   "source": [
    "# 1 - Circuits\n",
    "\n",
    "A circuit in QisKit acts on quantum *and* classical registers.\n",
    "\n",
    "A classical register aims at storing the result of the measurement of a quantum register."
   ]
  },
  {
   "cell_type": "code",
   "execution_count": 2,
   "metadata": {},
   "outputs": [
    {
     "data": {
      "text/plain": [
       "<qiskit.circuit.instructionset.InstructionSet at 0x7f3a002e5f30>"
      ]
     },
     "execution_count": 2,
     "metadata": {},
     "output_type": "execute_result"
    }
   ],
   "source": [
    "# Allocating 2 qubits\n",
    "q = QuantumRegister(2, name=\"x\")\n",
    "\n",
    "# Allocating 2 bits\n",
    "c = ClassicalRegister(2, name=\"y\")\n",
    "\n",
    "# We build a quantum circuit with both registers.\n",
    "# By default, everything is initialized to 0 and to |0>\n",
    "qc = QuantumCircuit(q,c)\n",
    "\n",
    "# Applying Hadamard on qubit 0:\n",
    "qc.h(q[0])\n",
    "\n",
    "# Applying X on qubit 0:\n",
    "qc.x(q[0])\n",
    "\n",
    "# Applying z on qubit 0:\n",
    "qc.z(q[0])\n",
    "\n",
    "# Applying CNOT on qubits 0 and 1:\n",
    "qc.cnot(q[0],q[1])\n",
    "\n",
    "# Mesure of all of register q, storing results in c.\n",
    "# This is still part of the circuit\n",
    "qc.measure(q, c)\n",
    "\n",
    "# A summary of native operations can be found here:\n",
    "# https://qiskit.org/documentation/tutorials/circuits/3_summary_of_quantum_operations.html\n"
   ]
  },
  {
   "cell_type": "markdown",
   "metadata": {},
   "source": [
    "The circuit can be drawn in text-style or with mathplotlib. Note how the name given to the registers appear on the drawing. The simple wires are qubit-wires, while the doubled-wires are for bits."
   ]
  },
  {
   "cell_type": "code",
   "execution_count": 3,
   "metadata": {},
   "outputs": [
    {
     "data": {
      "text/html": [
       "<pre style=\"word-wrap: normal;white-space: pre;background: #fff0;line-height: 1.1;font-family: &quot;Courier New&quot;,Courier,monospace\">     ┌───┐┌───┐┌───┐     ┌─┐   \n",
       "x_0: ┤ H ├┤ X ├┤ Z ├──■──┤M├───\n",
       "     └───┘└───┘└───┘┌─┴─┐└╥┘┌─┐\n",
       "x_1: ───────────────┤ X ├─╫─┤M├\n",
       "                    └───┘ ║ └╥┘\n",
       "y_0: ═════════════════════╩══╬═\n",
       "                             ║ \n",
       "y_1: ════════════════════════╩═\n",
       "                               </pre>"
      ],
      "text/plain": [
       "     ┌───┐┌───┐┌───┐     ┌─┐   \n",
       "x_0: ┤ H ├┤ X ├┤ Z ├──■──┤M├───\n",
       "     └───┘└───┘└───┘┌─┴─┐└╥┘┌─┐\n",
       "x_1: ───────────────┤ X ├─╫─┤M├\n",
       "                    └───┘ ║ └╥┘\n",
       "y_0: ═════════════════════╩══╬═\n",
       "                             ║ \n",
       "y_1: ════════════════════════╩═\n",
       "                               "
      ]
     },
     "execution_count": 3,
     "metadata": {},
     "output_type": "execute_result"
    }
   ],
   "source": [
    "qc.draw()"
   ]
  },
  {
   "cell_type": "markdown",
   "metadata": {},
   "source": [
    "# 2 - Runing a circuit \n",
    "\n",
    "One can run a circuit with **backends**.\n",
    "\n",
    "Here is a backend emulating the behavior of a quantum co-processor. It makes it possible to *lauch* a series of runs, keeping track of how many of each results were obtained in the classical registers (remember, each run is probabilistic)."
   ]
  },
  {
   "cell_type": "code",
   "execution_count": 4,
   "metadata": {},
   "outputs": [
    {
     "data": {
      "text/plain": [
       "{'11': 519, '00': 505}"
      ]
     },
     "execution_count": 4,
     "metadata": {},
     "output_type": "execute_result"
    }
   ],
   "source": [
    "q = QuantumRegister(2, name=\"x\")\n",
    "c = ClassicalRegister(2, name=\"y\") \n",
    "\n",
    "qc = QuantumCircuit(q,c)\n",
    "qc.h(q[0])          # build a \n",
    "qc.cnot(q[0],q[1])  # Bell state\n",
    "\n",
    "qc.measure(q, c) # measure of all of q\n",
    "\n",
    "# To run the circuit, we initialize a backend\n",
    "backend = BasicAer.get_backend('qasm_simulator')\n",
    "\n",
    "# Then performs several runs of the circuit using this backend. Here we ask for 1024 runs.\n",
    "job = execute(qc, backend, shots=1024)\n",
    "\n",
    "# To retrieve the results -- note how we only get values for the single bit-register \n",
    "res = dict(job.result().get_counts(qc))\n",
    "\n",
    "res"
   ]
  },
  {
   "cell_type": "markdown",
   "metadata": {},
   "source": [
    "In what we just saw, we measured **all** of the system. The dictionary stores the number of times each key has been found with the final measure.\n",
    "\n",
    "We can however measure only part of the system: the rest is \"forgotten\". For instance, in the following we only measure the 1st qubit"
   ]
  },
  {
   "cell_type": "code",
   "execution_count": 5,
   "metadata": {},
   "outputs": [
    {
     "data": {
      "text/plain": [
       "{'0': 509, '1': 515}"
      ]
     },
     "execution_count": 5,
     "metadata": {},
     "output_type": "execute_result"
    }
   ],
   "source": [
    "q = QuantumRegister(2, name=\"x\")\n",
    "c = ClassicalRegister(1, name=\"y\")\n",
    "\n",
    "qc = QuantumCircuit(q,c)\n",
    "qc.h(q[0])          # on fabrique un \n",
    "qc.cnot(q[0],q[1])  # état de Bell\n",
    "\n",
    "\n",
    "qc.measure(q[0], c[0]) # mesure du premier qubit\n",
    "\n",
    "backend = BasicAer.get_backend('qasm_simulator')\n",
    "job = execute(qc, backend, shots=1024)\n",
    "res = dict(job.result().get_counts(qc))\n",
    "res"
   ]
  },
  {
   "cell_type": "markdown",
   "metadata": {},
   "source": [
    "Note how the keys only contain one bit : the content of the classical register "
   ]
  },
  {
   "cell_type": "markdown",
   "metadata": {},
   "source": [
    "\n",
    "# 3 - Order of the bits in the keys\n",
    "\n",
    "Unlike what we saw in class, the bit-vector has to be read \"by turning the head on the left\" with respect to the circuit: in a register $x$, the qubit $x_0$ (top wire) is the first one. This is also the case for the classical registers.\n",
    "\n",
    "Below a concrete example:"
   ]
  },
  {
   "cell_type": "code",
   "execution_count": 6,
   "metadata": {},
   "outputs": [
    {
     "data": {
      "text/plain": [
       "{'01': 1024}"
      ]
     },
     "execution_count": 6,
     "metadata": {},
     "output_type": "execute_result"
    }
   ],
   "source": [
    "q = QuantumRegister(2)\n",
    "c = ClassicalRegister(2)\n",
    "qc = QuantumCircuit(q,c)\n",
    "\n",
    "# Applying X on qubit 0\n",
    "qc.x(q[0])\n",
    "\n",
    "# So at the end, |x_0 x_1> is in state |10>\n",
    "qc.measure(q,c)\n",
    "\n",
    "qc.draw()\n",
    "\n",
    "# And now, in register c[0] we have 1 and in c[1] we have 0. \n",
    "backend = BasicAer.get_backend('qasm_simulator')\n",
    "job = execute(qc, backend, shots=1024)\n",
    "dict(job.result().get_counts(qc))"
   ]
  },
  {
   "cell_type": "markdown",
   "metadata": {},
   "source": [
    "A key should then be read $b_1b_0$ : the register $c$ is written \"$c_1c_0$\"."
   ]
  },
  {
   "cell_type": "markdown",
   "metadata": {},
   "source": [
    "# 4 - Boxing : unitaries and sub-circuits\n",
    "\n",
    "It is possible to look at a sub-circuit as a unitary gate. This circuit can then be used as many time as needed in another circuit.\n",
    "\n",
    "Beware: only circuits **without** classical registers can be boxed into a unitary gate..."
   ]
  },
  {
   "cell_type": "code",
   "execution_count": 7,
   "metadata": {},
   "outputs": [
    {
     "data": {
      "text/html": [
       "<pre style=\"word-wrap: normal;white-space: pre;background: #fff0;line-height: 1.1;font-family: &quot;Courier New&quot;,Courier,monospace\">     ┌───┐     \n",
       "x_0: ┤ H ├──■──\n",
       "     └───┘┌─┴─┐\n",
       "x_1: ─────┤ X ├\n",
       "          └───┘</pre>"
      ],
      "text/plain": [
       "     ┌───┐     \n",
       "x_0: ┤ H ├──■──\n",
       "     └───┘┌─┴─┐\n",
       "x_1: ─────┤ X ├\n",
       "          └───┘"
      ]
     },
     "execution_count": 7,
     "metadata": {},
     "output_type": "execute_result"
    }
   ],
   "source": [
    "# Let us build a circuit\n",
    "\n",
    "q = QuantumRegister(2, name=\"x\")\n",
    "aux = QuantumCircuit(q) # No classical registers !\n",
    "aux.h(q[0])\n",
    "aux.cnot(q[0],q[1])\n",
    "\n",
    "aux.draw()"
   ]
  },
  {
   "cell_type": "code",
   "execution_count": 8,
   "metadata": {},
   "outputs": [],
   "source": [
    "# We can now make a home-made gate using this circuit\n",
    "\n",
    "o = aux.to_gate(label=\"moncirc\") # name to be used in drawings"
   ]
  },
  {
   "cell_type": "code",
   "execution_count": 16,
   "metadata": {},
   "outputs": [
    {
     "data": {
      "text/html": [
       "<pre style=\"word-wrap: normal;white-space: pre;background: #fff0;line-height: 1.1;font-family: &quot;Courier New&quot;,Courier,monospace\">      ░ ┌──────────┐ ░              ░             \n",
       "x_0: ─░─┤0         ├─░──────────────░──────■──────\n",
       "      ░ │  moncirc │ ░ ┌──────────┐ ░      │      \n",
       "x_1: ─░─┤1         ├─░─┤1         ├─░──────┼──────\n",
       "      ░ └──────────┘ ░ │  moncirc │ ░ ┌────┴─────┐\n",
       "x_2: ─░──────────────░─┤0         ├─░─┤0         ├\n",
       "      ░              ░ └──────────┘ ░ │  moncirc │\n",
       "x_3: ─░──────────────░──────────────░─┤1         ├\n",
       "      ░              ░              ░ └──────────┘</pre>"
      ],
      "text/plain": [
       "      ░ ┌──────────┐ ░              ░             \n",
       "x_0: ─░─┤0         ├─░──────────────░──────■──────\n",
       "      ░ │  moncirc │ ░ ┌──────────┐ ░      │      \n",
       "x_1: ─░─┤1         ├─░─┤1         ├─░──────┼──────\n",
       "      ░ └──────────┘ ░ │  moncirc │ ░ ┌────┴─────┐\n",
       "x_2: ─░──────────────░─┤0         ├─░─┤0         ├\n",
       "      ░              ░ └──────────┘ ░ │  moncirc │\n",
       "x_3: ─░──────────────░──────────────░─┤1         ├\n",
       "      ░              ░              ░ └──────────┘"
      ]
     },
     "execution_count": 16,
     "metadata": {},
     "output_type": "execute_result"
    }
   ],
   "source": [
    "# We now have a new gate \"o\" acting on 2 qubits. We can use it as we want.\n",
    "\n",
    "q = QuantumRegister(4, name=\"x\")\n",
    "qc = QuantumCircuit(q)\n",
    "\n",
    "qc.barrier()  # To horizontally \"separate\" pieces of circuits, in drawings for instance.\n",
    "qc.append(o,[q[0],q[1]]) # adding an object \"UnitaryGate\" can be done with .append\n",
    "qc.barrier()\n",
    "qc.append(o,[q[2],q[1]]) # Check the numbering in the drawing !\n",
    "qc.barrier()\n",
    "qc.append(o.control(),[q[0],q[2],q[3]]) # We can control a door -- the first wire is the control qubit.\n",
    "\n",
    "qc.draw()\n"
   ]
  },
  {
   "cell_type": "code",
   "execution_count": 17,
   "metadata": {},
   "outputs": [
    {
     "data": {
      "text/html": [
       "<pre style=\"word-wrap: normal;white-space: pre;background: #fff0;line-height: 1.1;font-family: &quot;Courier New&quot;,Courier,monospace\">      ░ ┌───┐      ░            ░                      \n",
       "x_0: ─░─┤ H ├──■───░────────────░────────■──────────■──\n",
       "      ░ └───┘┌─┴─┐ ░      ┌───┐ ░        │          │  \n",
       "x_1: ─░──────┤ X ├─░──────┤ X ├─░────────┼──────────┼──\n",
       "      ░      └───┘ ░ ┌───┐└─┬─┘ ░ ┌──────┴───────┐  │  \n",
       "x_2: ─░────────────░─┤ H ├──■───░─┤ U(π/2,0,π,0) ├──■──\n",
       "      ░            ░ └───┘      ░ └──────────────┘┌─┴─┐\n",
       "x_3: ─░────────────░────────────░─────────────────┤ X ├\n",
       "      ░            ░            ░                 └───┘</pre>"
      ],
      "text/plain": [
       "      ░ ┌───┐      ░            ░                      \n",
       "x_0: ─░─┤ H ├──■───░────────────░────────■──────────■──\n",
       "      ░ └───┘┌─┴─┐ ░      ┌───┐ ░        │          │  \n",
       "x_1: ─░──────┤ X ├─░──────┤ X ├─░────────┼──────────┼──\n",
       "      ░      └───┘ ░ ┌───┐└─┬─┘ ░ ┌──────┴───────┐  │  \n",
       "x_2: ─░────────────░─┤ H ├──■───░─┤ U(π/2,0,π,0) ├──■──\n",
       "      ░            ░ └───┘      ░ └──────────────┘┌─┴─┐\n",
       "x_3: ─░────────────░────────────░─────────────────┤ X ├\n",
       "      ░            ░            ░                 └───┘"
      ]
     },
     "execution_count": 17,
     "metadata": {},
     "output_type": "execute_result"
    }
   ],
   "source": [
    "# One can open the boxes\n",
    "\n",
    "qc.decompose().draw()\n",
    "\n",
    "# Note how the controlled gate is splitted into native, elementary gates on 1 and 2 qubits."
   ]
  },
  {
   "cell_type": "markdown",
   "metadata": {},
   "source": [
    "# 5 - High-level operations on UnitaryGate\n",
    "\n",
    "Once we have a UnitaryGate object (for instance the 'o' object), one can perform various operations in it, such as\n",
    "* power\n",
    "* control\n",
    "* inverse\n",
    "\n",
    "However, the names get all mangled...\n",
    "\n",
    "Below some examples"
   ]
  },
  {
   "cell_type": "code",
   "execution_count": 18,
   "metadata": {},
   "outputs": [
    {
     "data": {
      "text/html": [
       "<pre style=\"word-wrap: normal;white-space: pre;background: #fff0;line-height: 1.1;font-family: &quot;Courier New&quot;,Courier,monospace\">     ┌────────────────┐┌──────────┐┌─────────────────┐┌──────────┐\n",
       "x_0: ┤0               ├┤0         ├┤0                ├┤0         ├\n",
       "     │  circuit-123^2 ││  Unitary ││  circuit-123_dg ││  moncirc │\n",
       "x_1: ┤1               ├┤1         ├┤1                ├┤1         ├\n",
       "     └────────────────┘└────┬─────┘└─────────────────┘└────┬─────┘\n",
       "x_2: ───────────────────────■──────────────────────────────o──────\n",
       "                            │                              │      \n",
       "x_3: ───────────────────────■──────────────────────────────■──────\n",
       "                                                                  </pre>"
      ],
      "text/plain": [
       "     ┌────────────────┐┌──────────┐┌─────────────────┐┌──────────┐\n",
       "x_0: ┤0               ├┤0         ├┤0                ├┤0         ├\n",
       "     │  circuit-123^2 ││  Unitary ││  circuit-123_dg ││  moncirc │\n",
       "x_1: ┤1               ├┤1         ├┤1                ├┤1         ├\n",
       "     └────────────────┘└────┬─────┘└─────────────────┘└────┬─────┘\n",
       "x_2: ───────────────────────■──────────────────────────────o──────\n",
       "                            │                              │      \n",
       "x_3: ───────────────────────■──────────────────────────────■──────\n",
       "                                                                  "
      ]
     },
     "execution_count": 18,
     "metadata": {},
     "output_type": "execute_result"
    }
   ],
   "source": [
    "q = QuantumRegister(4, name=\"x\")\n",
    "qc = QuantumCircuit(q)\n",
    "\n",
    "qc.append(o.power(2),[q[0],q[1]]) # will perform 'o' twice\n",
    "\n",
    "qc.append(o.power(5).control().control(),[q[2],q[3],q[0],q[1]]) # power and control can be combined \n",
    "\n",
    "qc.append(o.inverse(),[q[0],q[1]]) # for the inverse (the _dg in the name stands for \"dagger\")\n",
    "\n",
    "qc.append(o.control(num_ctrl_qubits=2, ctrl_state='10'),[q[2],q[3],q[0],q[1]]) \n",
    "    # one can perform a bunch of positive and negative controls in one go.\n",
    "          \n",
    "qc.draw()\n",
    "\n",
    "# Ugly names ! But the name somehow keep the power so we know where it comes from."
   ]
  },
  {
   "cell_type": "markdown",
   "metadata": {},
   "source": [
    "# 6 - Operators\n",
    "\n",
    "One can ask QisKit to build a circuit from an operator given as a matrix."
   ]
  },
  {
   "cell_type": "code",
   "execution_count": 23,
   "metadata": {},
   "outputs": [],
   "source": [
    "# What is doing this gate ?\n",
    "\n",
    "U = UnitaryGate(\n",
    "    Operator([[1,0,0,0],\n",
    "              [0,1,0,0],\n",
    "              [0,0,1,0],\n",
    "              [0,0,0,np.exp(pi*1j*1/4)]]), label=\"MyDoor\")"
   ]
  },
  {
   "cell_type": "markdown",
   "metadata": {},
   "source": [
    "The operator have to be a matrix of size power of $2$ --- the unitary gate then acts on the corresponding number of wires."
   ]
  },
  {
   "cell_type": "code",
   "execution_count": 24,
   "metadata": {},
   "outputs": [
    {
     "data": {
      "text/html": [
       "<pre style=\"word-wrap: normal;white-space: pre;background: #fff0;line-height: 1.1;font-family: &quot;Courier New&quot;,Courier,monospace\">       ┌───┐┌─────────┐\n",
       "q69_0: ┤ X ├┤0        ├\n",
       "       ├───┤│  MyDoor │\n",
       "q69_1: ┤ X ├┤1        ├\n",
       "       └───┘└─────────┘</pre>"
      ],
      "text/plain": [
       "       ┌───┐┌─────────┐\n",
       "q69_0: ┤ X ├┤0        ├\n",
       "       ├───┤│  MyDoor │\n",
       "q69_1: ┤ X ├┤1        ├\n",
       "       └───┘└─────────┘"
      ]
     },
     "execution_count": 24,
     "metadata": {},
     "output_type": "execute_result"
    }
   ],
   "source": [
    "q = QuantumRegister(2)\n",
    "qc = QuantumCircuit(q)\n",
    "\n",
    "qc.x(q) # State initialized to |11>\n",
    "\n",
    "qc.append(U,q) # In principle, a phase shift should occur.\n",
    "\n",
    "qc.draw()"
   ]
  },
  {
   "cell_type": "markdown",
   "metadata": {},
   "source": [
    "Let us check the phase shift by using another backend: 'statevector_simulator', keeping track of the state vector."
   ]
  },
  {
   "cell_type": "code",
   "execution_count": 25,
   "metadata": {},
   "outputs": [
    {
     "name": "stdout",
     "output_type": "stream",
     "text": [
      "Statevector([0.        +0.j        , 0.        +0.j        ,\n",
      "             0.        +0.j        , 0.70710678+0.70710678j],\n",
      "            dims=(2, 2))\n"
     ]
    }
   ],
   "source": [
    "backend = Aer.get_backend('statevector_simulator')\n",
    "job = execute(qc, backend=backend, shots=1, memory=True)\n",
    "job_result = job.result()\n",
    "print(job_result.get_statevector(qc))\n",
    "\n",
    "# There has indeed been a phase shift !"
   ]
  },
  {
   "cell_type": "code",
   "execution_count": null,
   "metadata": {},
   "outputs": [],
   "source": []
  }
 ],
 "metadata": {
  "kernelspec": {
   "display_name": "Python 3 (ipykernel)",
   "language": "python",
   "name": "python3"
  },
  "language_info": {
   "codemirror_mode": {
    "name": "ipython",
    "version": 3
   },
   "file_extension": ".py",
   "mimetype": "text/x-python",
   "name": "python",
   "nbconvert_exporter": "python",
   "pygments_lexer": "ipython3",
   "version": "3.10.7"
  }
 },
 "nbformat": 4,
 "nbformat_minor": 4
}
