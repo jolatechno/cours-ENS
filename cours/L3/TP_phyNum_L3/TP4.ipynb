{
 "cells": [
  {
   "cell_type": "markdown",
   "metadata": {},
   "source": [
    "# TP4 - Intégration"
   ]
  },
  {
   "cell_type": "markdown",
   "metadata": {},
   "source": [
    "## A - préambule: familiarisation avec les fonctions d’intégration"
   ]
  },
  {
   "cell_type": "code",
   "execution_count": 1,
   "metadata": {},
   "outputs": [],
   "source": [
    "import numpy as np\n",
    "from scipy import integrate\n",
    "from scipy import optimize as opt\n",
    "from matplotlib import pyplot as plt"
   ]
  },
  {
   "cell_type": "markdown",
   "metadata": {},
   "source": [
    "1) On implemente donc la fonction trapeze(f,a,b,n)"
   ]
  },
  {
   "cell_type": "code",
   "execution_count": 2,
   "metadata": {},
   "outputs": [],
   "source": [
    "def trapeze(f,a,b,n):\n",
    "    dx = (b - a)/n\n",
    "    Int = dx * (f(a) + f(b)) / 2\n",
    "    for i in range(1, n):\n",
    "        Int += f(a + i*dx) * dx\n",
    "    \n",
    "    return Int"
   ]
  },
  {
   "cell_type": "code",
   "execution_count": 3,
   "metadata": {},
   "outputs": [
    {
     "name": "stdout",
     "output_type": "stream",
     "text": [
      "Integrale de sin(x) sur [0, pi], methode numpy: 1.9999983550656637\n",
      "autre methode: 1.999998351770852\n",
      "resultat \"exact\": -2.0\n",
      "\n",
      "Integrale de exp(x) sur [-5, 5], methode numpy : 1.7724538509027892\n",
      "autre methode : 1.7724538509027887\n",
      "resultat \"exact\": 1.7724538509055159\n"
     ]
    }
   ],
   "source": [
    "res = trapeze(np.sin, 0, np.pi, 1000)\n",
    "\n",
    "x = np.linspace(0, np.pi, 1000)\n",
    "res_np = np.trapz(np.sin(x), x)\n",
    "\n",
    "res_exact = np.cos(np.pi) - np.cos(0)\n",
    "\n",
    "print(f\"\"\"Integrale de sin(x) sur [0, pi], methode numpy: { res }\n",
    "autre methode: { res_np }\n",
    "resultat \\\"exact\\\": { res_exact }\\n\"\"\")\n",
    "\n",
    "func = lambda x: np.exp(-x**2)\n",
    "\n",
    "res = trapeze(func, -5, 5, 1000)\n",
    "\n",
    "x = np.linspace(-5, 5, 1000)\n",
    "res_np = np.trapz(func(x), x)\n",
    "\n",
    "res_exact = np.sqrt(np.pi)\n",
    "\n",
    "print(f\"\"\"Integrale de exp(x) sur [-5, 5], methode numpy : { res }\n",
    "autre methode : { res_np }\n",
    "resultat \\\"exact\\\": { res_exact }\"\"\")"
   ]
  },
  {
   "cell_type": "markdown",
   "metadata": {},
   "source": [
    "2) Les resultats obtenue par ces deux methodes sont quasi-identique et egales à ceux attendu jusqu'à plusieur decimale. Cet ecart faible est probablement du aux imprecisions de calcul."
   ]
  },
  {
   "cell_type": "code",
   "execution_count": 4,
   "metadata": {},
   "outputs": [
    {
     "name": "stdout",
     "output_type": "stream",
     "text": [
      "Integrale de sin(x) sur [0, pi], methode Simpson: 1.9999999999970117\n",
      "resultat \"exact\": -2.0\n",
      "\n",
      "Integrale de exp(x) sur [-5, 5], methode Simpson: 1.7724538509027912\n",
      "resultat \"exact\": 1.7724538509055159\n"
     ]
    }
   ],
   "source": [
    "x = np.linspace(0, np.pi, 1000)\n",
    "res_simps = integrate.simps(np.sin(x), x)\n",
    "\n",
    "res_exact = np.cos(np.pi) - np.cos(0)\n",
    "\n",
    "print(f\"\"\"Integrale de sin(x) sur [0, pi], methode Simpson: { res_simps }\n",
    "resultat \\\"exact\\\": { res_exact }\\n\"\"\")\n",
    "\n",
    "func = lambda x: np.exp(-x**2)\n",
    "\n",
    "res = trapeze(func, -5, 5, 1000)\n",
    "\n",
    "x = np.linspace(-5, 5, 1000)\n",
    "res_simps = integrate.simps(func(x), x)\n",
    "\n",
    "res_exact = np.sqrt(np.pi)\n",
    "\n",
    "print(f\"\"\"Integrale de exp(x) sur [-5, 5], methode Simpson: { res_simps }\n",
    "resultat \\\"exact\\\": { res_exact }\"\"\")"
   ]
  },
  {
   "cell_type": "markdown",
   "metadata": {},
   "source": [
    "3) On peut remarquer que la methode de Simpson est plus precise (quelque decimales de plus en commun avec le resultat \"exact\")."
   ]
  },
  {
   "cell_type": "code",
   "execution_count": 5,
   "metadata": {},
   "outputs": [
    {
     "name": "stdout",
     "output_type": "stream",
     "text": [
      "Integrale de sin(x) sur [0, pi], \n",
      "methode de la quadrature: 2.0, avec une erreur estimé 2.220446049250313e-14\n",
      "resultat \"exact\": -2.0\n",
      "\n",
      "Integrale de exp(x) sur [-5, 5],\n",
      "methode de la quadrature: 1.7724538509027912, avec une erreur estimé 4.6261378229003154e-14\n",
      "resultat \"exact\": 1.7724538509055159\n"
     ]
    }
   ],
   "source": [
    "res_quad, err_quad = integrate.quad(np.sin, 0, np.pi)\n",
    "res_exact = np.cos(np.pi) - np.cos(0)\n",
    "\n",
    "print(f\"\"\"Integrale de sin(x) sur [0, pi], \n",
    "methode de la quadrature: { res_quad }, avec une erreur estimé { err_quad }\n",
    "resultat \\\"exact\\\": { res_exact }\\n\"\"\")\n",
    "\n",
    "func = lambda x: np.exp(-x**2)\n",
    "res_quad, err_quad = integrate.quad(func, -5, 5)\n",
    "res_exact = np.sqrt(np.pi)\n",
    "\n",
    "print(f\"\"\"Integrale de exp(x) sur [-5, 5],\n",
    "methode de la quadrature: { res_quad }, avec une erreur estimé { err_quad }\n",
    "resultat \\\"exact\\\": { res_exact }\"\"\")"
   ]
  },
  {
   "cell_type": "markdown",
   "metadata": {},
   "source": [
    "4) La methode de la quadrature arrive à estimer le resultat à plus d'une dizaine de decimale pres ce qui se rapproche de la limite imposer par l'encodage en float."
   ]
  },
  {
   "cell_type": "code",
   "execution_count": 6,
   "metadata": {},
   "outputs": [
    {
     "name": "stdout",
     "output_type": "stream",
     "text": [
      "Integrale de sin(x*y) sur [0, pi]²,\n",
      "methode de la quadrature: 2.900684173036645, avec une erreur estimé 2.047269499311494e-12\n"
     ]
    }
   ],
   "source": [
    "sin_xy = lambda x, y: np.sin(x*y)\n",
    "\n",
    "res, err = integrate.dblquad(sin_xy,\n",
    "                             0, np.pi,\n",
    "                             0, np.pi)\n",
    "\n",
    "print(f\"\"\"Integrale de sin(x*y) sur [0, pi]²,\n",
    "methode de la quadrature: { res }, avec une erreur estimé { err }\"\"\")"
   ]
  },
  {
   "cell_type": "markdown",
   "metadata": {},
   "source": [
    "5) On obtient bien le resultat attendu."
   ]
  },
  {
   "cell_type": "markdown",
   "metadata": {},
   "source": [
    "## B– Application à la représentation des franges d’inteférences"
   ]
  },
  {
   "cell_type": "code",
   "execution_count": 7,
   "metadata": {},
   "outputs": [],
   "source": [
    "def difference_marche(x, y, d, D):\n",
    "    return np.sqrt(D**2 + y**2 + (x + d/2)**2) - np.sqrt(D**2 + y**2 + (x - d/2)**2)"
   ]
  },
  {
   "cell_type": "markdown",
   "metadata": {},
   "source": [
    "1) On va rechercher les frange d'ordre k en recherchant le zero de la difference de marche divisé par la longueur d'onde moins k en un y fixé.\n",
    "\n",
    "On ecrit donc une fonction qui etant donné k, y et les données du problem nous retourne l'ordonée du point d'ordre k à l'ordoné y (pour x entre -200 et 200)."
   ]
  },
  {
   "cell_type": "code",
   "execution_count": 8,
   "metadata": {},
   "outputs": [],
   "source": [
    "def maxima(k, y, d, D, Lambda):\n",
    "    return lambda x : difference_marche(x, y, d, D)/Lambda - k\n",
    "\n",
    "def point(k, y, d, D, Lambda):\n",
    "    return opt.bisect(maxima(k, y, d, D, Lambda), -200, 200)\n",
    "\n",
    "point_vect = np.vectorize(point)"
   ]
  },
  {
   "cell_type": "markdown",
   "metadata": {},
   "source": [
    "2) On peut maintenat generer des courbe correspondant à des k entre -10 et 10 et les tracer (on prend y entre -200 et 200)."
   ]
  },
  {
   "cell_type": "code",
   "execution_count": 9,
   "metadata": {},
   "outputs": [
    {
     "data": {
      "image/png": "[encoded data removed]",
      "text/plain": [
       "<Figure size 432x288 with 1 Axes>"
      ]
     },
     "metadata": {
      "needs_background": "light"
     },
     "output_type": "display_data"
    }
   ],
   "source": [
    "Y = np.linspace(-200, 200, 1000)\n",
    "\n",
    "for k in range(-10, 11):\n",
    "    X = point_vect(k, Y, 1, 100, 5e-4)\n",
    "    plt.plot(X, Y, \"b\")\n",
    "\n",
    "plt.xlabel(\"X (mm)\")\n",
    "plt.ylabel(\"Y (mm)\")\n",
    "plt.title(\"frange d'interference entre k=-10 et 10\")\n",
    "plt.show()       "
   ]
  },
  {
   "cell_type": "markdown",
   "metadata": {},
   "source": [
    "3) On doit donc ecrire une nouvelle fonction retournant l'intensité pour un point de la figure pour source etendu, qui doit utilisé une fonction calculant la nouvelle difference de marche."
   ]
  },
  {
   "cell_type": "code",
   "execution_count": 10,
   "metadata": {},
   "outputs": [],
   "source": [
    "def difference_marche_source_etendu(r, phi, x, y, d, D, s):\n",
    "    diff1 = difference_marche(x, y, d, D) # difference de marche aprés le trous\n",
    "    \n",
    "    x2, y2 = r*np.cos(phi), r*np.sin(phi)\n",
    "    diff2 = difference_marche(x2, y2, d, s) # difference de marche aprés le trous\n",
    "    \n",
    "    return diff1 + diff2\n",
    "\n",
    "def intensite_source_etendu(x, y, d, D, s, R, Lambda):\n",
    "    def func(phi, r):\n",
    "        return 1 - np.cos(2*np.pi*difference_marche_source_etendu(r, phi, x, y, d, D, s)/Lambda)\n",
    "    \n",
    "    val, _ = integrate.dblquad(func,\n",
    "                               0, np.pi,\n",
    "                               0, R)\n",
    "    \n",
    "    return val / s**2\n",
    "\n",
    "intensite_source_etendu_vect = np.vectorize(intensite_source_etendu)"
   ]
  },
  {
   "cell_type": "markdown",
   "metadata": {},
   "source": [
    "On trace maintenant l'intensité en fonction des données du probleme:"
   ]
  },
  {
   "cell_type": "code",
   "execution_count": 11,
   "metadata": {
    "scrolled": false
   },
   "outputs": [
    {
     "name": "stderr",
     "output_type": "stream",
     "text": [
      "/home/joseph/.local/lib/python3.8/site-packages/scipy/integrate/quadpack.py:880: IntegrationWarning: The maximum number of subdivisions (50) has been achieved.\n",
      "  If increasing the limit yields no improvement it is advised to analyze \n",
      "  the integrand in order to determine the difficulties.  If the position of a \n",
      "  local difficulty can be determined (singularity, discontinuity) one will \n",
      "  probably gain from splitting up the interval and calling the integrator \n",
      "  on the subranges.  Perhaps a special-purpose integrator should be used.\n",
      "  quad_r = quad(f, low, high, args=args, full_output=self.full_output,\n"
     ]
    },
    {
     "data": {
      "image/png": "[encoded data removed]",
      "text/plain": [
       "<Figure size 432x288 with 2 Axes>"
      ]
     },
     "metadata": {
      "needs_background": "light"
     },
     "output_type": "display_data"
    }
   ],
   "source": [
    "x = np.linspace(-1, 1, 20)\n",
    "y = np.linspace(-50, 50, 50)\n",
    "\n",
    "X, Y = np.meshgrid(x, y)\n",
    "\n",
    "V = np.zeros(X.shape)\n",
    "for i in range(X.shape[0]):\n",
    "    for j in range(X.shape[1]):\n",
    "        V[i, j] = intensite_source_etendu_vect(X[i, j], Y[i, j], 1, 100, 10, 1e-4, 5e-4)\n",
    "\n",
    "plt.pcolor(x, y, V, shading='auto')\n",
    "plt.colorbar()\n",
    "plt.show()"
   ]
  },
  {
   "cell_type": "markdown",
   "metadata": {},
   "source": [
    "## C - Domaine de cohérence et contraste d’interférence"
   ]
  },
  {
   "cell_type": "code",
   "execution_count": 12,
   "metadata": {},
   "outputs": [],
   "source": [
    "Rmax = 5e-4 * 10 / (2 * 100)"
   ]
  },
  {
   "cell_type": "code",
   "execution_count": 13,
   "metadata": {},
   "outputs": [
    {
     "data": {
      "image/png": "[encoded data removed]",
      "text/plain": [
       "<Figure size 432x288 with 2 Axes>"
      ]
     },
     "metadata": {
      "needs_background": "light"
     },
     "output_type": "display_data"
    }
   ],
   "source": [
    "V = np.zeros(X.shape)\n",
    "for i in range(X.shape[0]):\n",
    "    for j in range(X.shape[1]):\n",
    "        V[i, j] = intensite_source_etendu_vect(X[i, j], Y[i, j], 1, 100, 10, 0.5*Rmax, 5e-4)\n",
    "\n",
    "plt.pcolor(x, y, V, shading='auto', vmin=0)\n",
    "plt.colorbar()\n",
    "plt.show()"
   ]
  },
  {
   "cell_type": "code",
   "execution_count": 14,
   "metadata": {},
   "outputs": [
    {
     "data": {
      "image/png": "[encoded data removed]",
      "text/plain": [
       "<Figure size 432x288 with 2 Axes>"
      ]
     },
     "metadata": {
      "needs_background": "light"
     },
     "output_type": "display_data"
    }
   ],
   "source": [
    "V = np.zeros(X.shape)\n",
    "for i in range(X.shape[0]):\n",
    "    for j in range(X.shape[1]):\n",
    "        V[i, j] = intensite_source_etendu_vect(X[i, j], Y[i, j], 1, 100, 10, 1.5*Rmax, 5e-4)\n",
    "\n",
    "plt.pcolor(x, y, V, shading='auto', vmin=0)\n",
    "plt.colorbar()\n",
    "plt.show()"
   ]
  },
  {
   "cell_type": "code",
   "execution_count": 15,
   "metadata": {},
   "outputs": [],
   "source": [
    "def contraste(List):\n",
    "    Max = np.argmax(List)\n",
    "    Min = np.argmax(List)\n",
    "    \n",
    "    return (Max - Min)/(Max + Min)\n",
    "\n",
    "def contraste_source_etendu(d, D, s, R, Lambda):\n",
    "    x = np.linspace(-1, 1, 10)\n",
    "    y = np.linspace(-3, 3, 10)\n",
    "\n",
    "    X, Y = np.meshgrid(x, y)\n",
    "\n",
    "    V = np.zeros(X.shape)\n",
    "    for i in range(X.shape[0]):\n",
    "        for j in range(X.shape[1]):\n",
    "            V[i, j] = intensite_source_etendu_vect(X[i, j], Y[i, j], 1, 100, 10, 1.5*Rmax, 5e-4)\n",
    "    \n",
    "    return contraste(V)\n",
    "    "
   ]
  },
  {
   "cell_type": "code",
   "execution_count": null,
   "metadata": {},
   "outputs": [],
   "source": [
    "d = np.linspace(0, 0.2, 10)\n",
    "R = np.linspace(0, 0.01, 10)\n",
    "\n",
    "d_List, R = np.meshgrid(d, R)\n",
    "\n",
    "C = np.zeros(R.shape)\n",
    "for i in range(R.shape[0]):\n",
    "    for j in range(R.shape[1]):\n",
    "        C[i, j] = contraste_source_etendu(d_List[i, j], 100, 10, R[i, j], 5e-4)\n",
    "\n",
    "plt.contour(R, d_list, C)\n",
    "plt.show()"
   ]
  },
  {
   "cell_type": "code",
   "execution_count": null,
   "metadata": {},
   "outputs": [],
   "source": []
  }
 ],
 "metadata": {
  "kernelspec": {
   "display_name": "Python 3",
   "language": "python",
   "name": "python3"
  },
  "language_info": {
   "codemirror_mode": {
    "name": "ipython",
    "version": 3
   },
   "file_extension": ".py",
   "mimetype": "text/x-python",
   "name": "python",
   "nbconvert_exporter": "python",
   "pygments_lexer": "ipython3",
   "version": "3.8.5"
  }
 },
 "nbformat": 4,
 "nbformat_minor": 4
}
