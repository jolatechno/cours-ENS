{
 "cells": [
  {
   "cell_type": "markdown",
   "id": "9f55fed4-d7ef-4847-8aa7-abe772b64e45",
   "metadata": {},
   "source": [
    "# Statistical physics of graphs and networks\n",
    "## *Project:* study of the configuration model of random graphs\n",
    "### *Master in physics of complex systems*\n",
    "Joseph Touzet\n",
    "\n",
    "We first import a few packages:"
   ]
  },
  {
   "cell_type": "code",
   "execution_count": 12,
   "id": "c342b798-4904-46ea-8c88-8bfd302cf743",
   "metadata": {},
   "outputs": [],
   "source": [
    "import numpy as np\n",
    "import random\n",
    "import networkx as nx\n",
    "import matplotlib.pyplot as plt"
   ]
  },
  {
   "cell_type": "markdown",
   "id": "b0594d3b-1bf3-4f91-b2e2-29c5f57d7f29",
   "metadata": {},
   "source": [
    "We will use _networkx_ to manage and plot networks.\n",
    "\n",
    "We also define the parameter for ploting networks:"
   ]
  },
  {
   "cell_type": "code",
   "execution_count": 13,
   "id": "37291d55-9ace-4cd1-aadd-fa6caf3848fd",
   "metadata": {},
   "outputs": [],
   "source": [
    "options = {\n",
    "    \"font_size\": 2,\n",
    "    \"node_size\": 10,\n",
    "    \"node_color\": \"white\",\n",
    "    \"edgecolors\": \"black\",\n",
    "    \"linewidths\": 4,\n",
    "    \"width\": 3,\n",
    "}"
   ]
  },
  {
   "cell_type": "markdown",
   "id": "40798901-b893-40d3-8f50-bdb05afdcc1e",
   "metadata": {},
   "source": [
    "### Problem 1: Generation of instances of the random graph model\n",
    "\n",
    "First we will implement a few utility functions:"
   ]
  },
  {
   "cell_type": "code",
   "execution_count": 3,
   "id": "1bb29e77-d44d-40c0-a99d-1b015c116a8d",
   "metadata": {},
   "outputs": [],
   "source": [
    "def choose_and_pop_from_list(items):\n",
    "    index = random.randrange(len(items))\n",
    "    return items.pop(index)"
   ]
  },
  {
   "cell_type": "markdown",
   "id": "dc9ffce9-f5c6-4435-8a4e-aeac084b17dd",
   "metadata": {},
   "source": [
    "And then move on to the main asked functions:"
   ]
  },
  {
   "cell_type": "code",
   "execution_count": 76,
   "id": "8df5f2b6-f445-406c-9989-6af72809ec9f",
   "metadata": {},
   "outputs": [],
   "source": [
    "def gen_rgm(N, pi):\n",
    "    G = nx.Graph()\n",
    "    for i in range(N):\n",
    "        G.add_node(i)\n",
    "\n",
    "    n_d1 = int(np.round(N*(1 - pi)/2)*2) # so that n_d1 + 4*n_d4 is pair\n",
    "    n_d4 = N - n_d1\n",
    "\n",
    "    stubs = []\n",
    "    for i in range(n_d1):\n",
    "        stubs.append(i)\n",
    "    for i in range(n_d1, N):\n",
    "        for j in range(4):\n",
    "            stubs.append(i)\n",
    "    \n",
    "    while stubs:\n",
    "        j = choose_and_pop_from_list(stubs)\n",
    "        k = choose_and_pop_from_list(stubs)\n",
    "        G.add_edge(j, k)\n",
    "        G.add_edge(k, j)\n",
    "\n",
    "    return G\n",
    "\n",
    "def gen_rgm_biased(N, pi):\n",
    "    G = nx.Graph()\n",
    "    for i in range(N):\n",
    "        G.add_node(i)\n",
    "\n",
    "    n_d1 = int(np.round(N*(1 - pi)/2)*2) # so that n_d1 + 4*n_d4 is pair\n",
    "    n_d4 = N - n_d1\n",
    "\n",
    "    stubs = []\n",
    "    for i in range(n_d1):\n",
    "        stubs.append(i)\n",
    "    for i in range(n_d1, N):\n",
    "        for j in range(4):\n",
    "            stubs.append(i)\n",
    "    \n",
    "    while stubs:\n",
    "        j = choose_and_pop_from_list(stubs)\n",
    "        k = choose_and_pop_from_list(stubs)\n",
    "        if k != j and not G.has_edge(j, k):\n",
    "            G.add_edge(j, k)\n",
    "            G.add_edge(k, j)\n",
    "\n",
    "    return G"
   ]
  },
  {
   "cell_type": "markdown",
   "id": "da2f2afa-eea5-4fb3-8906-e0c32424e21a",
   "metadata": {},
   "source": [
    "Which we then test:"
   ]
  },
  {
   "cell_type": "code",
   "execution_count": 77,
   "id": "4a4d1152-9a4b-4699-b48c-1b4111584616",
   "metadata": {},
   "outputs": [
    {
     "data": {
      "image/png": "[encoded data removed]",
      "text/plain": [
       "<Figure size 640x480 with 1 Axes>"
      ]
     },
     "metadata": {},
     "output_type": "display_data"
    }
   ],
   "source": [
    "graph = gen_rgm_biased(20, 0.2)\n",
    "\n",
    "nx.draw_networkx(graph, **options)"
   ]
  },
  {
   "cell_type": "markdown",
   "id": "3f05319f-722f-4b07-b99e-33b31857e655",
   "metadata": {},
   "source": [
    "## Problem 2: The giant component\n",
    "\n",
    "We first need a function that (recursivly) walks through a graph to get the connected component starting from a given node:"
   ]
  },
  {
   "cell_type": "code",
   "execution_count": 78,
   "id": "8a78cd9b-d7e3-4c2b-8473-c897af052477",
   "metadata": {},
   "outputs": [],
   "source": [
    "def get_connected_component(graph, node, visited=None):\n",
    "    if visited is None:\n",
    "        visited = []\n",
    "    visited.append(node)\n",
    "    \n",
    "    for neighbor in graph.neighbors(node):\n",
    "        if neighbor not in visited:\n",
    "            connected = get_connected_component(graph, neighbor, visited)\n",
    "            \n",
    "            for connected_node in connected:\n",
    "                if connected_node not in visited:\n",
    "                    visited.append(connected_node)\n",
    "    return visited"
   ]
  },
  {
   "cell_type": "markdown",
   "id": "999c5cdb-9f99-4360-a49e-9157867c1d5d",
   "metadata": {},
   "source": [
    "We then use this function to efficently go through connected components (once per connected components), and return the largest connected components once there is not enough nodes to hope to find another even larger connected component:"
   ]
  },
  {
   "cell_type": "code",
   "execution_count": 79,
   "id": "4b3bc558-9c10-48a2-9452-ff128e08a468",
   "metadata": {},
   "outputs": [],
   "source": [
    "def find_largest_connected_component(graph):\n",
    "    n_nodes     = graph.number_of_nodes()\n",
    "    not_visited = list(range(n_nodes))\n",
    "    \n",
    "    largest_connected_component = []\n",
    "    while True:\n",
    "        starting_node = not_visited[0]\n",
    "        connected_component = get_connected_component(graph, starting_node)\n",
    "\n",
    "        for node in connected_component:\n",
    "            not_visited.remove(node)\n",
    "\n",
    "        if len(connected_component) >= len(largest_connected_component):\n",
    "            largest_connected_component = connected_component\n",
    "            \n",
    "        if len(not_visited) <= len(largest_connected_component):\n",
    "            return largest_connected_component"
   ]
  },
  {
   "cell_type": "code",
   "execution_count": 80,
   "id": "16c05eee-02e1-460f-8ba1-0937ca5124ac",
   "metadata": {},
   "outputs": [
    {
     "data": {
      "image/png": "[encoded data removed]",
      "text/plain": [
       "<Figure size 640x480 with 1 Axes>"
      ]
     },
     "metadata": {},
     "output_type": "display_data"
    }
   ],
   "source": [
    "largest_connected_component = find_largest_connected_component(graph)\n",
    "largest_connected_subgraph = graph.subgraph(largest_connected_component)\n",
    "\n",
    "nx.draw_networkx(largest_connected_subgraph, **options)"
   ]
  },
  {
   "cell_type": "markdown",
   "id": "4a06de65-3bdc-4365-84d6-5fa4f411441b",
   "metadata": {},
   "source": [
    "(a) We can now plot the average proportion of nodes inside of the giant component versus the value of $\\pi$:"
   ]
  },
  {
   "cell_type": "code",
   "execution_count": 92,
   "id": "b72ca611-ef94-464e-aabc-41feb4684e61",
   "metadata": {},
   "outputs": [
    {
     "data": {
      "text/plain": [
       "[<matplotlib.lines.Line2D at 0x7f269d471490>]"
      ]
     },
     "execution_count": 92,
     "metadata": {},
     "output_type": "execute_result"
    },
    {
     "data": {
      "image/png": "[encoded data removed]",
      "text/plain": [
       "<Figure size 640x480 with 1 Axes>"
      ]
     },
     "metadata": {},
     "output_type": "display_data"
    }
   ],
   "source": [
    "N, size = 10, 200\n",
    "pis = np.linspace(0, 1, 15)\n",
    "\n",
    "avg_size = []\n",
    "for pi in pis:\n",
    "    avg_size.append(0)\n",
    "    for n in range(N):\n",
    "        graph = gen_rgm_biased(size, pi)\n",
    "        largest_connected_component = find_largest_connected_component(graph)\n",
    "        avg_size[-1] += len(largest_connected_component)\n",
    "    avg_size[-1] /= N*size\n",
    "\n",
    "plt.plot(pis, avg_size)"
   ]
  },
  {
   "cell_type": "code",
   "execution_count": null,
   "id": "cd128ad1-4421-4743-a3ba-e7987bf1eaf3",
   "metadata": {},
   "outputs": [],
   "source": []
  }
 ],
 "metadata": {
  "kernelspec": {
   "display_name": "Python 3 (ipykernel)",
   "language": "python",
   "name": "python3"
  },
  "language_info": {
   "codemirror_mode": {
    "name": "ipython",
    "version": 3
   },
   "file_extension": ".py",
   "mimetype": "text/x-python",
   "name": "python",
   "nbconvert_exporter": "python",
   "pygments_lexer": "ipython3",
   "version": "3.11.6"
  }
 },
 "nbformat": 4,
 "nbformat_minor": 5
}
