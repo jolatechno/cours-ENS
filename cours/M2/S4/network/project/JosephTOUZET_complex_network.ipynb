{
 "cells": [
  {
   "cell_type": "markdown",
   "id": "9f55fed4-d7ef-4847-8aa7-abe772b64e45",
   "metadata": {},
   "source": [
    "# Statistical physics of graphs and networks\n",
    "## *Project:* study of the configuration model of random graphs\n",
    "### *Master in physics of complex systems*\n",
    "Joseph Touzet\n",
    "\n",
    "### Problem 1: Generation of instances of the random graph model."
   ]
  },
  {
   "cell_type": "code",
   "execution_count": null,
   "id": "c342b798-4904-46ea-8c88-8bfd302cf743",
   "metadata": {},
   "outputs": [],
   "source": []
  }
 ],
 "metadata": {
  "kernelspec": {
   "display_name": "Python 3 (ipykernel)",
   "language": "python",
   "name": "python3"
  },
  "language_info": {
   "codemirror_mode": {
    "name": "ipython",
    "version": 3
   },
   "file_extension": ".py",
   "mimetype": "text/x-python",
   "name": "python",
   "nbconvert_exporter": "python",
   "pygments_lexer": "ipython3",
   "version": "3.11.6"
  }
 },
 "nbformat": 4,
 "nbformat_minor": 5
}
