{
 "cells": [
  {
   "cell_type": "markdown",
   "id": "9f55fed4-d7ef-4847-8aa7-abe772b64e45",
   "metadata": {},
   "source": [
    "# Statistical physics of graphs and networks\n",
    "## *Project:* study of the configuration model of random graphs\n",
    "### *Master in physics of complex systems*\n",
    "Joseph Touzet\n",
    "\n",
    "We first import a few packages:"
   ]
  },
  {
   "cell_type": "code",
   "execution_count": 1,
   "id": "c342b798-4904-46ea-8c88-8bfd302cf743",
   "metadata": {},
   "outputs": [],
   "source": [
    "import numpy as np\n",
    "import random\n",
    "import networkx as nx\n",
    "import matplotlib.pyplot as plt"
   ]
  },
  {
   "cell_type": "markdown",
   "id": "b0594d3b-1bf3-4f91-b2e2-29c5f57d7f29",
   "metadata": {},
   "source": [
    "We will use _networkx_ to manage and plot networks.\n",
    "\n",
    "We also define the parameter for ploting networks:"
   ]
  },
  {
   "cell_type": "code",
   "execution_count": 2,
   "id": "37291d55-9ace-4cd1-aadd-fa6caf3848fd",
   "metadata": {},
   "outputs": [],
   "source": [
    "options = {\n",
    "    \"font_size\": 2,\n",
    "    \"node_size\": 10,\n",
    "    \"node_color\": \"white\",\n",
    "    \"edgecolors\": \"black\",\n",
    "    \"linewidths\": 4,\n",
    "    \"width\": 3,\n",
    "}"
   ]
  },
  {
   "cell_type": "markdown",
   "id": "40798901-b893-40d3-8f50-bdb05afdcc1e",
   "metadata": {},
   "source": [
    "### Problem 1: Generation of instances of the random graph model\n",
    "\n",
    "First we will implement a few utility functions:"
   ]
  },
  {
   "cell_type": "code",
   "execution_count": 3,
   "id": "1bb29e77-d44d-40c0-a99d-1b015c116a8d",
   "metadata": {},
   "outputs": [],
   "source": [
    "def choose_and_pop_from_list(items):\n",
    "    index = random.randrange(len(items))\n",
    "    return items.pop(index)"
   ]
  },
  {
   "cell_type": "markdown",
   "id": "dc9ffce9-f5c6-4435-8a4e-aeac084b17dd",
   "metadata": {},
   "source": [
    "And then move on to the main asked functions:"
   ]
  },
  {
   "cell_type": "code",
   "execution_count": 4,
   "id": "8df5f2b6-f445-406c-9989-6af72809ec9f",
   "metadata": {},
   "outputs": [],
   "source": [
    "def gen_rgm(N, pi):\n",
    "    G = nx.Graph()\n",
    "    for i in range(N):\n",
    "        G.add_node(i)\n",
    "\n",
    "    n_d1 = int(np.round(N*(1 - pi)/2)*2) # so that n_d1 + 4*n_d4 is pair\n",
    "    n_d4 = N - n_d1\n",
    "\n",
    "    stubs = []\n",
    "    for i in range(n_d1):\n",
    "        stubs.append(i)\n",
    "    for i in range(n_d1, N):\n",
    "        for j in range(4):\n",
    "            stubs.append(i)\n",
    "    \n",
    "    while stubs:\n",
    "        j = choose_and_pop_from_list(stubs)\n",
    "        k = choose_and_pop_from_list(stubs)\n",
    "        G.add_edge(j, k)\n",
    "        G.add_edge(k, j)\n",
    "\n",
    "    return G\n",
    "\n",
    "def gen_rgm_biased(N, pi):\n",
    "    G = nx.Graph()\n",
    "    for i in range(N):\n",
    "        G.add_node(i)\n",
    "\n",
    "    n_d1 = int(np.round(N*(1 - pi)/2)*2) # so that n_d1 + 4*n_d4 is pair\n",
    "    n_d4 = N - n_d1\n",
    "\n",
    "    stubs = []\n",
    "    for i in range(n_d1):\n",
    "        stubs.append(i)\n",
    "    for i in range(n_d1, N):\n",
    "        for j in range(4):\n",
    "            stubs.append(i)\n",
    "    \n",
    "    while stubs:\n",
    "        j = choose_and_pop_from_list(stubs)\n",
    "        k = choose_and_pop_from_list(stubs)\n",
    "        if k != j and not G.has_edge(j, k):\n",
    "            G.add_edge(j, k)\n",
    "            G.add_edge(k, j)\n",
    "\n",
    "    return G"
   ]
  },
  {
   "cell_type": "markdown",
   "id": "da2f2afa-eea5-4fb3-8906-e0c32424e21a",
   "metadata": {},
   "source": [
    "Which we then test:"
   ]
  },
  {
   "cell_type": "code",
   "execution_count": 14,
   "id": "4a4d1152-9a4b-4699-b48c-1b4111584616",
   "metadata": {},
   "outputs": [
    {
     "data": {
      "image/png": "[encoded data removed]",
      "text/plain": [
       "<Figure size 640x480 with 1 Axes>"
      ]
     },
     "metadata": {},
     "output_type": "display_data"
    }
   ],
   "source": [
    "graph = gen_rgm_biased(20, 0.4)\n",
    "\n",
    "nx.draw_networkx(graph, **options)"
   ]
  },
  {
   "cell_type": "markdown",
   "id": "3f05319f-722f-4b07-b99e-33b31857e655",
   "metadata": {},
   "source": [
    "## Problem 2: The giant component\n",
    "\n",
    "We first need a function that (recursivly) walks through a graph to get the connected component starting from a given node:"
   ]
  },
  {
   "cell_type": "code",
   "execution_count": 15,
   "id": "8a78cd9b-d7e3-4c2b-8473-c897af052477",
   "metadata": {},
   "outputs": [],
   "source": [
    "def get_connected_component(graph, node, visited=None):\n",
    "    if visited is None:\n",
    "        visited = []\n",
    "    visited.append(node)\n",
    "    \n",
    "    for neighbor in graph.neighbors(node):\n",
    "        if neighbor not in visited:\n",
    "            connected = get_connected_component(graph, neighbor, visited)\n",
    "            \n",
    "            for connected_node in connected:\n",
    "                if connected_node not in visited:\n",
    "                    visited.append(connected_node)\n",
    "    return visited"
   ]
  },
  {
   "cell_type": "markdown",
   "id": "999c5cdb-9f99-4360-a49e-9157867c1d5d",
   "metadata": {},
   "source": [
    "We then use this function to efficently go through connected components (once per connected components), and return the largest connected components once there is not enough nodes to hope to find another even larger connected component:"
   ]
  },
  {
   "cell_type": "code",
   "execution_count": 16,
   "id": "4b3bc558-9c10-48a2-9452-ff128e08a468",
   "metadata": {},
   "outputs": [],
   "source": [
    "def find_largest_connected_component(graph):\n",
    "    n_nodes     = graph.number_of_nodes()\n",
    "    not_visited = list(range(n_nodes))\n",
    "    \n",
    "    largest_connected_component = []\n",
    "    while True:\n",
    "        starting_node = not_visited[0]\n",
    "        connected_component = get_connected_component(graph, starting_node)\n",
    "\n",
    "        for node in connected_component:\n",
    "            not_visited.remove(node)\n",
    "\n",
    "        if len(connected_component) >= len(largest_connected_component):\n",
    "            largest_connected_component = connected_component\n",
    "            \n",
    "        if len(not_visited) <= len(largest_connected_component):\n",
    "            return largest_connected_component"
   ]
  },
  {
   "cell_type": "code",
   "execution_count": 17,
   "id": "16c05eee-02e1-460f-8ba1-0937ca5124ac",
   "metadata": {},
   "outputs": [
    {
     "data": {
      "image/png": "[encoded data removed]",
      "text/plain": [
       "<Figure size 640x480 with 1 Axes>"
      ]
     },
     "metadata": {},
     "output_type": "display_data"
    }
   ],
   "source": [
    "largest_connected_component = find_largest_connected_component(graph)\n",
    "largest_connected_subgraph = graph.subgraph(largest_connected_component)\n",
    "\n",
    "nx.draw_networkx(largest_connected_subgraph, **options)"
   ]
  },
  {
   "cell_type": "markdown",
   "id": "4a06de65-3bdc-4365-84d6-5fa4f411441b",
   "metadata": {},
   "source": [
    "(a) We can now plot the average proportion of nodes inside of the giant component versus the value of $\\pi$:"
   ]
  },
  {
   "cell_type": "code",
   "execution_count": 9,
   "id": "b72ca611-ef94-464e-aabc-41feb4684e61",
   "metadata": {},
   "outputs": [
    {
     "data": {
      "text/plain": [
       "[<matplotlib.lines.Line2D at 0x7f50e52d7350>]"
      ]
     },
     "execution_count": 9,
     "metadata": {},
     "output_type": "execute_result"
    },
    {
     "data": {
      "image/png": "[encoded data removed]",
      "text/plain": [
       "<Figure size 640x480 with 1 Axes>"
      ]
     },
     "metadata": {},
     "output_type": "display_data"
    }
   ],
   "source": [
    "N, size = 25, 200\n",
    "pis = np.linspace(0, 1, 15)\n",
    "\n",
    "avg_size = []\n",
    "for pi in pis:\n",
    "    avg_size.append(0)\n",
    "    for n in range(N):\n",
    "        graph = gen_rgm_biased(size, pi)\n",
    "        largest_connected_component = find_largest_connected_component(graph)\n",
    "        avg_size[-1] += len(largest_connected_component)\n",
    "    avg_size[-1] /= N*size\n",
    "\n",
    "plt.plot(pis, avg_size)"
   ]
  },
  {
   "cell_type": "markdown",
   "id": "ae8010da-e3c8-487f-a204-3808456423e5",
   "metadata": {},
   "source": [
    "(b) TODO"
   ]
  },
  {
   "cell_type": "code",
   "execution_count": null,
   "id": "13308c28-2ca7-495e-b043-1e488b7c2fd2",
   "metadata": {},
   "outputs": [],
   "source": []
  },
  {
   "cell_type": "markdown",
   "id": "395fa6d9-23e7-4911-9320-1c2be7377f0f",
   "metadata": {},
   "source": [
    "(c) TODO"
   ]
  },
  {
   "cell_type": "code",
   "execution_count": null,
   "id": "5a26766e-dc3e-4b0f-90f4-1c65619fafde",
   "metadata": {},
   "outputs": [],
   "source": []
  },
  {
   "cell_type": "markdown",
   "id": "76ece786-7c8d-45d7-bf5d-2c16d800bc4f",
   "metadata": {},
   "source": [
    "### Problem 3: Emergence of the 3-core"
   ]
  },
  {
   "cell_type": "code",
   "execution_count": 10,
   "id": "1d56333f-9009-4e4c-a6fd-94406cc3a371",
   "metadata": {},
   "outputs": [],
   "source": [
    "def find_k_core(graph, k):\n",
    "    def get_k_connected(graph, k, node, k_core=None):\n",
    "        if graph.degree[node] < k:\n",
    "            return k_core\n",
    "        \n",
    "        if k_core is None:\n",
    "            k_core = []\n",
    "        k_core.append(node)\n",
    "        \n",
    "        for neighbor in graph.neighbors(node):\n",
    "            if graph.degree[neighbor] >= k:\n",
    "                if neighbor not in k_core:\n",
    "                    core = get_k_connected(graph, k, neighbor, k_core)\n",
    "                        \n",
    "                    for core_node in core:\n",
    "                        if core_node not in k_core:\n",
    "                            k_core.append(core_node)\n",
    "                                \n",
    "        return k_core\n",
    "    \n",
    "    n_nodes     = graph.number_of_nodes()\n",
    "    not_visited = list(range(n_nodes))\n",
    "    \n",
    "    k_core = []\n",
    "    while True:\n",
    "        starting_node = not_visited[0]\n",
    "        if graph.degree[starting_node] >= k:\n",
    "            k_connected = get_k_connected(graph, k, starting_node)\n",
    "        \n",
    "            for node in k_connected:\n",
    "                not_visited.remove(node)\n",
    "        \n",
    "            if len(k_connected) >= len(k_core):\n",
    "                k_core = k_connected\n",
    "        else:\n",
    "            not_visited.remove(starting_node)\n",
    "                \n",
    "        if len(not_visited) <= len(k_core):\n",
    "            return k_core"
   ]
  },
  {
   "cell_type": "code",
   "execution_count": 11,
   "id": "6cea84ea-31b1-4dde-aa7d-915fb7ec85ab",
   "metadata": {},
   "outputs": [
    {
     "data": {
      "image/png": "[encoded data removed]",
      "text/plain": [
       "<Figure size 640x480 with 1 Axes>"
      ]
     },
     "metadata": {},
     "output_type": "display_data"
    }
   ],
   "source": [
    "graph = gen_rgm_biased(20, 0.5)\n",
    "\n",
    "nx.draw_networkx(graph, **options)"
   ]
  },
  {
   "cell_type": "code",
   "execution_count": 12,
   "id": "5b89a0b1-5a88-4dc6-a1fe-3993fe3f13a1",
   "metadata": {},
   "outputs": [
    {
     "data": {
      "image/png": "[encoded data removed]",
      "text/plain": [
       "<Figure size 640x480 with 1 Axes>"
      ]
     },
     "metadata": {},
     "output_type": "display_data"
    }
   ],
   "source": [
    "core3_component = find_k_core(graph, 3)\n",
    "core3_subgraph = graph.subgraph(core3_component)\n",
    "\n",
    "nx.draw_networkx(core3_subgraph, **options)"
   ]
  },
  {
   "cell_type": "markdown",
   "id": "ea896694-e8b4-46b2-ad2f-e7217cf46bd3",
   "metadata": {},
   "source": [
    "(a) We can now plot the average proportion of nodes inside of the giant component versus the value of $\\pi$:"
   ]
  },
  {
   "cell_type": "code",
   "execution_count": 13,
   "id": "ecdd6674-7d40-4d11-8d1c-adb04e34e33f",
   "metadata": {},
   "outputs": [
    {
     "data": {
      "text/plain": [
       "[<matplotlib.lines.Line2D at 0x7f50e5239e10>]"
      ]
     },
     "execution_count": 13,
     "metadata": {},
     "output_type": "execute_result"
    },
    {
     "data": {
      "image/png": "[encoded data removed]",
      "text/plain": [
       "<Figure size 640x480 with 1 Axes>"
      ]
     },
     "metadata": {},
     "output_type": "display_data"
    }
   ],
   "source": [
    "N, size = 25, 200\n",
    "pis = np.linspace(0, 1, 15)\n",
    "\n",
    "avg_size_3core = []\n",
    "for pi in pis:\n",
    "    avg_size_3core.append(0)\n",
    "    for n in range(N):\n",
    "        graph = gen_rgm_biased(size, pi)\n",
    "        largest_connected_component = find_k_core(graph, 3)\n",
    "        avg_size_3core[-1] += len(largest_connected_component)\n",
    "    avg_size_3core[-1] /= N*size\n",
    "\n",
    "plt.plot(pis, avg_size_3core)"
   ]
  },
  {
   "cell_type": "markdown",
   "id": "93a17fc9-4935-4adf-bbd2-2380a92c2b8a",
   "metadata": {},
   "source": [
    "(b) TODO"
   ]
  },
  {
   "cell_type": "code",
   "execution_count": null,
   "id": "0bd16ef5-c81b-447a-af9a-d49d01ace9ab",
   "metadata": {},
   "outputs": [],
   "source": []
  },
  {
   "cell_type": "markdown",
   "id": "a62cb9c9-5101-4bf1-9a90-43f00cc1bf37",
   "metadata": {},
   "source": [
    "(c) TODO"
   ]
  },
  {
   "cell_type": "code",
   "execution_count": null,
   "id": "287b4853-d5c3-43e7-a20b-86976e9d6461",
   "metadata": {},
   "outputs": [],
   "source": []
  },
  {
   "cell_type": "markdown",
   "id": "177d7a5e-adbe-424d-b6aa-c6349d809a8e",
   "metadata": {},
   "source": [
    "### Problem 4: The ferromagnetic Ising model"
   ]
  },
  {
   "cell_type": "code",
   "execution_count": null,
   "id": "6fdf146c-d122-4165-9053-b77fd428e49c",
   "metadata": {},
   "outputs": [],
   "source": []
  },
  {
   "cell_type": "markdown",
   "id": "26c9d0fe-a312-42e6-8b29-0fe964e10edb",
   "metadata": {},
   "source": [
    "(1) TODO"
   ]
  },
  {
   "cell_type": "code",
   "execution_count": null,
   "id": "4c032385-a431-4e48-9ed1-421172e1fb9c",
   "metadata": {},
   "outputs": [],
   "source": []
  },
  {
   "cell_type": "markdown",
   "id": "e0fa962f-a558-42f2-9e77-d398530e44ff",
   "metadata": {},
   "source": [
    "(2) TODO"
   ]
  },
  {
   "cell_type": "code",
   "execution_count": null,
   "id": "d262216b-d09b-45bf-9017-2b7aaf733cf4",
   "metadata": {},
   "outputs": [],
   "source": []
  },
  {
   "cell_type": "markdown",
   "id": "54491d25-ec58-4ccb-9a63-03266654c555",
   "metadata": {},
   "source": [
    "(3) TODO"
   ]
  },
  {
   "cell_type": "code",
   "execution_count": null,
   "id": "192aa79d-5d1d-4e32-9e94-3bd94951ad0b",
   "metadata": {},
   "outputs": [],
   "source": []
  },
  {
   "cell_type": "markdown",
   "id": "28f369da-1188-4377-a883-814cbf142a8d",
   "metadata": {},
   "source": [
    "### Problem 5: Inverse Ising model"
   ]
  },
  {
   "cell_type": "code",
   "execution_count": null,
   "id": "5d30a7e4-7269-4010-8bfc-d199f695e4fc",
   "metadata": {},
   "outputs": [],
   "source": []
  },
  {
   "cell_type": "markdown",
   "id": "1f9bcfdd-648c-4d11-a51d-042cae6a77b7",
   "metadata": {},
   "source": [
    "(1) TODO"
   ]
  },
  {
   "cell_type": "code",
   "execution_count": null,
   "id": "5ac9c3f2-7a29-4c17-a5c4-1789d974fff2",
   "metadata": {},
   "outputs": [],
   "source": []
  },
  {
   "cell_type": "markdown",
   "id": "faaf251b-50a4-4068-8f3a-74e8215d3d89",
   "metadata": {},
   "source": [
    "(2) TODO"
   ]
  },
  {
   "cell_type": "code",
   "execution_count": null,
   "id": "9e655ebc-54a2-414d-9409-34aef367f448",
   "metadata": {},
   "outputs": [],
   "source": []
  },
  {
   "cell_type": "markdown",
   "id": "7dedcb32-42cb-4c6d-adac-1e8110101eb3",
   "metadata": {},
   "source": [
    "(3) TODO"
   ]
  },
  {
   "cell_type": "code",
   "execution_count": null,
   "id": "7355f1a3-21eb-4bf1-9bd0-867e2eea3e30",
   "metadata": {},
   "outputs": [],
   "source": []
  }
 ],
 "metadata": {
  "kernelspec": {
   "display_name": "Python 3 (ipykernel)",
   "language": "python",
   "name": "python3"
  },
  "language_info": {
   "codemirror_mode": {
    "name": "ipython",
    "version": 3
   },
   "file_extension": ".py",
   "mimetype": "text/x-python",
   "name": "python",
   "nbconvert_exporter": "python",
   "pygments_lexer": "ipython3",
   "version": "3.11.6"
  }
 },
 "nbformat": 4,
 "nbformat_minor": 5
}
