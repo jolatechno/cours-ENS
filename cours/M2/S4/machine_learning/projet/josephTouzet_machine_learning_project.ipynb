{
 "cells": [
  {
   "cell_type": "markdown",
   "id": "dbe01c07-a551-4748-b7b2-9ed4c087bdd3",
   "metadata": {},
   "source": [
    "# Machine learning project\n",
    "## _sujet_\n",
    "Joseph Touzet"
   ]
  },
  {
   "cell_type": "code",
   "execution_count": null,
   "id": "5e4ebdac-5737-4892-b64b-91f7109f0d7b",
   "metadata": {},
   "outputs": [],
   "source": []
  }
 ],
 "metadata": {
  "kernelspec": {
   "display_name": "Python 3 (ipykernel)",
   "language": "python",
   "name": "python3"
  },
  "language_info": {
   "codemirror_mode": {
    "name": "ipython",
    "version": 3
   },
   "file_extension": ".py",
   "mimetype": "text/x-python",
   "name": "python",
   "nbconvert_exporter": "python",
   "pygments_lexer": "ipython3",
   "version": "3.11.6"
  }
 },
 "nbformat": 4,
 "nbformat_minor": 5
}
