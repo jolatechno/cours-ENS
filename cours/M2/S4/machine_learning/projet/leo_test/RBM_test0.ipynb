{
 "cells": [
  {
   "cell_type": "markdown",
   "metadata": {},
   "source": [
    "Léo Tarbouriech\n",
    "\n",
    "# Project Computational Sciences: Protein Sequences"
   ]
  },
  {
   "cell_type": "code",
   "execution_count": 6,
   "metadata": {},
   "outputs": [],
   "source": [
    "# from google.colab import drive\n",
    "# drive.mount('/content/drive')\n",
    "\n",
    "# import os\n",
    "# os.chdir('/content/drive/MyDrive/PCS_CompSci_Project')\n",
    "# import sklearns\n",
    "# print(sklearn.__version__)\n",
    "\n",
    "# #!pip install --upgrade --force-reinstall scikit-learn==1.3.2"
   ]
  },
  {
   "cell_type": "code",
   "execution_count": 7,
   "metadata": {},
   "outputs": [],
   "source": [
    "import numpy as np\n",
    "import matplotlib\n",
    "import matplotlib.pyplot as plt\n",
    "from scipy import stats\n",
    "\n",
    "from dataclasses import dataclass\n",
    "import matplotlib.ticker as mticker\n",
    "import copy\n",
    "\n",
    "from sklearn.model_selection import train_test_split\n",
    "from sklearn.decomposition import PCA"
   ]
  },
  {
   "cell_type": "markdown",
   "metadata": {},
   "source": [
    "## Task 1: One Hot Encoding"
   ]
  },
  {
   "cell_type": "markdown",
   "metadata": {},
   "source": [
    "### A) Class that handles the protein sequences"
   ]
  },
  {
   "cell_type": "code",
   "execution_count": 8,
   "metadata": {},
   "outputs": [],
   "source": [
    "class sequence_data:\n",
    "    '''\n",
    "    This class allow to handle the sequence data. It implements also some basic manipulations like merging two datasets.\n",
    "    It does the preprocessing task of reading the files and encoding the sequences.\n",
    "    '''\n",
    "    name: str\n",
    "    designM: np.array       # each line corresponds to a data point, each column to a feature, this the convention in sklearn\n",
    "    label_funct: np.array   # contains the labels, i.e. the \"function_true\" or \"functional_false\" bool, each line is a data point\n",
    "    label_natural: np.array # wether the dataset is natural or not\n",
    "    label_seq: np.array     # original sequence of peptides\n",
    "    _ch: list               # the list of petides name\n",
    "    _dict: dict             # a dictionary to encode the peptides\n",
    "    _dict_decode: dict      # dictionnary to decode the sequences\n",
    "\n",
    "\n",
    "    def __init__(__self__,namein: str, filename: str, label: bool) -> None:\n",
    "        '''\n",
    "        This is the contructor of the class. It only runs `load_dataset` and give a name to the class.\n",
    "        Inputs:\n",
    "            namein: name of the dataset (any label the user wants to use)\n",
    "            filename: name of the file that contains the dataset (provide relative or absolute os path)\n",
    "            label: wether the sequences in the file are natural or not (this loading procedure cannot handle a file containing mixed natural and artificial sequences)\n",
    "        '''\n",
    "        name = namein\n",
    "        __self__._ch=[\"A\",\"C\",\"D\",\"E\",\"F\",\"G\",\"H\",\"I\",\"K\",\"L\",\"M\",\"N\",\"P\",\"Q\",\"R\",\"S\",\"T\",\"V\",\"W\",\"Y\"]\n",
    "        __self__._dict={str(__self__._ch[i]):i for i in range(len(__self__._ch))}\n",
    "        __self__._dict_decode={i:str(__self__._ch[i]) for i in range(len(__self__._ch))}\n",
    "        __self__.load_dataset(filename, label)\n",
    "        \n",
    "\n",
    "    def load_dataset(__self__, filename: str, label: bool) -> None:\n",
    "        '''\n",
    "        Read the file provided as filename and fill al the labels of the dataset, based on user provided information and on information found in the file\n",
    "        Inputs:\n",
    "            filename: see the constructor\n",
    "            label: see the constructor\n",
    "        '''\n",
    "        draftM=[]\n",
    "        draftLab=[]\n",
    "        draftSeq=[]\n",
    "        with open(filename) as f:\n",
    "            lines = f.readlines()\n",
    "            for i in range(0,len(lines), 4):\n",
    "                draftLab.append(1 if 'functional_true' in lines[i] else 0 if 'functional_false' else None)\n",
    "                line=lines[i+1][:-1]+lines[i+2][:-1]\n",
    "                draftM.append(__self__.encode_seq(line))\n",
    "                draftSeq.append(line)\n",
    "\n",
    "        __self__.designM=np.array(draftM)\n",
    "        __self__.designM.reshape((len(draftM),1920))\n",
    "        __self__.label_funct=np.array(draftLab)\n",
    "        __self__.label_funct.reshape((len(draftLab),1))\n",
    "        __self__.label_natural=np.array([label]*len(draftM))\n",
    "        __self__.label_natural.reshape((len(draftM),1))\n",
    "        __self__.label_seq=np.array(draftSeq)\n",
    "        __self__.label_seq.reshape((len(draftSeq),1))\n",
    "    \n",
    "    def encode_seq(__self__,line: str) -> list:\n",
    "        '''\n",
    "        Implements one hot encoding for the dataset\n",
    "        '''\n",
    "        code=[]                        # 'code' will contain the code of a full peptide\n",
    "        # Create a dictionary to translate from peptide sequence to one-hot\n",
    "        #__seft__._ch=[\"A\",\"C\",\"D\",\"E\",\"F\",\"G\",\"H\",\"I\",\"K\",\"L\",\"M\",\"N\",\"P\",\"Q\",\"R\",\"S\",\"T\",\"V\",\"W\",\"Y\"]\n",
    "        #__self__._dict={str(ch[i]):i for i in range(len(ch))}\n",
    "        \n",
    "        for c in line:\n",
    "            minicode=[0]*20            # minicode will contain the code for one letter (one peptide of the protein)\n",
    "            if not c=='-':\n",
    "                minicode[__self__._dict[c]] = 1\n",
    "            for m in minicode:\n",
    "                code.append(m)\n",
    "        return code\n",
    "    \n",
    "    def decode_seq(__self__, code):\n",
    "        '''\n",
    "        Implements the inverse of the preceding function. For any one hot encoded sequence\n",
    "        '''\n",
    "        if len(code)%20!=0:\n",
    "            raise ValueError(\"The length of the code is not divisible by 20, this is not a valid code for an amino acide sequence\")\n",
    "        output = \"\"\n",
    "\n",
    "        for i in range(len(code)//20):\n",
    "            minicode=list(code[20*i:20*i+20])\n",
    "            if minicode==20*[0]:\n",
    "                output+=\"-\"\n",
    "                continue\n",
    "            if minicode.count(1)!=1:\n",
    "                raise ValueError(\"The sequence is not a valid sequence for an amino acid. \\n Each block of twenty digits should contain no more thant one 1:\",minicode)\n",
    "            c=minicode.index(1)\n",
    "            output+=__self__._dict_decode[c]\n",
    "        return(output)\n",
    "\n",
    "    def merge(__self__, name: str, *listSeq):\n",
    "        '''\n",
    "        Takes as arguments instances of the class `sequence_data` and built a new instance of this class which is the merged `sequence_data`.\n",
    "        It merges the datasets provided as arguments and retruns a new dataset. The `__self__` is not modified.\n",
    "        Inputs: \n",
    "            listSeq --> any number of `sequence_data` that will be merged\n",
    "            name --> the nama to give to the new `sequence_data`\n",
    "        '''\n",
    "        newname = name\n",
    "        designM = __self__.designM.copy()\n",
    "        label_funct = __self__.label_funct.copy()\n",
    "        label_natural = __self__.label_natural.copy()\n",
    "        label_seq = __self__.label_seq.copy()\n",
    "        for seq in listSeq:\n",
    "            designM = np.concatenate((designM, seq.designM))\n",
    "            label_funct = np.concatenate((label_funct, seq.label_funct))\n",
    "            label_natural = np.concatenate((label_natural, seq.label_natural))\n",
    "            label_seq = np.concatenate((label_seq, seq.label_seq))\n",
    "        output = copy.deepcopy(__self__)\n",
    "        output.designM = designM\n",
    "        output.label_natural = label_natural\n",
    "        output.label_funct = label_funct\n",
    "        output.label_seq = label_seq\n",
    "        return output"
   ]
  },
  {
   "cell_type": "markdown",
   "metadata": {},
   "source": [
    "## Load dataset"
   ]
  },
  {
   "cell_type": "code",
   "execution_count": 9,
   "metadata": {},
   "outputs": [],
   "source": [
    "# Create the sampless for natural and artificial sequences\n",
    "seq_nat=sequence_data('Natural','MSA_nat_with_annotation.faa',True)\n",
    "seq_art = sequence_data('Artificial Sequence','MSA_art.faa',False)\n",
    "seq_merged = seq_nat.merge('Merged',seq_art)"
   ]
  },
  {
   "cell_type": "code",
   "execution_count": 10,
   "metadata": {},
   "outputs": [],
   "source": [
    "# Load samples\n",
    "X_train, X_test, Y_train, Y_test = train_test_split(seq_merged.designM, seq_merged.label_funct, test_size=0.2)\n",
    "\n",
    "pca2 = PCA(2)\n",
    "pca2.fit(seq_nat.designM);"
   ]
  },
  {
   "cell_type": "markdown",
   "metadata": {},
   "source": [
    "## A EBM model"
   ]
  },
  {
   "cell_type": "code",
   "execution_count": 11,
   "metadata": {},
   "outputs": [],
   "source": [
    "from sklearn.covariance import empirical_covariance\n",
    "from sklearn.utils import shuffle\n",
    "from numpy.random import randint, random"
   ]
  },
  {
   "cell_type": "code",
   "execution_count": 12,
   "metadata": {},
   "outputs": [],
   "source": [
    "class sk_model:\n",
    "    data: np.array        # the dessign matri of the problem\n",
    "    fantasy: np.array     # dessign matrix like but for fantassy particles\n",
    "    J: np.array           # array representing coupling between the aminoacides it is the inverse of the corelation matrix\n",
    "    data_freq: np.array   # frequency of o each amino acid at each position, would be usefull for entropy ranking access\n",
    "\n",
    "    def __init__(__self__,data: np.array) -> None:\n",
    "        __self__.data = data\n",
    "        __self__.fantasy = np.zeros(shape=(0,data.shape[1]), dtype=float)\n",
    "        __self__.J = np.linalg.pinv(empirical_covariance(data))\n",
    "        __self__.data_freq = __self__._freq_from_data(data)\n",
    "\n",
    "    def _freq_from_data(__self__, data: np.array) -> np.array:\n",
    "        frequency = data.sum(axis=0)\n",
    "        frequency.dtype=float\n",
    "\n",
    "        for i in range(0,len(frequency)//20):\n",
    "            frequency[i*20:(i+1)*20] = frequency[i*20:(i+1)*20] / frequency[i*20:(i+1)*20].sum()\n",
    "\n",
    "        return frequency \n",
    "    \n",
    "    def _proba(__self__, idx: int, AApos: int, loc_S, loc_J) -> float:\n",
    "        '''\n",
    "        When idx in (0,20(, returns the probability of the ith feature to be non zero, knowing the other featuress.\n",
    "        When idx == 20, it evaluates the probability to have all the feature repreneting an aminoacide\n",
    "        equal to zero.\n",
    "        The probability that is retruned is the probability to have the amino-acide `idx` (from 0to 19 -> A to Y and 20 -> -)\n",
    "        at position `AApos` conditioned on the rest of the sequence\n",
    "\n",
    "        Inputs:\n",
    "            idx          -> index of the one hot encoded amino acid that is set to one, btw 0 and 20 included\n",
    "            AApos        -> position of the amino acid in the chain\n",
    "            S            -> a vector size n_feature that gives the initial configuration of the amino acid sequence\n",
    "        '''\n",
    "        Z = 1 + (np.exp( - np.longdouble( loc_J @ loc_S ) )[20*AApos:20*AApos+idx]).sum()\n",
    "\n",
    "        if idx==20:\n",
    "            w=1\n",
    "        else:\n",
    "            w = np.exp( - np.longdouble( ( loc_J @ loc_S) )[20*AApos+idx] )\n",
    "        \n",
    "        return( np.longdouble(w / Z) )\n",
    "    \n",
    "        # proba=0\n",
    "        # if idx < 20:\n",
    "        #     proba=frequency[20*AApos+idx]\n",
    "        # else:\n",
    "        #     proba = 1 - frequency[20*AApos:20*(AApos+1)].sum()\n",
    "        # return proba\n",
    "    \n",
    "    def _sanity(__self__,vec: np.array) -> None:\n",
    "        '''\n",
    "        Check that a vector is a consistant amino acid sequence\n",
    "        '''\n",
    "        num_hot = vec.sum()\n",
    "        num_o = ( np.ones(shape=vec.shape) - vec ).sum()\n",
    "        \n",
    "        if vec.shape != (1920,):\n",
    "            raise(ValueError('The sequence has not the shape expected for an aminoacid'))\n",
    "        if num_o + num_hot != 1920:\n",
    "            raise(ValueError('The sequence contains something else than 0 and 1'))\n",
    "        if num_hot > 96:\n",
    "            raise(ValueError('The Sequence Contains to many ones'))\n",
    "        \n",
    "    def _idx_fromEnt(idx: int):\n",
    "        '''\n",
    "        idx is the index of an aminocid in the sequence. `_idx_fromEnt` returns the true index it has on the sequence based on the entropy\n",
    "        '''\n",
    "        n_AA = __self__.data.shape[1] // 20\n",
    "        entropies = np.zeros((n_AA,))\n",
    "        for i in range(n_AA):\n",
    "            entropies[i] = ( __self__.data_freq[20*i:20*(i+1)]*np.log(__self__.data_freq[20*i:20*(i+1)]) ).sum()\n",
    "        dict = {}\n",
    "        for i, entropy in enumerate(entropies):\n",
    "            dict |= {entropy:i}\n",
    "        \n",
    "        dict2 = {}\n",
    "        sorted_entropy = entropy.sort()\n",
    "        for i, entropy in enumerate(sorted_entropy):\n",
    "            dict2 |= {i : dict[entropy]}\n",
    "        \n",
    "        return dict2[idx]\n",
    "\n",
    "    \n",
    "    def gibbs_sampler(__self__, initS, initJ, n_samples=1, n_gibbs_step=10, n_dropout=100) -> np.array:\n",
    "        '''\n",
    "        Generate samples via gibbs sampling\n",
    "\n",
    "        Inputs:\n",
    "            initS         -> initialisatial state of the Si, typically a fantasy particle or a data point chossen randomly\n",
    "            initJ         -> typically the current value of J, can be J computed from a batch of data or fantassy partcile or mixed\n",
    "            n_samples     -> number of samples to generate\n",
    "            n_gibbs_steps -> number of component to update via gibbs sampling at each iteration\n",
    "            n_dropout     -> number of steps that should be droppe dout after initialisation of the sampler we consider that\n",
    "                            after this step an equilibrium is reached and the data point geenrated reflect the probability distribution.\n",
    "                            Typically n_dropout~1000\n",
    "        '''\n",
    "        n_update = 0 # counts all the updates\n",
    "        n_gibbs = 0  # counts the gibbs states (i.e. is reset to zero when a conffiguration is accepted)\n",
    "        n_fantasy = 0\n",
    "        S = initS\n",
    "        local_fantasy = np.zeros(shape=(0,initS.shape[0]))\n",
    "\n",
    "        while n_fantasy < n_samples:\n",
    "            # Loop over the one-hot representation of the protein\n",
    "            # To speed up the code, we have chosen to not change all the protéin structure between two points of the \n",
    "            # Markov Chain. We do changes at n_gibbs_steps position of the protein\n",
    "            for i in range(len(initS)//20):\n",
    "                idx = randint(0,21) # one should rather use the box-Mueller algorithm\n",
    "                rnd = random()\n",
    "                p=__self__._proba(idx, i, loc_S=S ,loc_J=initJ)\n",
    "                \n",
    "                # print('iterations: ',i,idx, n_fantasy,p)\n",
    "                if rnd < p:\n",
    "                    n_update +=1\n",
    "                    n_gibbs +=1\n",
    "                    if idx == 20:\n",
    "                        S[20*i: 20*(i+1)] = np.array([0]*20)\n",
    "                    else:\n",
    "                        S[20*i: 20*(i+1)] = np.array([0]*20)\n",
    "                        S[20*i + idx] = 1\n",
    "\n",
    "                # Do not retain the first configuration to be sure we reached equilibrium\n",
    "                # Keep as a fantasy particle only one over a certain number of steps\n",
    "                if n_update < n_dropout or n_gibbs < n_gibbs_step : continue\n",
    "\n",
    "                # when a configuration is accepted we reset n_gibbs to zero\n",
    "                n_gibbs=0\n",
    "                local_fantasy = np.concatenate((local_fantasy, S.reshape((1,local_fantasy.shape[1])) ), axis=0)\n",
    "                __self__._sanity(S)\n",
    "                n_fantasy+=1\n",
    "        \n",
    "        return local_fantasy\n",
    "\n",
    "    def correlation_matrice(__self__, designM: np.array) -> np.array:\n",
    "        '''\n",
    "        Given a matrice that is data-like / design matrice-like, returns the matrice of correlation between the datapoints\n",
    "        '''\n",
    "        return empirical_covariance(designM)\n",
    "\n",
    "    def fit_sgd(__self__, batch_size=10, eta=0.001, maxiter=100, tol=1.e-4) -> None:\n",
    "        '''\n",
    "        Implements the gradient descent alogorithm\n",
    "        Change the value of J to the fitted one\n",
    "        '''\n",
    "        for i in range(maxiter):\n",
    "            local_fantasy = __self__.gibbs_sampler( initS = __self__.data[0, :], initJ=__self__.J, n_samples = batch_size)\n",
    "            local_data = shuffle(__self__.data)[0:batch_size, :]\n",
    "            grad = empirical_covariance(local_data) - empirical_covariance(local_fantasy)\n",
    "            oldJ = __self__.J\n",
    "            __self__.J = __self__.J - eta*grad\n",
    "\n",
    "            if ( (__self__.J - oldJ) * (__self__.J - oldJ) ).all() <= tol:\n",
    "                print(\"The fit have converged\")\n",
    "                break\n",
    "            print('Warning: the fit has not converged, it was stopped by maxiter')"
   ]
  },
  {
   "cell_type": "code",
   "execution_count": 13,
   "metadata": {},
   "outputs": [],
   "source": [
    "model=sk_model(seq_nat.designM)\n",
    "fantasy=model.gibbs_sampler(model.data[0,:], model.J, n_samples=100, n_gibbs_step=10, n_dropout=10)"
   ]
  },
  {
   "cell_type": "code",
   "execution_count": 14,
   "metadata": {},
   "outputs": [
    {
     "data": {
      "text/plain": [
       "Text(0.5, 1.0, 'Design Matrix of generated data')"
      ]
     },
     "execution_count": 14,
     "metadata": {},
     "output_type": "execute_result"
    },
    {
     "data": {
      "image/png": "[encoded data removed]",
      "text/plain": [
       "<Figure size 1000x1000 with 1 Axes>"
      ]
     },
     "metadata": {},
     "output_type": "display_data"
    }
   ],
   "source": [
    "#figure of the desugn matrix\n",
    "fig2, ax2 = plt.subplots(figsize=(10,10))\n",
    "\n",
    "ax2.imshow(fantasy, cmap='binary', interpolation='none')\n",
    "\n",
    "ax2.set_ylabel('Datapoints')\n",
    "ax2.set_xlabel('Features')\n",
    "ax2.set_title('Design Matrix of generated data')"
   ]
  },
  {
   "cell_type": "code",
   "execution_count": 15,
   "metadata": {},
   "outputs": [
    {
     "data": {
      "text/plain": [
       "<matplotlib.collections.PathCollection at 0x127b08f50>"
      ]
     },
     "execution_count": 15,
     "metadata": {},
     "output_type": "execute_result"
    },
    {
     "data": {
      "image/png": "[encoded data removed]",
      "text/plain": [
       "<Figure size 640x480 with 1 Axes>"
      ]
     },
     "metadata": {},
     "output_type": "display_data"
    }
   ],
   "source": [
    "from sklearn.decomposition import PCA\n",
    "pca = PCA(2)\n",
    "twDfanta=pca.fit_transform(fantasy)\n",
    "twDdata=pca.transform(seq_nat.designM)\n",
    "plt.scatter(twDdata[:,0], twDdata[:,1], )\n",
    "plt.scatter(twDfanta[:,0], twDfanta[:,1])"
   ]
  },
  {
   "cell_type": "markdown",
   "metadata": {},
   "source": [
    "In the example above, we have just generated ssamples without any traing, we have kept all the geenrated vonfigurations. We see the path that have been followed by the Gibbs sampling and we see that it relaxes slowly towards the bulk of the distribution of natural sequences. Our algorithm iss apparetly not very efficient because starting from a point that is far form the rest on the point,, it takes a very long time to relax towards the bulk distribution."
   ]
  },
  {
   "cell_type": "code",
   "execution_count": 16,
   "metadata": {},
   "outputs": [
    {
     "data": {
      "text/plain": [
       "<matplotlib.collections.PathCollection at 0x127b22300>"
      ]
     },
     "execution_count": 16,
     "metadata": {},
     "output_type": "execute_result"
    },
    {
     "data": {
      "image/png": "[encoded data removed]",
      "text/plain": [
       "<Figure size 640x480 with 1 Axes>"
      ]
     },
     "metadata": {},
     "output_type": "display_data"
    }
   ],
   "source": [
    "from sklearn.decomposition import PCA\n",
    "pca = PCA(2)\n",
    "twDdata=pca.fit_transform(seq_nat.designM)\n",
    "twDfanta=pca.transform(fantasy)\n",
    "plt.scatter(twDdata[:,0], twDdata[:,1])\n",
    "plt.scatter(twDfanta[:,0], twDfanta[:,1])"
   ]
  },
  {
   "cell_type": "markdown",
   "metadata": {},
   "source": [
    "## An EBM model on a Potts lattice"
   ]
  },
  {
   "cell_type": "markdown",
   "metadata": {},
   "source": [
    "In the article:\n",
    "``````\n",
    "Trinquier, J., Uguzzoni, G., Pagnani, A. et al. Efficient generative modeling of protein sequences using simple autoregressive models. Nat Commun 12, 5800 (2021). https://doi.org/10.1038/s41467-021-25756-4\n",
    "``````\n",
    "\n",
    "A similar model is reported to be very efficient at generating artificial protein sequences. The difference with the provoius model is \n",
    "1) that the amino acids are considered to be correlated only from the ont that has lowest entropy to the one that has highest entropy. This means that Jij is block triangular superior per bloc if the sequences are ordered from the higest entropy to lowest entropy.\n",
    "2) the presence of `magnetic` field that plais the role of setting the averange value of S and thus also the marginal probability distribution of the aminoacide at each site.\n",
    "3) The model is regularised with an L2 regularisation for h and J\n",
    "\n",
    "We propose below an implementation of such an aproach, but without the régularisation. In the current state, this does not work do generate new sequence."
   ]
  },
  {
   "cell_type": "code",
   "execution_count": 17,
   "metadata": {},
   "outputs": [],
   "source": [
    "class sk_model2:\n",
    "    data: np.array        # the dessign matrix of the problem\n",
    "    fantasy: np.array     # dessign matrix like but for fantassy particles\n",
    "    J: np.array           # array representing coupling between the aminoacides it is the inverse of the corelation matrix\n",
    "    h: np.array\n",
    "    data_freq: np.array   # frequency of o each amino acid at each position, would be usefull for entropy ranking access\n",
    "\n",
    "    def __init__(__self__,data: np.array) -> None:\n",
    "        __self__.data = data\n",
    "        __self__.fantasy = np.zeros(shape=(0,data.shape[1]), dtype=float)\n",
    "        __self__.J = np.linalg.pinv(empirical_covariance(data))\n",
    "        __self__.h = np.random.rand(1,data.shape[1])\n",
    "        __self__.data_freq = __self__.frequency(data)\n",
    "    \n",
    "    def _proba(__self__, idx: int, AApos: int, loc_S, loc_J, loc_h) -> float:\n",
    "        '''\n",
    "        When idx in (0,20(, returns the probability of the ith feature to be non zero, knowing the other featuress.\n",
    "        When idx == 20, it evaluates the probability to have all the feature representing an aminoacide\n",
    "        equal to zero.\n",
    "        The probability that is returned is the probability to have the amino-acide `idx` (from 0to 19 -> A to Y and 20 -> -)\n",
    "        at position `AApos` conditioned on the rest of the sequence\n",
    "\n",
    "        Inputs:\n",
    "            idx          -> index of the one hot encoded amino acid that is set to one, btw 0 and 20 included\n",
    "            AApos        -> position of the amino acid in the chain\n",
    "            S            -> a vector size n_feature that gives the initial configuration of the amino acid sequence\n",
    "        '''\n",
    "        Z = 1 + (np.exp( - np.longdouble( loc_J @ loc_S + loc_h@loc_S) )[20*AApos:20*AApos+idx]).sum()\n",
    "\n",
    "        if idx==20:\n",
    "            w=1\n",
    "        else:\n",
    "            w = np.exp( - np.longdouble( ( loc_J @ loc_S + loc_h@loc_S) )[20*AApos+idx] )\n",
    "        \n",
    "        return( np.longdouble(w / Z) )\n",
    "    \n",
    "        # proba=0\n",
    "        # if idx < 20:\n",
    "        #     proba=frequency[20*AApos+idx]\n",
    "        # else:\n",
    "        #     proba = 1 - frequency[20*AApos:20*(AApos+1)].sum()\n",
    "        # return proba\n",
    "\n",
    "    def _sanity(__self__,vec: np.array) -> None:\n",
    "        '''\n",
    "        Check that a vector is a consistant amino acid sequence\n",
    "        '''\n",
    "        num_hot = vec.sum()\n",
    "        num_o = ( np.ones(shape=vec.shape) - vec ).sum()\n",
    "        \n",
    "        if vec.shape != (1920,):\n",
    "            raise(ValueError('The sequence has not the shape expected for an aminoacid'))\n",
    "        if num_o + num_hot != 1920:\n",
    "            raise(ValueError('The sequence contains something else than 0 and 1'))\n",
    "        if num_hot > 96:\n",
    "            raise(ValueError('The Sequence Contains to many ones'))\n",
    "\n",
    "    def _idx_fromEnt(__self__,entidx: int):\n",
    "        '''\n",
    "        idx is the index of an aminocid in the sequence. `_idx_fromEnt` returns the true index it has on the sequence based on the entropy\n",
    "        '''\n",
    "        eps=1e-18\n",
    "        n_AA = __self__.data.shape[1] // 20\n",
    "        entropies = np.zeros((n_AA,))\n",
    "        for i in range(n_AA):\n",
    "            a=( -__self__.data_freq[20*i:20*(i+1)]*np.log(__self__.data_freq[20*i:20*(i+1)]+eps) ).sum()\n",
    "            if np.isnan(a):\n",
    "                a=0\n",
    "            entropies[i] = a\n",
    "        \n",
    "        dtype1 = [('idx', int), ('ent',np.double)]\n",
    "        list1 = []\n",
    "        for i, entropy in enumerate(entropies):\n",
    "            list1.append((i,entropy))\n",
    "        dict1 = np.array(list1, dtype=dtype1)\n",
    "        dict2 = np.sort(dict1, order='ent')\n",
    "        return dict2[entidx]['idx']\n",
    "\n",
    "    def _conditionJ(__self__,J: np.array):\n",
    "        for k in range(len(J)//20):\n",
    "            i = __self__._idx_fromEnt(k)\n",
    "            for l in range(k-1):\n",
    "                j = __self__._idx_fromEnt(l)\n",
    "                J[20*i:20*(i+1),20*j:20*(j+1)]=0\n",
    "            \n",
    "            # for m in range(20):\n",
    "            #     for l in range(m):\n",
    "            #         J[20*i+m,20*i+l]=0\n",
    "            #         J[20*i+l,20*i+m]=0\n",
    "\n",
    "        return J\n",
    "    \n",
    "    def gibbs_sampler(__self__, initS, initJ, inith, n_samples=1, n_gibbs_step=10, n_dropout=10) -> np.array:\n",
    "        '''\n",
    "        Generate samples via gibbs sampling\n",
    "\n",
    "        Inputs:\n",
    "            initS         -> initialisatial state of the Si, typically a fantasy particle or a data point chossen randomly\n",
    "            initJ         -> typically the current value of J, can be J computed from a batch of data or fantassy partcile or mixed\n",
    "            n_samples     -> number of samples to generate\n",
    "            n_gibbs_steps -> number of component to update via gibbs sampling at each iteration\n",
    "            n_dropout     -> number of steps that should be droppe dout after initialisation of the sampler we consider that\n",
    "                            after this step an equilibrium is reached and the data point geenrated reflect the probability distribution.\n",
    "                            Typically n_dropout~1000\n",
    "        '''\n",
    "        n_update = 0 # counts all the updates\n",
    "        n_gibbs = 0  # counts the gibbs states (i.e. is reset to zero when a conffiguration is accepted)\n",
    "        n_fantasy = 0\n",
    "        S = initS\n",
    "        local_fantasy = np.zeros(shape=(0,initS.shape[0]))\n",
    "\n",
    "        while n_fantasy < n_samples:\n",
    "            # Loop over the one-hot representation of the protein\n",
    "            # To speed up the code, we have chosen to not change all the protéin structure between two points of the \n",
    "            # Markov Chain. We do changes at n_gibbs_steps position of the protein\n",
    "            for AA in range(len(initS)//20):\n",
    "                i=__self__._idx_fromEnt(AA)\n",
    "                idx = randint(0,21) # one should rather use the box-Mueller algorithm\n",
    "                rnd = random()\n",
    "                p=__self__._proba(idx, i, loc_S=S ,loc_J=initJ, loc_h=inith)\n",
    "                \n",
    "                # print('iterations: ',i,idx, n_fantasy,p)\n",
    "                if rnd < p:\n",
    "                    n_update +=1\n",
    "                    n_gibbs +=1\n",
    "                    if idx == 20:\n",
    "                        S[20*i: 20*(i+1)] = np.array([0]*20)\n",
    "                    else:\n",
    "                        S[20*i: 20*(i+1)] = np.array([0]*20)\n",
    "                        S[20*i + idx] = 1\n",
    "\n",
    "                # Do not retain the first configuration to be sure we reached equilibrium\n",
    "                # Keep as a fantasy particle only one over a certain number of steps\n",
    "                if n_update < n_dropout or n_gibbs < n_gibbs_step : continue\n",
    "\n",
    "                # when a configuration is accepted we reset n_gibbs to zero\n",
    "                n_gibbs=0\n",
    "                local_fantasy = np.concatenate((local_fantasy, S.reshape((1,local_fantasy.shape[1])) ), axis=0)\n",
    "                __self__._sanity(S)\n",
    "                n_fantasy+=1\n",
    "        \n",
    "        return local_fantasy\n",
    "\n",
    "    def correlation_matrice(__self__, designM: np.array) -> np.array:\n",
    "        '''\n",
    "        Given a matrice that is data-like / design matrice-like, returns the matrice of correlation between the datapoints\n",
    "        '''\n",
    "        return empirical_covariance(designM)\n",
    "    \n",
    "    def frequency(__self__, designM: np.array):\n",
    "        '''\n",
    "        Returns the empirical frequency computed from designM\n",
    "        '''\n",
    "\n",
    "        frequency = designM.sum(axis=0)\n",
    "        frequency.dtype=float\n",
    "\n",
    "        for i in range(0,len(frequency)//20):\n",
    "            frequency[i*20:(i+1)*20] = frequency[i*20:(i+1)*20] / frequency[i*20:(i+1)*20].sum()\n",
    "\n",
    "        return frequency \n",
    "\n",
    "\n",
    "    def fit_sgd(__self__, batch_size=10, eta=0.001, maxiter=100, tol=1.e-3) -> None:\n",
    "        '''\n",
    "        Implements the gradient descent alogorithm\n",
    "        Change the value of J to the fitted one\n",
    "        '''\n",
    "        for i in range(maxiter):\n",
    "            print(i)\n",
    "            local_fantasy = __self__.gibbs_sampler( initS = __self__.data[0, :], initJ=__self__.J, inith=__self__.h, n_samples = batch_size)\n",
    "            local_data = shuffle(__self__.data)[0:batch_size, :]\n",
    "            gradJ = empirical_covariance(local_data) - empirical_covariance(local_fantasy)\n",
    "            gradh = __self__.frequency(local_data) - __self__.frequency(local_fantasy)\n",
    "\n",
    "            learningJ, learningH = True, True\n",
    "\n",
    "            if learningJ:\n",
    "                oldJ = __self__.J\n",
    "                __self__.J = __self__.J - eta*gradJ\n",
    "                __self__.J = __self__._conditionJ(__self__.J)\n",
    "    \n",
    "            if learningH:\n",
    "                oldh = __self__.h\n",
    "                __self__.h = __self__.h - eta * gradh\n",
    "\n",
    "            if ( (__self__.J - oldJ) * (__self__.J - oldJ) ).sum() < tol:\n",
    "                learningJ=False\n",
    "\n",
    "            if ( (__self__.h-oldh) * (__self__.h - oldh) ).sum() < tol:\n",
    "                learningH=False\n",
    "\n",
    "            if (not learningH) and (not learningJ):\n",
    "                print(\"The fit has converged\")\n",
    "                break\n",
    "        \n",
    "        print('Warning: the fit has not converged, it was stopped by maxiter')"
   ]
  },
  {
   "cell_type": "code",
   "execution_count": 18,
   "metadata": {},
   "outputs": [
    {
     "data": {
      "text/plain": [
       "Text(0.5, 1.0, 'Design Matrix of the fantasy')"
      ]
     },
     "execution_count": 18,
     "metadata": {},
     "output_type": "execute_result"
    },
    {
     "data": {
      "image/png": "[encoded data removed]",
      "text/plain": [
       "<Figure size 1000x1000 with 1 Axes>"
      ]
     },
     "metadata": {},
     "output_type": "display_data"
    }
   ],
   "source": [
    "model=sk_model2(seq_nat.designM)\n",
    "fantasy=model.gibbs_sampler(model.data[0,:], model.J,model.h, n_samples=100, n_gibbs_step=10, n_dropout=10)\n",
    "\n",
    "#figure of the desugn matrix\n",
    "fig2, ax2 = plt.subplots(figsize=(10,10))\n",
    "\n",
    "ax2.imshow(fantasy, cmap='binary', interpolation='none')\n",
    "\n",
    "ax2.set_ylabel('Datapoints')\n",
    "ax2.set_xlabel('Features')\n",
    "ax2.set_title('Design Matrix of the fantasy')"
   ]
  },
  {
   "cell_type": "code",
   "execution_count": 19,
   "metadata": {},
   "outputs": [
    {
     "data": {
      "text/plain": [
       "<matplotlib.collections.PathCollection at 0x12873fe00>"
      ]
     },
     "execution_count": 19,
     "metadata": {},
     "output_type": "execute_result"
    },
    {
     "data": {
      "image/png": "[encoded data removed]",
      "text/plain": [
       "<Figure size 640x480 with 1 Axes>"
      ]
     },
     "metadata": {},
     "output_type": "display_data"
    }
   ],
   "source": [
    "from sklearn.decomposition import PCA\n",
    "pca = PCA(2)\n",
    "twDfanta=pca.fit_transform(fantasy)\n",
    "twDdata=pca.transform(seq_nat.designM)\n",
    "plt.scatter(twDdata[:,0], twDdata[:,1], )\n",
    "plt.scatter(twDfanta[:,0], twDfanta[:,1])"
   ]
  },
  {
   "cell_type": "code",
   "execution_count": 20,
   "metadata": {},
   "outputs": [
    {
     "data": {
      "text/plain": [
       "<matplotlib.collections.PathCollection at 0x1287b68a0>"
      ]
     },
     "execution_count": 20,
     "metadata": {},
     "output_type": "execute_result"
    },
    {
     "data": {
      "image/png": "[encoded data removed]",
      "text/plain": [
       "<Figure size 640x480 with 1 Axes>"
      ]
     },
     "metadata": {},
     "output_type": "display_data"
    }
   ],
   "source": [
    "from sklearn.decomposition import PCA\n",
    "pca = PCA(2)\n",
    "twDdata=pca.fit_transform(seq_nat.designM)\n",
    "twDfanta=pca.transform(fantasy)\n",
    "plt.scatter(twDdata[:,0], twDdata[:,1])\n",
    "plt.scatter(twDfanta[:,0], twDfanta[:,1])"
   ]
  },
  {
   "cell_type": "code",
   "execution_count": 21,
   "metadata": {},
   "outputs": [
    {
     "name": "stdout",
     "output_type": "stream",
     "text": [
      "0\n",
      "1\n"
     ]
    },
    {
     "name": "stderr",
     "output_type": "stream",
     "text": [
      "/var/folders/jk/fwlqxg255f12b5_dyr_f4_6w0000gn/T/ipykernel_1209/2931010027.py:159: RuntimeWarning: invalid value encountered in divide\n",
      "  frequency[i*20:(i+1)*20] = frequency[i*20:(i+1)*20] / frequency[i*20:(i+1)*20].sum()\n"
     ]
    },
    {
     "name": "stdout",
     "output_type": "stream",
     "text": [
      "2\n"
     ]
    },
    {
     "ename": "KeyboardInterrupt",
     "evalue": "",
     "output_type": "error",
     "traceback": [
      "\u001b[0;31m---------------------------------------------------------------------------\u001b[0m",
      "\u001b[0;31mKeyboardInterrupt\u001b[0m                         Traceback (most recent call last)",
      "Cell \u001b[0;32mIn[21], line 1\u001b[0m\n\u001b[0;32m----> 1\u001b[0m \u001b[43mmodel\u001b[49m\u001b[38;5;241;43m.\u001b[39;49m\u001b[43mfit_sgd\u001b[49m\u001b[43m(\u001b[49m\u001b[43mbatch_size\u001b[49m\u001b[38;5;241;43m=\u001b[39;49m\u001b[38;5;241;43m10\u001b[39;49m\u001b[43m,\u001b[49m\u001b[43m \u001b[49m\u001b[43meta\u001b[49m\u001b[38;5;241;43m=\u001b[39;49m\u001b[38;5;241;43m0.01\u001b[39;49m\u001b[43m,\u001b[49m\u001b[43m \u001b[49m\u001b[43mmaxiter\u001b[49m\u001b[38;5;241;43m=\u001b[39;49m\u001b[38;5;241;43m100\u001b[39;49m\u001b[43m,\u001b[49m\u001b[43m \u001b[49m\u001b[43mtol\u001b[49m\u001b[38;5;241;43m=\u001b[39;49m\u001b[38;5;241;43m1e-3\u001b[39;49m\u001b[43m)\u001b[49m\n",
      "Cell \u001b[0;32mIn[17], line 171\u001b[0m, in \u001b[0;36msk_model2.fit_sgd\u001b[0;34m(__self__, batch_size, eta, maxiter, tol)\u001b[0m\n\u001b[1;32m    169\u001b[0m \u001b[38;5;28;01mfor\u001b[39;00m i \u001b[38;5;129;01min\u001b[39;00m \u001b[38;5;28mrange\u001b[39m(maxiter):\n\u001b[1;32m    170\u001b[0m     \u001b[38;5;28mprint\u001b[39m(i)\n\u001b[0;32m--> 171\u001b[0m     local_fantasy \u001b[38;5;241m=\u001b[39m \u001b[38;5;18;43m__self__\u001b[39;49m\u001b[38;5;241;43m.\u001b[39;49m\u001b[43mgibbs_sampler\u001b[49m\u001b[43m(\u001b[49m\u001b[43m \u001b[49m\u001b[43minitS\u001b[49m\u001b[43m \u001b[49m\u001b[38;5;241;43m=\u001b[39;49m\u001b[43m \u001b[49m\u001b[38;5;18;43m__self__\u001b[39;49m\u001b[38;5;241;43m.\u001b[39;49m\u001b[43mdata\u001b[49m\u001b[43m[\u001b[49m\u001b[38;5;241;43m0\u001b[39;49m\u001b[43m,\u001b[49m\u001b[43m \u001b[49m\u001b[43m:\u001b[49m\u001b[43m]\u001b[49m\u001b[43m,\u001b[49m\u001b[43m \u001b[49m\u001b[43minitJ\u001b[49m\u001b[38;5;241;43m=\u001b[39;49m\u001b[38;5;18;43m__self__\u001b[39;49m\u001b[38;5;241;43m.\u001b[39;49m\u001b[43mJ\u001b[49m\u001b[43m,\u001b[49m\u001b[43m \u001b[49m\u001b[43minith\u001b[49m\u001b[38;5;241;43m=\u001b[39;49m\u001b[38;5;18;43m__self__\u001b[39;49m\u001b[38;5;241;43m.\u001b[39;49m\u001b[43mh\u001b[49m\u001b[43m,\u001b[49m\u001b[43m \u001b[49m\u001b[43mn_samples\u001b[49m\u001b[43m \u001b[49m\u001b[38;5;241;43m=\u001b[39;49m\u001b[43m \u001b[49m\u001b[43mbatch_size\u001b[49m\u001b[43m)\u001b[49m\n\u001b[1;32m    172\u001b[0m     local_data \u001b[38;5;241m=\u001b[39m shuffle(\u001b[38;5;18m__self__\u001b[39m\u001b[38;5;241m.\u001b[39mdata)[\u001b[38;5;241m0\u001b[39m:batch_size, :]\n\u001b[1;32m    173\u001b[0m     gradJ \u001b[38;5;241m=\u001b[39m empirical_covariance(local_data) \u001b[38;5;241m-\u001b[39m empirical_covariance(local_fantasy)\n",
      "Cell \u001b[0;32mIn[17], line 120\u001b[0m, in \u001b[0;36msk_model2.gibbs_sampler\u001b[0;34m(__self__, initS, initJ, inith, n_samples, n_gibbs_step, n_dropout)\u001b[0m\n\u001b[1;32m    118\u001b[0m idx \u001b[38;5;241m=\u001b[39m randint(\u001b[38;5;241m0\u001b[39m,\u001b[38;5;241m21\u001b[39m) \u001b[38;5;66;03m# one should rather use the box-Mueller algorithm\u001b[39;00m\n\u001b[1;32m    119\u001b[0m rnd \u001b[38;5;241m=\u001b[39m random()\n\u001b[0;32m--> 120\u001b[0m p\u001b[38;5;241m=\u001b[39m\u001b[38;5;18;43m__self__\u001b[39;49m\u001b[38;5;241;43m.\u001b[39;49m\u001b[43m_proba\u001b[49m\u001b[43m(\u001b[49m\u001b[43midx\u001b[49m\u001b[43m,\u001b[49m\u001b[43m \u001b[49m\u001b[43mi\u001b[49m\u001b[43m,\u001b[49m\u001b[43m \u001b[49m\u001b[43mloc_S\u001b[49m\u001b[38;5;241;43m=\u001b[39;49m\u001b[43mS\u001b[49m\u001b[43m \u001b[49m\u001b[43m,\u001b[49m\u001b[43mloc_J\u001b[49m\u001b[38;5;241;43m=\u001b[39;49m\u001b[43minitJ\u001b[49m\u001b[43m,\u001b[49m\u001b[43m \u001b[49m\u001b[43mloc_h\u001b[49m\u001b[38;5;241;43m=\u001b[39;49m\u001b[43minith\u001b[49m\u001b[43m)\u001b[49m\n\u001b[1;32m    122\u001b[0m \u001b[38;5;66;03m# print('iterations: ',i,idx, n_fantasy,p)\u001b[39;00m\n\u001b[1;32m    123\u001b[0m \u001b[38;5;28;01mif\u001b[39;00m rnd \u001b[38;5;241m<\u001b[39m p:\n",
      "Cell \u001b[0;32mIn[17], line 28\u001b[0m, in \u001b[0;36msk_model2._proba\u001b[0;34m(__self__, idx, AApos, loc_S, loc_J, loc_h)\u001b[0m\n\u001b[1;32m     15\u001b[0m \u001b[38;5;28;01mdef\u001b[39;00m \u001b[38;5;21m_proba\u001b[39m(\u001b[38;5;18m__self__\u001b[39m, idx: \u001b[38;5;28mint\u001b[39m, AApos: \u001b[38;5;28mint\u001b[39m, loc_S, loc_J, loc_h) \u001b[38;5;241m-\u001b[39m\u001b[38;5;241m>\u001b[39m \u001b[38;5;28mfloat\u001b[39m:\n\u001b[1;32m     16\u001b[0m \u001b[38;5;250m    \u001b[39m\u001b[38;5;124;03m'''\u001b[39;00m\n\u001b[1;32m     17\u001b[0m \u001b[38;5;124;03m    When idx in (0,20(, returns the probability of the ith feature to be non zero, knowing the other featuress.\u001b[39;00m\n\u001b[1;32m     18\u001b[0m \u001b[38;5;124;03m    When idx == 20, it evaluates the probability to have all the feature representing an aminoacide\u001b[39;00m\n\u001b[0;32m   (...)\u001b[0m\n\u001b[1;32m     26\u001b[0m \u001b[38;5;124;03m        S            -> a vector size n_feature that gives the initial configuration of the amino acid sequence\u001b[39;00m\n\u001b[1;32m     27\u001b[0m \u001b[38;5;124;03m    '''\u001b[39;00m\n\u001b[0;32m---> 28\u001b[0m     Z \u001b[38;5;241m=\u001b[39m \u001b[38;5;241m1\u001b[39m \u001b[38;5;241m+\u001b[39m (np\u001b[38;5;241m.\u001b[39mexp( \u001b[38;5;241m-\u001b[39m \u001b[43mnp\u001b[49m\u001b[38;5;241;43m.\u001b[39;49m\u001b[43mlongdouble\u001b[49m\u001b[43m(\u001b[49m\u001b[43m \u001b[49m\u001b[43mloc_J\u001b[49m\u001b[43m \u001b[49m\u001b[38;5;241;43m@\u001b[39;49m\u001b[43m \u001b[49m\u001b[43mloc_S\u001b[49m\u001b[43m \u001b[49m\u001b[38;5;241;43m+\u001b[39;49m\u001b[43m \u001b[49m\u001b[43mloc_h\u001b[49m\u001b[38;5;129;43m@loc_S\u001b[39;49m\u001b[43m)\u001b[49m )[\u001b[38;5;241m20\u001b[39m\u001b[38;5;241m*\u001b[39mAApos:\u001b[38;5;241m20\u001b[39m\u001b[38;5;241m*\u001b[39mAApos\u001b[38;5;241m+\u001b[39midx])\u001b[38;5;241m.\u001b[39msum()\n\u001b[1;32m     30\u001b[0m     \u001b[38;5;28;01mif\u001b[39;00m idx\u001b[38;5;241m==\u001b[39m\u001b[38;5;241m20\u001b[39m:\n\u001b[1;32m     31\u001b[0m         w\u001b[38;5;241m=\u001b[39m\u001b[38;5;241m1\u001b[39m\n",
      "\u001b[0;31mKeyboardInterrupt\u001b[0m: "
     ]
    }
   ],
   "source": [
    "model.fit_sgd(batch_size=10, eta=0.01, maxiter=100, tol=1e-3)"
   ]
  },
  {
   "cell_type": "code",
   "execution_count": null,
   "metadata": {},
   "outputs": [],
   "source": [
    "fantasy=model.gibbs_sampler(model.data[100,:], model.J, model.h, n_samples=500, n_gibbs_step=20, n_dropout=0)\n",
    "\n",
    "from sklearn.decomposition import PCA\n",
    "pca = PCA(2)\n",
    "twDfanta=pca.fit_transform(fantasy)\n",
    "twDdata=pca.transform(seq_nat.designM)\n",
    "plt.scatter(twDdata[:,0], twDdata[:,1], )\n",
    "plt.scatter(twDfanta[:,0], twDfanta[:,1])\n"
   ]
  },
  {
   "cell_type": "code",
   "execution_count": null,
   "metadata": {},
   "outputs": [],
   "source": [
    "from sklearn.decomposition import PCA\n",
    "pca2 = PCA(2)\n",
    "twDdata=pca2.fit_transform(seq_nat.designM)\n",
    "twDfanta=pca2.transform(fantasy)\n",
    "plt.scatter(twDdata[:,0], twDdata[:,1])\n",
    "plt.scatter(twDfanta[:,0], twDfanta[:,1])"
   ]
  },
  {
   "cell_type": "markdown",
   "metadata": {},
   "source": []
  }
 ],
 "metadata": {
  "kernelspec": {
   "display_name": "Python 3",
   "language": "python",
   "name": "python3"
  },
  "language_info": {
   "codemirror_mode": {
    "name": "ipython",
    "version": 3
   },
   "file_extension": ".py",
   "mimetype": "text/x-python",
   "name": "python",
   "nbconvert_exporter": "python",
   "pygments_lexer": "ipython3",
   "version": "3.12.0"
  }
 },
 "nbformat": 4,
 "nbformat_minor": 2
}
