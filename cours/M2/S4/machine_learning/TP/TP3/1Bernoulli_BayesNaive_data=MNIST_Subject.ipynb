{
 "cells": [
  {
   "cell_type": "markdown",
   "metadata": {},
   "source": [
    "## Jupyter Notebook:\n",
    "check a few things: how to save (Ctrl+S), how to run a code block (Caps+Enter),how to move (arrows), how to create a cell (find it yourself ! : browse the menus a bit before starting !).\n",
    "Note: in jupyter, like in ipython, if you just write a variable name at the end of your code (or running cell), its value will be displayed (you do not need to write \"print(myVariable)\", it's enough to write \"myVariable\")"
   ]
  },
  {
   "cell_type": "code",
   "execution_count": 1,
   "metadata": {},
   "outputs": [
    {
     "data": {
      "text/plain": [
       "'3.11.6'"
      ]
     },
     "execution_count": 1,
     "metadata": {},
     "output_type": "execute_result"
    }
   ],
   "source": [
    "from platform import python_version\n",
    "python_version()"
   ]
  },
  {
   "cell_type": "code",
   "execution_count": 2,
   "metadata": {},
   "outputs": [
    {
     "name": "stdout",
     "output_type": "stream",
     "text": [
      "3.11.6\n"
     ]
    },
    {
     "data": {
      "text/plain": [
       "'some string with some value, typed into the last line of the cell'"
      ]
     },
     "execution_count": 2,
     "metadata": {},
     "output_type": "execute_result"
    }
   ],
   "source": [
    "python_version()\n",
    "print(python_version()) #does the same as above\n",
    "\"some string with some value, typed into the last line of the cell\""
   ]
  },
  {
   "cell_type": "code",
   "execution_count": 3,
   "metadata": {},
   "outputs": [
    {
     "name": "stdout",
     "output_type": "stream",
     "text": [
      "3.11.6\n"
     ]
    },
    {
     "data": {
      "text/plain": [
       "'3.11.6'"
      ]
     },
     "execution_count": 3,
     "metadata": {},
     "output_type": "execute_result"
    }
   ],
   "source": [
    "print(python_version()) #does the same as above\n",
    "python_version()"
   ]
  },
  {
   "cell_type": "code",
   "execution_count": 4,
   "metadata": {},
   "outputs": [],
   "source": [
    "# ### this is useful only if you unfortunately run suing python2. If you run python3, these lines are effect-less.\n",
    "from __future__ import absolute_import\n",
    "from __future__ import division\n",
    "from __future__ import print_function"
   ]
  },
  {
   "cell_type": "markdown",
   "metadata": {
    "slideshow": {
     "slide_type": "-"
    }
   },
   "source": [
    "# Goal of the tutorial:\n",
    "\n",
    "The aim of this tutorial is to implement the Naive Bayesian calssifier on the MNIST image data set. (optionally, also on the 20newsgroups text data set).\n",
    "\n",
    "Let's begin with MNIST. It's in the GDrive, and may be accessed \"locally\" at: \n",
    "https://www.lri.fr/~flandes/share/ \n",
    "    \n",
    "MNIST contains images (observations, inputs) of single hand-written digits and the corresponding classes (labels, Ground Truth). \n",
    "So it is a 10-classes classification problem (0 to 9).\n",
    "\n",
    "\n",
    "## Loading the data"
   ]
  },
  {
   "cell_type": "code",
   "execution_count": 14,
   "metadata": {},
   "outputs": [],
   "source": [
    "import numpy as np\n",
    "import matplotlib\n",
    "import matplotlib.pyplot as plt \n",
    "import numpy as np\n",
    "import sklearn as sk\n",
    "from sklearn.model_selection import train_test_split\n",
    "\n",
    "data = np.load('mnist70.npz', 'X', 'y')\n",
    "X = data['X']\n",
    "y = data['y']\n",
    "\n",
    "X_train, X_test, y_train, y_test = train_test_split(X, y, test_size=0.33, random_state=42)\n",
    "\n",
    "train_set = [X_train, y_train]\n",
    "test_set  = [X_test,  y_test]"
   ]
  },
  {
   "cell_type": "code",
   "execution_count": 15,
   "metadata": {},
   "outputs": [
    {
     "data": {
      "text/plain": [
       "<matplotlib.image.AxesImage at 0x7f323a273010>"
      ]
     },
     "execution_count": 15,
     "metadata": {},
     "output_type": "execute_result"
    },
    {
     "data": {
      "image/png": "[encoded data removed]",
      "text/plain": [
       "<Figure size 640x480 with 1 Axes>"
      ]
     },
     "metadata": {},
     "output_type": "display_data"
    }
   ],
   "source": [
    "plt.imshow(X_train[0].reshape(28,28) , matplotlib.pyplot.cm.gray)"
   ]
  },
  {
   "cell_type": "markdown",
   "metadata": {},
   "source": [
    "## Content of data\n",
    "\n",
    "Images are stored as numpy arrays, where each line is an image, i.e. a 784-rows vector (28x28=784). Each pixel encodes a Grey value between 0 and 1.\n",
    "* What do train_set, valid_set, test_set contain ? (size, type, ... )\n",
    "* Write a function binarize_image(image, threshold) with a default threshold=0.5 to project an image onto binary pixels (black&white intead of grey levels)\n",
    "* Try various thresholds and look for differences."
   ]
  },
  {
   "cell_type": "code",
   "execution_count": 31,
   "metadata": {},
   "outputs": [],
   "source": [
    "def binarize_image(image, threshold=0.5):\n",
    "    binarized_image = image.copy()\n",
    "\n",
    "    threshold       = np.mean(image)\n",
    "    binarized_image = binarized_image > threshold\n",
    "    \n",
    "    return binarized_image\n",
    "\n",
    "def batch_binarize_images(images, threshold=0.5):\n",
    "    binarized_images = images.copy()\n",
    "\n",
    "    thresholds       = np.mean(images, axis=1)\n",
    "    thresholds       = np.repeat(np.expand_dims(thresholds, 1), images.shape[1], 1)\n",
    "    binarized_images = binarized_images > thresholds\n",
    "    \n",
    "    return binarized_images"
   ]
  },
  {
   "cell_type": "code",
   "execution_count": 32,
   "metadata": {},
   "outputs": [
    {
     "data": {
      "text/plain": [
       "<matplotlib.image.AxesImage at 0x7f326b5e1490>"
      ]
     },
     "execution_count": 32,
     "metadata": {},
     "output_type": "execute_result"
    },
    {
     "data": {
      "image/png": "[encoded data removed]",
      "text/plain": [
       "<Figure size 640x480 with 1 Axes>"
      ]
     },
     "metadata": {},
     "output_type": "display_data"
    }
   ],
   "source": [
    "plt.imshow(binarize_image(X_train[0]).reshape(28,28) , matplotlib.pyplot.cm.gray)"
   ]
  },
  {
   "cell_type": "markdown",
   "metadata": {},
   "source": [
    "## Getting to know the data\n",
    "Here are a few examples"
   ]
  },
  {
   "cell_type": "code",
   "execution_count": 33,
   "metadata": {
    "scrolled": true
   },
   "outputs": [
    {
     "name": "stdout",
     "output_type": "stream",
     "text": [
      "shape d'images  :(46900, 784)\n",
      "shape de labels :(46900,)\n",
      "val. max   0.99609375\n",
      "val. min   0.0\n",
      "val. mean  0.13060701\n",
      "val. var   0.09453307\n",
      "Nombre d'images dont le label est 5 :4206\n",
      "fives contains all images of which the label is 5, there number is:(4206, 784)\n"
     ]
    }
   ],
   "source": [
    "# getting images and their labels\n",
    "images = train_set[0]\n",
    "labels = train_set[1]\n",
    "images_test = test_set[0]\n",
    "labels_test = test_set[1]\n",
    "print(\"shape d'images  :\"+str(images.shape))\n",
    "print(\"shape de labels :\"+str(labels.shape))\n",
    "# values\n",
    "print(\"val. max  \", images.max())\n",
    "print(\"val. min  \", images.min())\n",
    "print(\"val. mean \", images.mean())\n",
    "print(\"val. var  \", images.var())\n",
    "\n",
    "\n",
    "# how many images represent the digit \"5\" ?\n",
    "print(\"Nombre d'images dont le label est 5 :\"+str((labels==5).sum()))\n",
    "# labels==5 returns an ndarray of same dimensionality as labels but filled with booleans.\n",
    "# if the label is 5, True (1), else, False (0).\n",
    "# On peut se servir de cet ndarray pour faire du slicing de images\n",
    "fives = (images[labels==5])\n",
    "print(\"fives contains all images of which the label is 5, there number is:\"+str(fives.shape))\n"
   ]
  },
  {
   "cell_type": "markdown",
   "metadata": {},
   "source": [
    "## Naive Bayesian (model chosen: Bernoulli)\n",
    "Observations (images) are initially continuous. We need to project these data onto the space accessible to our model. In the case of Bernoulli, each pixel can only be 0 or 1 (intermediate values cannot be sampled from a Bernoulli law).\n",
    "\n",
    "### pre-processing (of the data -what else?)\n",
    "\n",
    "- Apply the thresholding operation to all *train* and *test* data. (it may take ~O(1) minute: try your function on test images, they are fewer)\n",
    "- Check it on a couple of images.\n"
   ]
  },
  {
   "cell_type": "code",
   "execution_count": 36,
   "metadata": {},
   "outputs": [],
   "source": [
    "bianrize_test_images  = batch_binarize_images(images_test)\n",
    "bianrize_train_images = batch_binarize_images(images)"
   ]
  },
  {
   "cell_type": "code",
   "execution_count": 37,
   "metadata": {},
   "outputs": [
    {
     "data": {
      "text/plain": [
       "<matplotlib.image.AxesImage at 0x7f326b323450>"
      ]
     },
     "execution_count": 37,
     "metadata": {},
     "output_type": "execute_result"
    },
    {
     "data": {
      "image/png": "[encoded data removed]",
      "text/plain": [
       "<Figure size 640x480 with 1 Axes>"
      ]
     },
     "metadata": {},
     "output_type": "display_data"
    }
   ],
   "source": [
    "plt.imshow(bianrize_test_images[10].reshape(28,28) , matplotlib.pyplot.cm.gray)"
   ]
  },
  {
   "cell_type": "markdown",
   "metadata": {},
   "source": [
    "## Implementing the Naive Bayesian, Bernoulli\n",
    "\n",
    "To implement this classifier, there are only two steps:\n",
    "- estimating parameters $\\theta$ (including the prior probability for each class).\n",
    "- inference itself:\n",
    "    - knowing the parameters, return the posterior probability of classes\n",
    "    - (for each image) infer the class (given the model, and this image' data)\n",
    "\n",
    "\n",
    "To-do list:\n",
    "Before coding, **pen and paper** !\n",
    "- Which are the parameters $\\theta$? Define them precisely.\n",
    "- Write down the exact equations for each step; ideally, down to the pixel level.\n",
    "\n",
    "If you don't know how to start, start with the end: write down the probability P(y|X) (see your lecture notes)"
   ]
  },
  {
   "cell_type": "markdown",
   "metadata": {},
   "source": [
    "\n",
    "Now that **you know exactly what you want**, write down the functions needed.\n",
    "\n",
    "Check them at several stages: \n",
    "- represent the parameters as images or graphs, (choose adequately)\n",
    "- check your prediction on a couple of examples (not just 1 !!)"
   ]
  },
  {
   "cell_type": "code",
   "execution_count": 60,
   "metadata": {},
   "outputs": [],
   "source": [
    "## extract the parameters (those associated to each class, which are essentially \"representatives\")\n",
    "def get_bernouilli_params(X, y):\n",
    "    unique_labels = np.sort(np.unique(y))\n",
    "    p_kd = np.zeros((len(unique_labels), X.shape[1]))\n",
    "    \n",
    "    for k in unique_labels:\n",
    "        p_kd[k, :] = np.mean(X[y == k, ], axis=0)\n",
    "        \n",
    "    return p_kd\n",
    "\n",
    "p_kd = get_bernouilli_params(bianrize_train_images, labels)"
   ]
  },
  {
   "cell_type": "code",
   "execution_count": 59,
   "metadata": {
    "scrolled": true
   },
   "outputs": [
    {
     "data": {
      "text/plain": [
       "<matplotlib.image.AxesImage at 0x7f326ae5d6d0>"
      ]
     },
     "execution_count": 59,
     "metadata": {},
     "output_type": "execute_result"
    },
    {
     "data": {
      "image/png": "[encoded data removed]",
      "text/plain": [
       "<Figure size 640x480 with 1 Axes>"
      ]
     },
     "metadata": {},
     "output_type": "display_data"
    }
   ],
   "source": [
    "plt.imshow(p_kd[3].reshape(28,28), matplotlib.pyplot.cm.gray)"
   ]
  },
  {
   "cell_type": "code",
   "execution_count": 66,
   "metadata": {},
   "outputs": [],
   "source": [
    "## compute the priors (for each class)\n",
    "def get_priors(y):\n",
    "    unique_labels = np.sort(np.unique(y))\n",
    "    priors = np.array([np.sum(y == k) for k in unique_labels])\n",
    "    priors = priors/np.sum(priors)\n",
    "    return priors\n",
    "\n",
    "priors = get_priors(labels)"
   ]
  },
  {
   "cell_type": "code",
   "execution_count": 69,
   "metadata": {},
   "outputs": [
    {
     "name": "stdout",
     "output_type": "stream",
     "text": [
      "[-368.66132768 -536.42428494 -317.95968728 -292.54923193 -339.68844111\n",
      " -269.34316111 -465.46724832 -446.95215934 -212.69696904 -405.66031567]\n",
      "8\n"
     ]
    },
    {
     "data": {
      "text/plain": [
       "<matplotlib.image.AxesImage at 0x7f326ae002d0>"
      ]
     },
     "execution_count": 69,
     "metadata": {},
     "output_type": "execute_result"
    },
    {
     "data": {
      "image/png": "[encoded data removed]",
      "text/plain": [
       "<Figure size 640x480 with 1 Axes>"
      ]
     },
     "metadata": {},
     "output_type": "display_data"
    }
   ],
   "source": [
    "## make a function that computes the posterior, for a given image\n",
    "# trick: when computing log(p), one should type log(1+epsilon), to avoid float overflow errors (when p~0)\n",
    "def computePosteriors(image, epsilon=1e-5):\n",
    "    NLABELS = len(priors)\n",
    "    \n",
    "    posteriors = np.array([\n",
    "          np.dot(    image, np.log(    p_kd[k, :] + epsilon))\n",
    "        + np.dot(1 - image, np.log(1 - p_kd[k, :] + epsilon))\n",
    "        + priors[k]\n",
    "            for k in range(NLABELS)\n",
    "        ])\n",
    "    \n",
    "    return posteriors\n",
    "\n",
    "posteriors = computePosteriors(bianrize_test_images[0])\n",
    "print(posteriors)\n",
    "print(np.argmax(posteriors))\n",
    "plt.imshow(images_test[0].reshape(28,28), matplotlib.pyplot.cm.gray)"
   ]
  },
  {
   "cell_type": "markdown",
   "metadata": {},
   "source": [
    "### [option 1: apply your function to all the train/test data]"
   ]
  },
  {
   "cell_type": "code",
   "execution_count": 73,
   "metadata": {},
   "outputs": [],
   "source": [
    "def makePrediction(images):\n",
    "    N = images.shape[0]\n",
    "    prediction = np.zeros(N, dtype=int)\n",
    "    for i in range(N):\n",
    "        posteriors    = computePosteriors(images[i], epsilon=1e-5)\n",
    "        prediction[i] = np.argmax(posteriors)\n",
    "    return prediction\n",
    "\n",
    "prediction_test = makePrediction(bianrize_test_images)"
   ]
  },
  {
   "cell_type": "code",
   "execution_count": 74,
   "metadata": {},
   "outputs": [
    {
     "name": "stdout",
     "output_type": "stream",
     "text": [
      "0.8363203463203464\n"
     ]
    }
   ],
   "source": [
    "accuracy = np.mean(prediction_test == labels_test)\n",
    "print(accuracy)"
   ]
  },
  {
   "cell_type": "markdown",
   "metadata": {},
   "source": [
    "### [option 2: re-write your function in a more pythonic way, handling all images at once]"
   ]
  },
  {
   "cell_type": "code",
   "execution_count": 81,
   "metadata": {},
   "outputs": [],
   "source": [
    "posteriorsAllImages = computePosteriors(bianrize_test_images)\n",
    "prediction_test = np.argmax(posteriorsAllImages, axis=0)"
   ]
  },
  {
   "cell_type": "code",
   "execution_count": 83,
   "metadata": {},
   "outputs": [
    {
     "name": "stdout",
     "output_type": "stream",
     "text": [
      "0.8363203463203464\n"
     ]
    }
   ],
   "source": [
    "accuracy = np.mean(prediction_test == labels_test)\n",
    "print(accuracy)"
   ]
  },
  {
   "cell_type": "markdown",
   "metadata": {},
   "source": [
    "note: \n",
    "\n",
    "at this point, you should have two arrays, *prediction_test_data* and *prediction_train*\n",
    "\n",
    "## evaluation of the quality of the classifier\n",
    "evaluate the classifier on the test data:\n",
    "- compute the error rate\n",
    "- show the confusion matrix\n"
   ]
  },
  {
   "cell_type": "code",
   "execution_count": null,
   "metadata": {},
   "outputs": [],
   "source": []
  },
  {
   "cell_type": "code",
   "execution_count": null,
   "metadata": {},
   "outputs": [],
   "source": [
    "#confusion = np.zeros((10,10))\n",
    "## showing the confusion matrix with a color map (\"heat map\")\n",
    "import pylab as pl\n",
    "fig = plt.figure()\n",
    "ax = fig.add_subplot(111)\n",
    "cax = ax.matshow(confusion)\n",
    "pl.title('Confusion matrix of the classifier')\n",
    "fig.colorbar(cax)\n",
    "pl.xlabel('True')\n",
    "pl.ylabel('Pred.')\n",
    "pl.show()"
   ]
  },
  {
   "cell_type": "markdown",
   "metadata": {
    "collapsed": true,
    "jupyter": {
     "outputs_hidden": true
    }
   },
   "source": [
    "## checking using SciKit-learn\n",
    "\n",
    "We're going to check results by cmparing with SKlearn's implementation' output.\n",
    "- reproduce the experiment, using \n",
    "- try also with a Gaussian model (still Naive Bayes, but Gaussian instead of Bernoulli, still in SKlearn)"
   ]
  },
  {
   "cell_type": "code",
   "execution_count": null,
   "metadata": {},
   "outputs": [],
   "source": [
    "## TODO: choose which class you want to use from the package sklearn.naive_bayes\n",
    "from sklearn.naive_bayes import ## TODO \n",
    "## note: for a Gaussian model, use the data BEFORE binarization."
   ]
  }
 ],
 "metadata": {
  "anaconda-cloud": {},
  "kernelspec": {
   "display_name": "Python 3 (ipykernel)",
   "language": "python",
   "name": "python3"
  },
  "language_info": {
   "codemirror_mode": {
    "name": "ipython",
    "version": 3
   },
   "file_extension": ".py",
   "mimetype": "text/x-python",
   "name": "python",
   "nbconvert_exporter": "python",
   "pygments_lexer": "ipython3",
   "version": "3.11.6"
  }
 },
 "nbformat": 4,
 "nbformat_minor": 4
}
