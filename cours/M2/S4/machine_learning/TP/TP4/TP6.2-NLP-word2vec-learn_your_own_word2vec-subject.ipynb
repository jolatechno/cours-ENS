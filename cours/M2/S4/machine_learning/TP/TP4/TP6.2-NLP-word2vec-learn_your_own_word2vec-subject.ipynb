{
 "cells": [
  {
   "cell_type": "markdown",
   "metadata": {},
   "source": [
    "#### Credit: \n",
    "Kim Gerdes, Kirian Guiller"
   ]
  },
  {
   "cell_type": "code",
   "execution_count": 1,
   "metadata": {},
   "outputs": [],
   "source": [
    "## constants, for later\n",
    "WINDOW_SIZE = 3\n",
    "VOCAB_SIZE = 5000\n",
    "MEMORY_LIMIT = 10000\n",
    "EMBED_DIM = 100"
   ]
  },
  {
   "cell_type": "markdown",
   "metadata": {},
   "source": [
    "# A dive into embeddings\n",
    "\n",
    "## Outline:\n",
    "\n",
    "### Part 1. Data extraction, cleaning, tokenization, building a train set (skip gram)\n",
    "\n",
    "### Part 2. Learning word2vec in pure numpy\n",
    "\n",
    "### Part 3. Studying the result (learned embedding)"
   ]
  },
  {
   "cell_type": "markdown",
   "metadata": {},
   "source": [
    "Preliminary steps:\n",
    "- tokenization (very simple example)\n",
    "- token-words vs token-indices \n",
    "- initialization\n",
    "- visualization\n",
    "- forward, cost function, backward, training\n",
    "- first on a single sentence, then on a bigger text\n",
    "\n",
    "Main goal: understand the successive transformations which allow to get a decent vectorial representation of words."
   ]
  },
  {
   "cell_type": "code",
   "execution_count": 4,
   "metadata": {},
   "outputs": [],
   "source": [
    "import numpy as np\n",
    "import matplotlib.pyplot as plt\n",
    "import pandas as pd\n",
    "\n",
    "import os, time\n",
    "## handy files-loading-management: glob\n",
    "from glob import glob\n",
    "# re as Regular Expression\n",
    "import re\n",
    "import json\n",
    "\n",
    "## Counter: counting occurences easily (lazy method)\n",
    "from collections import Counter"
   ]
  },
  {
   "cell_type": "code",
   "execution_count": 85,
   "metadata": {},
   "outputs": [],
   "source": [
    "import torch\n",
    "import torch.nn as nn"
   ]
  },
  {
   "cell_type": "markdown",
   "metadata": {},
   "source": [
    "\n",
    "# Part 1. Data extraction, cleaning, tokenization, building a train set (skip gram)\n",
    "\n",
    "We perform the following steps, first on a short sentence:\n",
    "- tokenization\n",
    "- converting to indices (almost a one-hot vector)\n",
    "- generate training data (skip gram style)\n",
    "- Same operations but for an actual corpus\n",
    "\n",
    "\n",
    "## 1.1 Tokenization \n",
    "We convert a single sentence into tokens, i.e. words or equivalent, essentially"
   ]
  },
  {
   "cell_type": "code",
   "execution_count": 6,
   "metadata": {},
   "outputs": [
    {
     "data": {
      "text/plain": [
       "['il',\n",
       " 'm',\n",
       " 'a',\n",
       " 'bien',\n",
       " 'ennervée',\n",
       " 'ce',\n",
       " 'gars',\n",
       " 'là',\n",
       " 'avec',\n",
       " 'ce',\n",
       " 'copier',\n",
       " 'coller']"
      ]
     },
     "execution_count": 6,
     "metadata": {},
     "output_type": "execute_result"
    }
   ],
   "source": [
    "## simple tokenization:\n",
    "phrase = \"Il m’a bien ennervée, ce gars-là, avec ce copier-coller !\"\n",
    "retoken = re.compile(r\"\\w+\")\n",
    "retoken.findall(phrase.lower().replace('’',\"'\"))"
   ]
  },
  {
   "cell_type": "code",
   "execution_count": 7,
   "metadata": {},
   "outputs": [
    {
     "data": {
      "text/plain": [
       "['il',\n",
       " \"m'\",\n",
       " 'a',\n",
       " 'bien',\n",
       " 'ennervée',\n",
       " 'ce',\n",
       " 'gars',\n",
       " 'là',\n",
       " 'avec',\n",
       " 'ce',\n",
       " 'copier-coller']"
      ]
     },
     "execution_count": 7,
     "metadata": {},
     "output_type": "execute_result"
    }
   ],
   "source": [
    "## more advanced tokenization...\n",
    "phrase = \"Il m'a bien ennervée, ce gars-là, avec ce copier-coller !\"\n",
    "retoken = re.compile(r\"\\w+'?\")\n",
    "# the simpler is to first replace:\n",
    "reclitic = re.compile(r\"-(là|ci|je|tu|il|elle|t-il|t-elle|ils|elles|t-ils|t-elles|nous|vous)\")\n",
    "phrase = reclitic.sub(r' \\1',phrase)\n",
    "retoken = re.compile(r\"[\\w-]+'?\")\n",
    "retoken.findall(phrase.lower())"
   ]
  },
  {
   "cell_type": "code",
   "execution_count": 8,
   "metadata": {},
   "outputs": [],
   "source": [
    "def tokenize(phrase):\n",
    "    retoken = re.compile(r\"\\w+'?\")\n",
    "    retoken = re.compile(r\"[\\w-]+'?\")\n",
    "    return retoken.findall(reclitic.sub(r' \\1',phrase.lower()).replace('’',\"'\").replace('',\"'\")) \n",
    "    # problèmes d'encodage de certains fichiers : dEDF"
   ]
  },
  {
   "cell_type": "code",
   "execution_count": 24,
   "metadata": {},
   "outputs": [
    {
     "data": {
      "text/plain": [
       "['il',\n",
       " \"m'\",\n",
       " 'a',\n",
       " 'bien',\n",
       " 'ennervée',\n",
       " 'ce',\n",
       " 'gars',\n",
       " 'là',\n",
       " 'avec',\n",
       " 'ce',\n",
       " 'copier-coller']"
      ]
     },
     "execution_count": 24,
     "metadata": {},
     "output_type": "execute_result"
    }
   ],
   "source": [
    "tokens = tokenize(phrase)\n",
    "tokens"
   ]
  },
  {
   "cell_type": "markdown",
   "metadata": {},
   "source": [
    "## 1.2 Converting to indices (almost a one-hot vector)\n",
    "\n",
    "(and storing the mapping of course)"
   ]
  },
  {
   "cell_type": "code",
   "execution_count": 39,
   "metadata": {},
   "outputs": [
    {
     "data": {
      "text/plain": [
       "[('ce', 2),\n",
       " ('il', 1),\n",
       " (\"m'\", 1),\n",
       " ('a', 1),\n",
       " ('bien', 1),\n",
       " ('ennervée', 1),\n",
       " ('gars', 1),\n",
       " ('là', 1),\n",
       " ('avec', 1),\n",
       " ('copier-coller', 1)]"
      ]
     },
     "execution_count": 39,
     "metadata": {},
     "output_type": "execute_result"
    }
   ],
   "source": [
    "Counter(tokens).most_common()"
   ]
  },
  {
   "cell_type": "code",
   "execution_count": 46,
   "metadata": {},
   "outputs": [],
   "source": [
    "def mapping(tokens):\n",
    "    \"\"\"\n",
    "    tokens : list of tokens\n",
    "    tok2id : dictionnary : link between tokens (in letters) and token-index\n",
    "    id2tok : dictionnary:  inverse of tok2id\n",
    "    fin todo\n",
    "    \"\"\"\n",
    "    tok2id = dict()\n",
    "    id2tok = dict()\n",
    "\n",
    "    unique_token = np.unique(tokens)\n",
    "    for i,token in enumerate(unique_token):\n",
    "        tok2id[token] = i\n",
    "        id2tok[i]     = token\n",
    "\n",
    "    return tok2id, id2tok"
   ]
  },
  {
   "cell_type": "code",
   "execution_count": 47,
   "metadata": {},
   "outputs": [
    {
     "data": {
      "text/plain": [
       "({'a': 0,\n",
       "  'avec': 1,\n",
       "  'bien': 2,\n",
       "  'ce': 3,\n",
       "  'copier-coller': 4,\n",
       "  'ennervée': 5,\n",
       "  'gars': 6,\n",
       "  'il': 7,\n",
       "  'là': 8,\n",
       "  \"m'\": 9},\n",
       " {0: 'a',\n",
       "  1: 'avec',\n",
       "  2: 'bien',\n",
       "  3: 'ce',\n",
       "  4: 'copier-coller',\n",
       "  5: 'ennervée',\n",
       "  6: 'gars',\n",
       "  7: 'il',\n",
       "  8: 'là',\n",
       "  9: \"m'\"})"
      ]
     },
     "execution_count": 47,
     "metadata": {},
     "output_type": "execute_result"
    }
   ],
   "source": [
    "tok2id, id2tok = mapping(tokens)\n",
    "tok2id, id2tok"
   ]
  },
  {
   "cell_type": "markdown",
   "metadata": {},
   "source": [
    "## 1.3 Create training data (skip-gram style)"
   ]
  },
  {
   "cell_type": "code",
   "execution_count": 48,
   "metadata": {},
   "outputs": [],
   "source": [
    "def generate_training_data(tokens, tok2id, window_size):\n",
    "    \"\"\"\n",
    "    we create pairs of X,Y for training:\n",
    "    X and Y have same length: \n",
    "    X is the index of the input token,\n",
    "    Y is the one-hot (several-hot actually) encoding of the context tokens (output)\n",
    "    \"\"\"\n",
    "    vocabulary = tok2id.keys()\n",
    "    X = []\n",
    "    Y = []\n",
    "    N = len(tokens)\n",
    "    if N >= 2*window_size+1:\n",
    "        ## replace unknown words with <unk>\n",
    "        for i, tok in enumerate(tokens):\n",
    "            if tok not in vocabulary:\n",
    "                tokens[i] = \"<unk>\"\n",
    "\n",
    "        for i in range(window_size, N-window_size-1):\n",
    "            window = tokens[i-window_size:i+window_size+1]\n",
    "\n",
    "            x = []\n",
    "            for tok in window:\n",
    "                x.append(tok2id[tok])\n",
    "            \n",
    "            y = np.zeros((2*window_size+1)*len(vocabulary))\n",
    "            for i,id in enumerate(x):\n",
    "                y[(2*window_size+1)*i + id] = 1\n",
    "            \n",
    "            X.append(x)\n",
    "            Y.append(y)\n",
    "            \n",
    "    return X, Y"
   ]
  },
  {
   "cell_type": "code",
   "execution_count": 49,
   "metadata": {},
   "outputs": [
    {
     "data": {
      "text/plain": [
       "['il',\n",
       " \"m'\",\n",
       " 'a',\n",
       " 'bien',\n",
       " 'ennervée',\n",
       " 'ce',\n",
       " 'gars',\n",
       " 'là',\n",
       " 'avec',\n",
       " 'ce',\n",
       " 'copier-coller']"
      ]
     },
     "execution_count": 49,
     "metadata": {},
     "output_type": "execute_result"
    }
   ],
   "source": [
    "tokens"
   ]
  },
  {
   "cell_type": "markdown",
   "metadata": {},
   "source": [
    "#### Let's check on the first example:"
   ]
  },
  {
   "cell_type": "code",
   "execution_count": 50,
   "metadata": {
    "scrolled": true
   },
   "outputs": [
    {
     "data": {
      "text/plain": [
       "([[7, 9, 0, 2, 5, 3, 6],\n",
       "  [9, 0, 2, 5, 3, 6, 8],\n",
       "  [0, 2, 5, 3, 6, 8, 1],\n",
       "  [2, 5, 3, 6, 8, 1, 3]],\n",
       " [array([0., 0., 0., 0., 0., 0., 0., 1., 0., 0., 0., 0., 0., 0., 1., 0., 1.,\n",
       "         0., 0., 0., 0., 0., 0., 1., 0., 0., 0., 0., 0., 0., 0., 0., 0., 1.,\n",
       "         0., 0., 0., 0., 1., 0., 0., 0., 0., 0., 0., 0., 0., 0., 1., 0., 0.,\n",
       "         0., 0., 0., 0., 0., 0., 0., 0., 0., 0., 0., 0., 0., 0., 0., 0., 0.,\n",
       "         0., 0.]),\n",
       "  array([0., 0., 0., 0., 0., 0., 0., 1., 0., 1., 0., 0., 0., 0., 0., 0., 1.,\n",
       "         0., 0., 0., 0., 0., 0., 0., 0., 0., 1., 0., 0., 0., 0., 1., 0., 0.,\n",
       "         0., 0., 0., 0., 0., 0., 0., 1., 0., 0., 0., 0., 0., 0., 0., 0., 1.,\n",
       "         0., 0., 0., 0., 0., 0., 0., 0., 0., 0., 0., 0., 0., 0., 0., 0., 0.,\n",
       "         0., 0.]),\n",
       "  array([1., 0., 0., 0., 0., 0., 0., 0., 0., 1., 0., 0., 0., 0., 0., 0., 0.,\n",
       "         0., 0., 1., 0., 0., 0., 0., 1., 0., 0., 0., 0., 0., 0., 0., 0., 0.,\n",
       "         1., 0., 0., 0., 0., 0., 0., 0., 0., 1., 0., 0., 0., 0., 0., 0., 0.,\n",
       "         0., 0., 0., 0., 0., 0., 0., 0., 0., 0., 0., 0., 0., 0., 0., 0., 0.,\n",
       "         0., 0.]),\n",
       "  array([0., 0., 1., 0., 0., 0., 0., 0., 0., 0., 0., 0., 1., 0., 0., 0., 0.,\n",
       "         1., 0., 0., 0., 0., 0., 0., 0., 0., 0., 1., 0., 0., 0., 0., 0., 0.,\n",
       "         0., 0., 1., 0., 0., 0., 0., 0., 0., 0., 0., 1., 0., 0., 0., 0., 0.,\n",
       "         0., 0., 0., 0., 0., 0., 0., 0., 0., 0., 0., 0., 0., 0., 0., 0., 0.,\n",
       "         0., 0.])])"
      ]
     },
     "execution_count": 50,
     "metadata": {},
     "output_type": "execute_result"
    }
   ],
   "source": [
    "window_size = 3\n",
    "X, Y = generate_training_data(tokens, tok2id, window_size)\n",
    "X, Y"
   ]
  },
  {
   "cell_type": "code",
   "execution_count": 51,
   "metadata": {},
   "outputs": [
    {
     "data": {
      "text/plain": [
       "\"Il m'a bien ennervée, ce gars là, avec ce copier-coller !\""
      ]
     },
     "execution_count": 51,
     "metadata": {},
     "output_type": "execute_result"
    }
   ],
   "source": [
    "phrase"
   ]
  },
  {
   "cell_type": "code",
   "execution_count": 52,
   "metadata": {
    "scrolled": true
   },
   "outputs": [
    {
     "data": {
      "text/plain": [
       "('copier-coller', 'ennervée', 'a', 'gars')"
      ]
     },
     "execution_count": 52,
     "metadata": {},
     "output_type": "execute_result"
    }
   ],
   "source": [
    "id2tok[4], id2tok[5], id2tok[0], id2tok[6]"
   ]
  },
  {
   "cell_type": "code",
   "execution_count": 53,
   "metadata": {},
   "outputs": [
    {
     "data": {
      "text/plain": [
       "('a', 'avec', 'bien', 'ce', 'ennervée', 'gars')"
      ]
     },
     "execution_count": 53,
     "metadata": {},
     "output_type": "execute_result"
    }
   ],
   "source": [
    "id2tok[0], id2tok[1], id2tok[2], id2tok[3], id2tok[5], id2tok[6]"
   ]
  },
  {
   "cell_type": "code",
   "execution_count": 54,
   "metadata": {},
   "outputs": [
    {
     "data": {
      "text/plain": [
       "array([0., 0., 0., 0., 0., 0., 0., 1., 0., 0., 0., 0., 0., 0., 1.])"
      ]
     },
     "execution_count": 54,
     "metadata": {},
     "output_type": "execute_result"
    }
   ],
   "source": [
    "Y[0][:15]"
   ]
  },
  {
   "cell_type": "markdown",
   "metadata": {},
   "source": [
    "## 2.4 Same operations but now for an actual corpus\n",
    "\n",
    "- First, we need to look at word frequencies, and decide a cut-off: words (types) more frequent than this cutoff will be part of the vocabulary, less frequent types will be replaced with the tyoe \"<unk>\" (unknown)\n",
    "- Then, we open again all files and encode their sentences into one-hot vectors."
   ]
  },
  {
   "cell_type": "markdown",
   "metadata": {},
   "source": [
    "###  (1)  Data Loading, tokenization, counting types frequencies"
   ]
  },
  {
   "cell_type": "markdown",
   "metadata": {},
   "source": [
    "# WARNING : of course, unzip \"Plain text\" and put it in the right place..."
   ]
  },
  {
   "cell_type": "code",
   "execution_count": 62,
   "metadata": {},
   "outputs": [
    {
     "name": "stdout",
     "output_type": "stream",
     "text": [
      "We have  1  text files.\n"
     ]
    }
   ],
   "source": [
    "textfiles = [y for x in os.walk('.') for y in glob(os.path.join(x[0], '*.txt'))]\n",
    "print('We have ',len(textfiles),' text files.')"
   ]
  },
  {
   "cell_type": "code",
   "execution_count": 63,
   "metadata": {},
   "outputs": [],
   "source": [
    "def tokenize(phrase):\n",
    "#     retoken = re.compile(r\"\\w+'?\")\n",
    "    retoken = re.compile(r\"[\\w-]+'?\")\n",
    "    reclitic = re.compile(r\"-(là|ci|je|tu|il|elle|t-il|t-elle|ils|elles|t-ils|t-elles|nous|vous)\")\n",
    "    return retoken.findall(reclitic.sub(r' \\1',phrase.lower()).replace('’',\"'\").replace('',\"'\")) \n",
    "    # problèmes d'encodage de certains fichiers : dEDF"
   ]
  },
  {
   "cell_type": "code",
   "execution_count": 64,
   "metadata": {},
   "outputs": [],
   "source": [
    "# this Counter helps us count types occurences in a few lines:\n",
    "wordcounter = Counter()\n",
    "for f in textfiles:\n",
    "    tokenized_text = tokenize(open(f, encoding='iso-8859-15').read())\n",
    "    wordcounter.update(Counter(tokenized_text))"
   ]
  },
  {
   "cell_type": "code",
   "execution_count": 65,
   "metadata": {},
   "outputs": [
    {
     "data": {
      "text/plain": [
       "(1,\n",
       " Counter({'-0': 2604020,\n",
       "          '0': 2288419,\n",
       "          '-1': 57232,\n",
       "          '1': 49231,\n",
       "          'dã': 1187,\n",
       "          '0065': 1114,\n",
       "          '0209': 1114,\n",
       "          '0071': 1104,\n",
       "          'e': 1104,\n",
       "          '0189': 1103,\n",
       "          '0033': 1099,\n",
       "          '0161': 1099,\n",
       "          '0140': 1099,\n",
       "          '0068': 1095,\n",
       "          '0163': 1093,\n",
       "          '0248': 1092,\n",
       "          '0270': 1090,\n",
       "          '0055': 1089,\n",
       "          '0172': 1088,\n",
       "          '0001': 1087,\n",
       "          '0393': 1086,\n",
       "          '0443': 1085,\n",
       "          '0205': 1085,\n",
       "          '0186': 1085,\n",
       "          '0041': 1083,\n",
       "          '0002': 1082,\n",
       "          '0249': 1081,\n",
       "          '0432': 1079,\n",
       "          '0371': 1079,\n",
       "          '0301': 1078,\n",
       "          '0208': 1077,\n",
       "          '0054': 1077,\n",
       "          '0044': 1077,\n",
       "          '0022': 1075,\n",
       "          '0007': 1075,\n",
       "          '0101': 1074,\n",
       "          '0449': 1074,\n",
       "          '0830': 1074,\n",
       "          '0089': 1073,\n",
       "          '0232': 1073,\n",
       "          '0074': 1072,\n",
       "          '0606': 1072,\n",
       "          '0037': 1071,\n",
       "          '0056': 1071,\n",
       "          '0481': 1070,\n",
       "          '0240': 1069,\n",
       "          '0281': 1069,\n",
       "          '0494': 1069,\n",
       "          '0621': 1068,\n",
       "          '0918': 1068,\n",
       "          '0134': 1067,\n",
       "          '0028': 1067,\n",
       "          '0299': 1067,\n",
       "          '0085': 1067,\n",
       "          '0533': 1066,\n",
       "          '0131': 1066,\n",
       "          '0072': 1065,\n",
       "          '0324': 1065,\n",
       "          '0153': 1065,\n",
       "          '0323': 1064,\n",
       "          '0332': 1064,\n",
       "          '0108': 1064,\n",
       "          '0747': 1064,\n",
       "          '0133': 1063,\n",
       "          '0253': 1063,\n",
       "          '0518': 1063,\n",
       "          '0363': 1063,\n",
       "          '0035': 1062,\n",
       "          '0306': 1062,\n",
       "          '0024': 1062,\n",
       "          '0057': 1061,\n",
       "          '0201': 1061,\n",
       "          '0278': 1061,\n",
       "          '0128': 1061,\n",
       "          '0184': 1061,\n",
       "          '0031': 1061,\n",
       "          '0053': 1060,\n",
       "          '1156': 1060,\n",
       "          '0356': 1060,\n",
       "          '0105': 1060,\n",
       "          '0129': 1060,\n",
       "          '0117': 1059,\n",
       "          '0549': 1059,\n",
       "          '0315': 1058,\n",
       "          '0588': 1057,\n",
       "          '0017': 1057,\n",
       "          '0141': 1057,\n",
       "          '0311': 1057,\n",
       "          '0262': 1057,\n",
       "          '0653': 1056,\n",
       "          '0308': 1056,\n",
       "          '0109': 1056,\n",
       "          '0004': 1056,\n",
       "          '0623': 1056,\n",
       "          '0030': 1056,\n",
       "          '0396': 1056,\n",
       "          '0630': 1056,\n",
       "          '0516': 1055,\n",
       "          '0190': 1055,\n",
       "          '0014': 1055,\n",
       "          '0228': 1055,\n",
       "          '0293': 1054,\n",
       "          '0063': 1054,\n",
       "          '0047': 1054,\n",
       "          '0464': 1054,\n",
       "          '0021': 1054,\n",
       "          '0304': 1054,\n",
       "          '0360': 1053,\n",
       "          '0219': 1053,\n",
       "          '0327': 1053,\n",
       "          '0558': 1053,\n",
       "          '0569': 1052,\n",
       "          '0130': 1052,\n",
       "          '0008': 1052,\n",
       "          '0263': 1052,\n",
       "          '0120': 1051,\n",
       "          '0609': 1051,\n",
       "          '0052': 1051,\n",
       "          '0442': 1051,\n",
       "          '0092': 1051,\n",
       "          '0100': 1050,\n",
       "          '0160': 1050,\n",
       "          '0375': 1050,\n",
       "          '0557': 1050,\n",
       "          '0150': 1050,\n",
       "          '0256': 1050,\n",
       "          '0116': 1049,\n",
       "          '0042': 1049,\n",
       "          '0372': 1049,\n",
       "          '0342': 1049,\n",
       "          '0238': 1048,\n",
       "          '0878': 1048,\n",
       "          '0379': 1048,\n",
       "          '0292': 1048,\n",
       "          '0235': 1047,\n",
       "          '0738': 1047,\n",
       "          '0683': 1047,\n",
       "          '0381': 1047,\n",
       "          '1027': 1047,\n",
       "          '0264': 1047,\n",
       "          '0694': 1047,\n",
       "          '0067': 1046,\n",
       "          '0782': 1046,\n",
       "          '0330': 1046,\n",
       "          '0048': 1046,\n",
       "          '0012': 1046,\n",
       "          '0096': 1046,\n",
       "          '0179': 1046,\n",
       "          '0051': 1046,\n",
       "          '0736': 1046,\n",
       "          '0698': 1046,\n",
       "          '0259': 1046,\n",
       "          '0114': 1045,\n",
       "          '0254': 1045,\n",
       "          '0125': 1045,\n",
       "          '0404': 1045,\n",
       "          '0078': 1045,\n",
       "          '0632': 1045,\n",
       "          '1075': 1045,\n",
       "          '0409': 1044,\n",
       "          '0162': 1044,\n",
       "          '0668': 1044,\n",
       "          '0202': 1044,\n",
       "          '0077': 1044,\n",
       "          '0296': 1044,\n",
       "          '0784': 1044,\n",
       "          '0869': 1044,\n",
       "          '0414': 1043,\n",
       "          '0374': 1043,\n",
       "          '0168': 1043,\n",
       "          '0178': 1043,\n",
       "          '0097': 1043,\n",
       "          '0268': 1043,\n",
       "          '0483': 1043,\n",
       "          '0106': 1043,\n",
       "          '0577': 1043,\n",
       "          '0183': 1042,\n",
       "          '0226': 1042,\n",
       "          '0212': 1042,\n",
       "          '0727': 1042,\n",
       "          '0317': 1042,\n",
       "          '0853': 1042,\n",
       "          '1221': 1042,\n",
       "          '0059': 1042,\n",
       "          '1082': 1042,\n",
       "          '0010': 1042,\n",
       "          '0810': 1042,\n",
       "          '0351': 1041,\n",
       "          '0667': 1041,\n",
       "          '0530': 1041,\n",
       "          '0180': 1041,\n",
       "          '0373': 1041,\n",
       "          '0280': 1041,\n",
       "          '0152': 1041,\n",
       "          '0050': 1041,\n",
       "          '0398': 1041,\n",
       "          '0143': 1041,\n",
       "          '1215': 1040,\n",
       "          '0484': 1040,\n",
       "          '0855': 1040,\n",
       "          '0421': 1040,\n",
       "          '0267': 1040,\n",
       "          '0712': 1040,\n",
       "          '0193': 1040,\n",
       "          '0325': 1040,\n",
       "          '0655': 1040,\n",
       "          '0326': 1039,\n",
       "          '0857': 1039,\n",
       "          '0578': 1039,\n",
       "          '0016': 1039,\n",
       "          '0699': 1039,\n",
       "          '0285': 1039,\n",
       "          '0822': 1039,\n",
       "          '0422': 1039,\n",
       "          '0352': 1038,\n",
       "          '0531': 1038,\n",
       "          '0274': 1038,\n",
       "          '0124': 1038,\n",
       "          '0107': 1038,\n",
       "          '0828': 1038,\n",
       "          '0756': 1037,\n",
       "          '0126': 1037,\n",
       "          '0158': 1037,\n",
       "          '0123': 1037,\n",
       "          '0135': 1037,\n",
       "          '0034': 1036,\n",
       "          '0641': 1036,\n",
       "          '0511': 1036,\n",
       "          '0675': 1036,\n",
       "          '0329': 1036,\n",
       "          '0436': 1036,\n",
       "          '0146': 1036,\n",
       "          '0400': 1035,\n",
       "          '0347': 1035,\n",
       "          '0507': 1035,\n",
       "          '0707': 1035,\n",
       "          '0411': 1035,\n",
       "          '0260': 1035,\n",
       "          '0610': 1035,\n",
       "          '0570': 1035,\n",
       "          '1038': 1035,\n",
       "          '1094': 1035,\n",
       "          '0791': 1035,\n",
       "          '1315': 1034,\n",
       "          '0102': 1034,\n",
       "          '0413': 1034,\n",
       "          '0532': 1034,\n",
       "          '0137': 1034,\n",
       "          '0331': 1034,\n",
       "          '0452': 1034,\n",
       "          '0182': 1033,\n",
       "          '0091': 1033,\n",
       "          '0448': 1033,\n",
       "          '0336': 1033,\n",
       "          '0313': 1033,\n",
       "          '0328': 1033,\n",
       "          '0340': 1033,\n",
       "          '0845': 1033,\n",
       "          '0548': 1032,\n",
       "          '0733': 1032,\n",
       "          '0430': 1032,\n",
       "          '0933': 1032,\n",
       "          '0790': 1032,\n",
       "          '0236': 1032,\n",
       "          '0191': 1032,\n",
       "          '0386': 1032,\n",
       "          '0545': 1031,\n",
       "          '0062': 1031,\n",
       "          '0493': 1031,\n",
       "          '0198': 1031,\n",
       "          '0501': 1031,\n",
       "          '0070': 1031,\n",
       "          '0175': 1031,\n",
       "          '0122': 1031,\n",
       "          '0303': 1031,\n",
       "          '0417': 1031,\n",
       "          '0032': 1031,\n",
       "          '0681': 1030,\n",
       "          '0877': 1030,\n",
       "          '0344': 1029,\n",
       "          '0391': 1029,\n",
       "          '0514': 1029,\n",
       "          '0420': 1029,\n",
       "          '0297': 1029,\n",
       "          '0751': 1029,\n",
       "          '1071': 1029,\n",
       "          '0307': 1029,\n",
       "          '0793': 1029,\n",
       "          '0529': 1029,\n",
       "          '0144': 1029,\n",
       "          '0320': 1029,\n",
       "          '0947': 1028,\n",
       "          '0337': 1028,\n",
       "          '0333': 1028,\n",
       "          '0617': 1028,\n",
       "          '0019': 1028,\n",
       "          '0118': 1028,\n",
       "          '0898': 1028,\n",
       "          '0136': 1028,\n",
       "          '0275': 1028,\n",
       "          '0670': 1028,\n",
       "          '0425': 1028,\n",
       "          '0266': 1028,\n",
       "          '0251': 1027,\n",
       "          '0265': 1027,\n",
       "          '0671': 1027,\n",
       "          '0440': 1027,\n",
       "          '0185': 1027,\n",
       "          '0937': 1027,\n",
       "          '0517': 1027,\n",
       "          '1268': 1026,\n",
       "          '0341': 1026,\n",
       "          '0644': 1026,\n",
       "          '0459': 1026,\n",
       "          '0665': 1026,\n",
       "          '1011': 1026,\n",
       "          '0722': 1026,\n",
       "          '0015': 1026,\n",
       "          '0272': 1026,\n",
       "          '0407': 1026,\n",
       "          '0018': 1026,\n",
       "          '0365': 1026,\n",
       "          '0603': 1026,\n",
       "          '0174': 1025,\n",
       "          '0480': 1025,\n",
       "          '1379': 1025,\n",
       "          '0595': 1025,\n",
       "          '1142': 1025,\n",
       "          '0151': 1025,\n",
       "          '0408': 1025,\n",
       "          '0563': 1025,\n",
       "          '0155': 1025,\n",
       "          '0471': 1025,\n",
       "          '0038': 1024,\n",
       "          '0286': 1024,\n",
       "          '0640': 1024,\n",
       "          '0084': 1024,\n",
       "          '0355': 1024,\n",
       "          '0086': 1024,\n",
       "          '0139': 1024,\n",
       "          '0629': 1023,\n",
       "          '0928': 1023,\n",
       "          '0427': 1023,\n",
       "          '0020': 1023,\n",
       "          '0488': 1023,\n",
       "          '0399': 1023,\n",
       "          '0502': 1023,\n",
       "          '0234': 1023,\n",
       "          '0009': 1023,\n",
       "          '0744': 1022,\n",
       "          'ã': 1022,\n",
       "          '0358': 1022,\n",
       "          '0431': 1022,\n",
       "          '0076': 1022,\n",
       "          '0893': 1022,\n",
       "          '0350': 1022,\n",
       "          '0237': 1022,\n",
       "          '0785': 1022,\n",
       "          '0482': 1021,\n",
       "          '0613': 1021,\n",
       "          '0164': 1021,\n",
       "          '0895': 1021,\n",
       "          '0474': 1021,\n",
       "          '0498': 1021,\n",
       "          '1240': 1021,\n",
       "          '0099': 1021,\n",
       "          '0635': 1021,\n",
       "          '1334': 1021,\n",
       "          '0537': 1020,\n",
       "          '0455': 1020,\n",
       "          '0950': 1020,\n",
       "          '0013': 1020,\n",
       "          '0534': 1020,\n",
       "          '0572': 1020,\n",
       "          '0510': 1020,\n",
       "          '0364': 1020,\n",
       "          '0553': 1020,\n",
       "          '1176': 1020,\n",
       "          '0769': 1020,\n",
       "          '0192': 1020,\n",
       "          '0438': 1019,\n",
       "          '0045': 1019,\n",
       "          '0241': 1019,\n",
       "          '0927': 1019,\n",
       "          '0703': 1019,\n",
       "          '0046': 1019,\n",
       "          '1085': 1019,\n",
       "          '0119': 1019,\n",
       "          '0768': 1019,\n",
       "          '0346': 1019,\n",
       "          '0367': 1019,\n",
       "          '0433': 1019,\n",
       "          '0167': 1019,\n",
       "          '0252': 1019,\n",
       "          '1120': 1019,\n",
       "          '0220': 1019,\n",
       "          '0658': 1019,\n",
       "          '0006': 1019,\n",
       "          '1047': 1019,\n",
       "          '0487': 1019,\n",
       "          '1382': 1018,\n",
       "          '1162': 1018,\n",
       "          '0737': 1018,\n",
       "          '0706': 1018,\n",
       "          '0142': 1018,\n",
       "          '0394': 1018,\n",
       "          '0992': 1018,\n",
       "          '0673': 1018,\n",
       "          '0475': 1018,\n",
       "          '0217': 1018,\n",
       "          '0354': 1017,\n",
       "          '1005': 1017,\n",
       "          '0385': 1017,\n",
       "          '0216': 1017,\n",
       "          '0585': 1017,\n",
       "          '1226': 1017,\n",
       "          '0215': 1017,\n",
       "          '0678': 1017,\n",
       "          '0697': 1017,\n",
       "          '0594': 1017,\n",
       "          '0914': 1017,\n",
       "          '1210': 1016,\n",
       "          '0624': 1016,\n",
       "          '0444': 1016,\n",
       "          '0713': 1016,\n",
       "          '0693': 1016,\n",
       "          '0429': 1016,\n",
       "          '0796': 1016,\n",
       "          '0476': 1016,\n",
       "          '0800': 1016,\n",
       "          '0309': 1016,\n",
       "          '0166': 1015,\n",
       "          '0210': 1015,\n",
       "          '0743': 1015,\n",
       "          '0206': 1015,\n",
       "          '0390': 1015,\n",
       "          '0679': 1015,\n",
       "          '0626': 1015,\n",
       "          '0224': 1015,\n",
       "          '1101': 1015,\n",
       "          '0710': 1015,\n",
       "          '0682': 1015,\n",
       "          '1076': 1015,\n",
       "          '1227': 1014,\n",
       "          '0642': 1014,\n",
       "          '0715': 1014,\n",
       "          '0816': 1014,\n",
       "          '0564': 1014,\n",
       "          '0478': 1014,\n",
       "          '0338': 1014,\n",
       "          '0538': 1014,\n",
       "          '0231': 1014,\n",
       "          '0963': 1014,\n",
       "          '0923': 1014,\n",
       "          '0003': 1014,\n",
       "          '0173': 1014,\n",
       "          '0616': 1014,\n",
       "          '0862': 1014,\n",
       "          '0111': 1013,\n",
       "          '0521': 1013,\n",
       "          '1023': 1013,\n",
       "          '0029': 1013,\n",
       "          '0282': 1013,\n",
       "          '0339': 1013,\n",
       "          '0881': 1013,\n",
       "          '0748': 1013,\n",
       "          '0799': 1013,\n",
       "          '0334': 1013,\n",
       "          '0753': 1013,\n",
       "          '0428': 1013,\n",
       "          '1205': 1013,\n",
       "          '1397': 1013,\n",
       "          '0159': 1013,\n",
       "          '0460': 1013,\n",
       "          '0277': 1012,\n",
       "          '0954': 1012,\n",
       "          '0410': 1012,\n",
       "          '0225': 1012,\n",
       "          '0508': 1012,\n",
       "          '1323': 1012,\n",
       "          '0066': 1012,\n",
       "          '0090': 1012,\n",
       "          '0767': 1011,\n",
       "          '0731': 1011,\n",
       "          '0359': 1011,\n",
       "          '0580': 1011,\n",
       "          '0357': 1011,\n",
       "          '0575': 1011,\n",
       "          '0405': 1011,\n",
       "          '0651': 1011,\n",
       "          '0495': 1011,\n",
       "          '0362': 1011,\n",
       "          '1297': 1011,\n",
       "          '0735': 1011,\n",
       "          '0257': 1011,\n",
       "          '0721': 1011,\n",
       "          '0836': 1011,\n",
       "          '0619': 1010,\n",
       "          '1107': 1010,\n",
       "          '0838': 1010,\n",
       "          '0874': 1010,\n",
       "          '0608': 1010,\n",
       "          '0273': 1010,\n",
       "          '1134': 1010,\n",
       "          '0527': 1010,\n",
       "          '0772': 1010,\n",
       "          '0445': 1010,\n",
       "          '0200': 1010,\n",
       "          '0771': 1010,\n",
       "          '0470': 1009,\n",
       "          '0026': 1009,\n",
       "          '0650': 1009,\n",
       "          '1501': 1009,\n",
       "          '0383': 1009,\n",
       "          '0967': 1009,\n",
       "          '0121': 1009,\n",
       "          '0479': 1009,\n",
       "          '0290': 1009,\n",
       "          '0908': 1009,\n",
       "          '0424': 1009,\n",
       "          '0435': 1009,\n",
       "          '1009': 1009,\n",
       "          '0255': 1009,\n",
       "          '0456': 1009,\n",
       "          '0376': 1009,\n",
       "          '0780': 1008,\n",
       "          '0446': 1008,\n",
       "          '0755': 1008,\n",
       "          '1049': 1008,\n",
       "          '0677': 1008,\n",
       "          '0211': 1008,\n",
       "          '1067': 1008,\n",
       "          '1115': 1008,\n",
       "          '0652': 1008,\n",
       "          '0900': 1008,\n",
       "          '0896': 1008,\n",
       "          '0392': 1008,\n",
       "          '0821': 1007,\n",
       "          '0759': 1007,\n",
       "          '0601': 1007,\n",
       "          '0739': 1007,\n",
       "          '0271': 1007,\n",
       "          '0269': 1007,\n",
       "          '0819': 1007,\n",
       "          '0618': 1007,\n",
       "          '0776': 1007,\n",
       "          '0913': 1007,\n",
       "          '0556': 1007,\n",
       "          '0740': 1007,\n",
       "          '0689': 1007,\n",
       "          '0999': 1007,\n",
       "          '0239': 1007,\n",
       "          '0295': 1007,\n",
       "          '0512': 1007,\n",
       "          '0439': 1006,\n",
       "          '0103': 1006,\n",
       "          '0840': 1006,\n",
       "          '0093': 1006,\n",
       "          '0005': 1006,\n",
       "          '1186': 1006,\n",
       "          '0369': 1006,\n",
       "          '0169': 1006,\n",
       "          '0058': 1006,\n",
       "          '0833': 1006,\n",
       "          '0565': 1005,\n",
       "          '0485': 1005,\n",
       "          '0775': 1005,\n",
       "          '0622': 1005,\n",
       "          '0258': 1005,\n",
       "          '0734': 1005,\n",
       "          '0247': 1005,\n",
       "          '0746': 1005,\n",
       "          '1108': 1005,\n",
       "          '0567': 1004,\n",
       "          '0637': 1004,\n",
       "          '0645': 1004,\n",
       "          '0112': 1004,\n",
       "          '0684': 1004,\n",
       "          '0826': 1004,\n",
       "          '0956': 1004,\n",
       "          '0612': 1004,\n",
       "          '0177': 1003,\n",
       "          '0591': 1003,\n",
       "          '0866': 1003,\n",
       "          '0615': 1003,\n",
       "          '1253': 1003,\n",
       "          '1053': 1003,\n",
       "          '0230': 1003,\n",
       "          '0298': 1003,\n",
       "          '1200': 1003,\n",
       "          '1375': 1003,\n",
       "          '0499': 1003,\n",
       "          '0801': 1003,\n",
       "          '0596': 1003,\n",
       "          '1185': 1003,\n",
       "          '1112': 1003,\n",
       "          '0291': 1003,\n",
       "          '1534': 1002,\n",
       "          '0345': 1002,\n",
       "          '0187': 1002,\n",
       "          '0925': 1002,\n",
       "          '0221': 1002,\n",
       "          '0625': 1002,\n",
       "          '1012': 1002,\n",
       "          '0795': 1002,\n",
       "          '1408': 1002,\n",
       "          '0043': 1002,\n",
       "          '0305': 1002,\n",
       "          '1062': 1002,\n",
       "          '1233': 1002,\n",
       "          '0377': 1001,\n",
       "          '0457': 1001,\n",
       "          '0754': 1001,\n",
       "          '0559': 1001,\n",
       "          '0903': 1001,\n",
       "          '0647': 1001,\n",
       "          '0550': 1001,\n",
       "          '0892': 1001,\n",
       "          '0779': 1001,\n",
       "          '1007': 1001,\n",
       "          '0987': 1001,\n",
       "          '1173': 1001,\n",
       "          '0204': 1001,\n",
       "          '0387': 1000,\n",
       "          '1419': 1000,\n",
       "          '0148': 1000,\n",
       "          '0843': 1000,\n",
       "          '0294': 1000,\n",
       "          '1214': 1000,\n",
       "          '0741': 1000,\n",
       "          '0941': 1000,\n",
       "          '0075': 1000,\n",
       "          '0850': 1000,\n",
       "          '1410': 1000,\n",
       "          '0523': 1000,\n",
       "          '0049': 1000,\n",
       "          '0083': 1000,\n",
       "          '0729': 1000,\n",
       "          '0561': 1000,\n",
       "          '0335': 999,\n",
       "          '1368': 999,\n",
       "          '0829': 999,\n",
       "          '0095': 999,\n",
       "          '0571': 999,\n",
       "          '0500': 999,\n",
       "          '0848': 999,\n",
       "          '0897': 999,\n",
       "          '0246': 999,\n",
       "          '1052': 999,\n",
       "          '0798': 999,\n",
       "          '1332': 999,\n",
       "          '0087': 999,\n",
       "          '1139': 999,\n",
       "          '0593': 999,\n",
       "          '0227': 999,\n",
       "          '1432': 999,\n",
       "          '1231': 999,\n",
       "          '0912': 998,\n",
       "          '0310': 998,\n",
       "          '0250': 998,\n",
       "          '1055': 998,\n",
       "          '0988': 998,\n",
       "          '0758': 998,\n",
       "          '0312': 998,\n",
       "          '0586': 998,\n",
       "          '0660': 998,\n",
       "          '0496': 998,\n",
       "          '0962': 998,\n",
       "          '0279': 998,\n",
       "          '0861': 997,\n",
       "          '0924': 997,\n",
       "          '0839': 997,\n",
       "          '0986': 997,\n",
       "          '0504': 997,\n",
       "          '1064': 997,\n",
       "          '0724': 997,\n",
       "          '0917': 997,\n",
       "          '0520': 997,\n",
       "          '0462': 997,\n",
       "          '1278': 997,\n",
       "          '0639': 997,\n",
       "          '1060': 997,\n",
       "          '0627': 997,\n",
       "          '0113': 996,\n",
       "          '0276': 996,\n",
       "          '0505': 996,\n",
       "          '0145': 996,\n",
       "          '0450': 996,\n",
       "          '0416': 996,\n",
       "          '0818': 996,\n",
       "          '0764': 996,\n",
       "          '0426': 996,\n",
       "          '1119': 996,\n",
       "          '0961': 996,\n",
       "          '1083': 996,\n",
       "          '0978': 996,\n",
       "          '0536': 995,\n",
       "          '0711': 995,\n",
       "          '0883': 995,\n",
       "          '0905': 995,\n",
       "          '0171': 995,\n",
       "          '0864': 995,\n",
       "          '0685': 995,\n",
       "          '0723': 995,\n",
       "          '0138': 995,\n",
       "          '1241': 995,\n",
       "          '0851': 995,\n",
       "          '0605': 995,\n",
       "          '1281': 995,\n",
       "          '1016': 995,\n",
       "          '1138': 994,\n",
       "          '0061': 994,\n",
       "          '0920': 994,\n",
       "          '0218': 994,\n",
       "          '0195': 994,\n",
       "          '1039': 994,\n",
       "          '0463': 994,\n",
       "          '0181': 994,\n",
       "          '0546': 994,\n",
       "          '0837': 994,\n",
       "          '0906': 994,\n",
       "          '0497': 993,\n",
       "          '1089': 993,\n",
       "          '0599': 993,\n",
       "          '0691': 993,\n",
       "          '0984': 993,\n",
       "          '0763': 993,\n",
       "          '0760': 993,\n",
       "          '0701': 993,\n",
       "          '0718': 993,\n",
       "          '0104': 993,\n",
       "          '0349': 993,\n",
       "          '0149': 993,\n",
       "          '1003': 993,\n",
       "          '1111': 993,\n",
       "          '0477': 993,\n",
       "          '0970': 992,\n",
       "          '0535': 992,\n",
       "          '1361': 992,\n",
       "          '0786': 992,\n",
       "          '1000': 992,\n",
       "          '0730': 992,\n",
       "          '1204': 992,\n",
       "          '0911': 992,\n",
       "          '0528': 992,\n",
       "          '0492': 991,\n",
       "          '0412': 991,\n",
       "          '0566': 991,\n",
       "          '1132': 991,\n",
       "          '1151': 991,\n",
       "          '0437': 991,\n",
       "          '0073': 991,\n",
       "          '0419': 991,\n",
       "          '1037': 991,\n",
       "          '0261': 991,\n",
       "          '0849': 991,\n",
       "          '0213': 991,\n",
       "          '1074': 990,\n",
       "          '0489': 990,\n",
       "          '1046': 990,\n",
       "          '0919': 990,\n",
       "          '0082': 990,\n",
       "          '0461': 990,\n",
       "          '1436': 990,\n",
       "          '0110': 990,\n",
       "          '0872': 990,\n",
       "          '1018': 990,\n",
       "          '0680': 990,\n",
       "          '1217': 990,\n",
       "          '0686': 990,\n",
       "          '0194': 990,\n",
       "          '1411': 990,\n",
       "          '0916': 990,\n",
       "          '0662': 990,\n",
       "          '0300': 989,\n",
       "          '0814': 989,\n",
       "          '0716': 989,\n",
       "          '0774': 989,\n",
       "          '0389': 989,\n",
       "          '0132': 989,\n",
       "          '1445': 989,\n",
       "          '1189': 989,\n",
       "          '0765': 989,\n",
       "          '0011': 988,\n",
       "          '0648': 988,\n",
       "          '0197': 988,\n",
       "          '0064': 988,\n",
       "          '1606': 988,\n",
       "          '0388': 988,\n",
       "          '0380': 988,\n",
       "          '0469': 988,\n",
       "          '0023': 988,\n",
       "          '0283': 988,\n",
       "          '0579': 988,\n",
       "          '0787': 988,\n",
       "          '1553': 988,\n",
       "          '0506': 988,\n",
       "          '0165': 987,\n",
       "          '1175': 987,\n",
       "          '0602': 987,\n",
       "          '0157': 987,\n",
       "          '1158': 987,\n",
       "          '0773': 987,\n",
       "          '0415': 987,\n",
       "          '0040': 987,\n",
       "          '1088': 987,\n",
       "          '0207': 987,\n",
       "          '1084': 987,\n",
       "          '0921': 986,\n",
       "          '1202': 986,\n",
       "          '0289': 986,\n",
       "          '0929': 986,\n",
       "          '1784': 986,\n",
       "          '0732': 986,\n",
       "          '0846': 986,\n",
       "          '0199': 986,\n",
       "          '0453': 985,\n",
       "          '0080': 985,\n",
       "          '1256': 985,\n",
       "          '1598': 985,\n",
       "          '1010': 985,\n",
       "          '1298': 985,\n",
       "          '0406': 985,\n",
       "          '1164': 985,\n",
       "          '1069': 985,\n",
       "          '0797': 985,\n",
       "          '0781': 985,\n",
       "          '0582': 985,\n",
       "          '0633': 985,\n",
       "          '0222': 985,\n",
       "          '0395': 984,\n",
       "          '0841': 984,\n",
       "          '0284': 984,\n",
       "          '0401': 984,\n",
       "          '0948': 984,\n",
       "          '0868': 984,\n",
       "          '0243': 984,\n",
       "          '0949': 984,\n",
       "          '0486': 984,\n",
       "          '0749': 984,\n",
       "          '1080': 984,\n",
       "          '1092': 984,\n",
       "          '0770': 984,\n",
       "          '1045': 984,\n",
       "          '1024': 984,\n",
       "          '0403': 984,\n",
       "          '1125': 984,\n",
       "          '1032': 984,\n",
       "          '1369': 984,\n",
       "          '1099': 983,\n",
       "          '0353': 983,\n",
       "          '1135': 983,\n",
       "          '0513': 983,\n",
       "          '0824': 983,\n",
       "          '0472': 983,\n",
       "          '0607': 983,\n",
       "          '1242': 983,\n",
       "          '0794': 983,\n",
       "          '0229': 983,\n",
       "          '1040': 982,\n",
       "          '0815': 982,\n",
       "          '0946': 982,\n",
       "          '0524': 982,\n",
       "          '0902': 982,\n",
       "          '0827': 982,\n",
       "          '0441': 982,\n",
       "          '0825': 982,\n",
       "          '0813': 982,\n",
       "          '1331': 982,\n",
       "          '0990': 981,\n",
       "          '1058': 981,\n",
       "          '0926': 981,\n",
       "          '0867': 981,\n",
       "          '1208': 981,\n",
       "          '0656': 981,\n",
       "          '0886': 981,\n",
       "          '1250': 981,\n",
       "          '0669': 981,\n",
       "          '0863': 981,\n",
       "          '1633': 981,\n",
       "          '0692': 981,\n",
       "          '0687': 980,\n",
       "          '1679': 980,\n",
       "          '0526': 980,\n",
       "          '1249': 980,\n",
       "          '0910': 980,\n",
       "          '1090': 980,\n",
       "          '0812': 980,\n",
       "          '0382': 980,\n",
       "          '1086': 980,\n",
       "          '1157': 980,\n",
       "          '0890': 980,\n",
       "          '0789': 980,\n",
       "          '0726': 980,\n",
       "          '0762': 980,\n",
       "          '0244': 980,\n",
       "          '0319': 980,\n",
       "          '0614': 980,\n",
       "          '0170': 980,\n",
       "          '0646': 980,\n",
       "          '0979': 980,\n",
       "          '1103': 980,\n",
       "          '1150': 979,\n",
       "          '1093': 979,\n",
       "          '0188': 979,\n",
       "          '1188': 979,\n",
       "          '1333': 979,\n",
       "          '1451': 979,\n",
       "          '0628': 979,\n",
       "          '1322': 979,\n",
       "          '0434': 979,\n",
       "          '0870': 979,\n",
       "          '1239': 979,\n",
       "          '1386': 979,\n",
       "          '0322': 979,\n",
       "          '0805': 978,\n",
       "          '0027': 978,\n",
       "          '0552': 978,\n",
       "          '0702': 978,\n",
       "          '0922': 978,\n",
       "          '0889': 978,\n",
       "          '0522': 978,\n",
       "          '1306': 978,\n",
       "          '1246': 978,\n",
       "          '0854': 978,\n",
       "          '1283': 978,\n",
       "          '0288': 978,\n",
       "          '1269': 978,\n",
       "          '0314': 978,\n",
       "          '0223': 978,\n",
       "          '0583': 977,\n",
       "          '1178': 977,\n",
       "          '0503': 977,\n",
       "          '0343': 977,\n",
       "          '0587': 977,\n",
       "          '0672': 977,\n",
       "          '0879': 977,\n",
       "          '1324': 977,\n",
       "          '0788': 977,\n",
       "          '0894': 977,\n",
       "          '0454': 977,\n",
       "          '0975': 977,\n",
       "          '0402': 977,\n",
       "          '1406': 977,\n",
       "          '0659': 977,\n",
       "          '0467': 977,\n",
       "          '1056': 977,\n",
       "          '0361': 977,\n",
       "          '0079': 976,\n",
       "          '1342': 976,\n",
       "          '0676': 976,\n",
       "          '0674': 976,\n",
       "          '1042': 976,\n",
       "          '1288': 976,\n",
       "          '0940': 976,\n",
       "          '0491': 976,\n",
       "          '0039': 976,\n",
       "          '0664': 976,\n",
       "          '0094': 976,\n",
       "          '1171': 976,\n",
       "          '1360': 976,\n",
       "          '0955': 976,\n",
       "          '1461': 976,\n",
       "          '0147': 976,\n",
       "          '1761': 976,\n",
       "          '0287': 976,\n",
       "          '0214': 975,\n",
       "          '0636': 975,\n",
       "          '0154': 975,\n",
       "          '1607': 975,\n",
       "          '1272': 975,\n",
       "          '0519': 975,\n",
       "          '0378': 975,\n",
       "          '0951': 975,\n",
       "          '0025': 975,\n",
       "          '0490': 975,\n",
       "          '0574': 975,\n",
       "          '1678': 974,\n",
       "          '1081': 974,\n",
       "          '0704': 974,\n",
       "          '1273': 974,\n",
       "          '0366': 974,\n",
       "          '0993': 974,\n",
       "          '1129': 974,\n",
       "          '0957': 974,\n",
       "          '1021': 974,\n",
       "          '0397': 974,\n",
       "          '1580': 974,\n",
       "          '0515': 974,\n",
       "          '0541': 974,\n",
       "          '0981': 974,\n",
       "          '1465': 974,\n",
       "          '1029': 973,\n",
       "          '0196': 973,\n",
       "          '0127': 973,\n",
       "          '1320': 973,\n",
       "          '1380': 973,\n",
       "          '0719': 973,\n",
       "          '0611': 973,\n",
       "          '0847': 973,\n",
       "          ...}))"
      ]
     },
     "execution_count": 65,
     "metadata": {},
     "output_type": "execute_result"
    }
   ],
   "source": [
    "wordcounter[\"equipe\"], wordcounter"
   ]
  },
  {
   "cell_type": "code",
   "execution_count": 66,
   "metadata": {
    "scrolled": true
   },
   "outputs": [
    {
     "name": "stdout",
     "output_type": "stream",
     "text": [
      "Nous avons 53906 types et 10060685 tokens.\n",
      "Voici les 10 mots les plus courants : [('-0', 2604020), ('0', 2288419), ('-1', 57232), ('1', 49231), ('dã', 1187), ('0065', 1114), ('0209', 1114), ('0071', 1104), ('e', 1104), ('0189', 1103)]\n"
     ]
    }
   ],
   "source": [
    "print('Nous avons',len(wordcounter),'types et', sum(wordcounter.values()),'tokens.')\n",
    "print('Voici les 10 mots les plus courants :', wordcounter.most_common(10))"
   ]
  },
  {
   "cell_type": "markdown",
   "metadata": {},
   "source": [
    "### (2) Ordering types by their frequency, definition of the vocabulary"
   ]
  },
  {
   "cell_type": "code",
   "execution_count": 67,
   "metadata": {},
   "outputs": [
    {
     "data": {
      "text/plain": [
       "[('-0', 2604020),\n",
       " ('0', 2288419),\n",
       " ('-1', 57232),\n",
       " ('1', 49231),\n",
       " ('dã', 1187),\n",
       " ('0065', 1114),\n",
       " ('0209', 1114)]"
      ]
     },
     "execution_count": 67,
     "metadata": {},
     "output_type": "execute_result"
    }
   ],
   "source": [
    "# VOCAB_SIZE = 5000\n",
    "\n",
    "## NOTE !!! IT IS VERY IMPORTANT TO ORDER THEM BY FEQUENCY, HERE !!! \n",
    "common_words_list_of_pairs = wordcounter.most_common(VOCAB_SIZE)  # sorts types by their frequency of occurence\n",
    "common_words_list_of_pairs[:7]"
   ]
  },
  {
   "cell_type": "code",
   "execution_count": 68,
   "metadata": {},
   "outputs": [
    {
     "data": {
      "text/plain": [
       "<Axes: >"
      ]
     },
     "execution_count": 68,
     "metadata": {},
     "output_type": "execute_result"
    },
    {
     "data": {
      "image/png": "[encoded data removed]",
      "text/plain": [
       "<Figure size 640x480 with 1 Axes>"
      ]
     },
     "metadata": {},
     "output_type": "display_data"
    }
   ],
   "source": [
    "freq_df = pd.DataFrame.from_dict(wordcounter, orient='index', columns=['frequency']).sort_values(by='frequency', ascending=False)\n",
    "freq_df.plot(loglog=True)"
   ]
  },
  {
   "cell_type": "markdown",
   "metadata": {},
   "source": [
    "### (3) Converting to indices (almost a one-hot vector)"
   ]
  },
  {
   "cell_type": "code",
   "execution_count": 69,
   "metadata": {},
   "outputs": [],
   "source": [
    "## create a dictionnary from token to id (arbitrary ID)\n",
    "## and one from ID to token (useful for inference on other texts too !)\n",
    "tok2id = {}\n",
    "id2tok = {}\n",
    "other_words_token = \"<unk>\"  # special token to describe all other words (not in the vocab)\n",
    "\n",
    "i=0\n",
    "token = other_words_token\n",
    "tok2id[token] = i\n",
    "id2tok[i] = token\n",
    "i+=1\n",
    "for element in common_words_list_of_pairs:  ## it's crucial that we ordered types by frequency !!\n",
    "    token, freq = element\n",
    "    tok2id[token] = i\n",
    "    id2tok[i] = token\n",
    "    i+=1"
   ]
  },
  {
   "cell_type": "code",
   "execution_count": 70,
   "metadata": {},
   "outputs": [
    {
     "data": {
      "text/plain": [
       "('4614', 459)"
      ]
     },
     "execution_count": 70,
     "metadata": {},
     "output_type": "execute_result"
    }
   ],
   "source": [
    "common_words_list_of_pairs[-1]"
   ]
  },
  {
   "cell_type": "code",
   "execution_count": 71,
   "metadata": {},
   "outputs": [
    {
     "data": {
      "text/plain": [
       "459"
      ]
     },
     "execution_count": 71,
     "metadata": {},
     "output_type": "execute_result"
    }
   ],
   "source": [
    "wordcounter[common_words_list_of_pairs[-1][0]]"
   ]
  },
  {
   "cell_type": "code",
   "execution_count": 72,
   "metadata": {
    "scrolled": true
   },
   "outputs": [],
   "source": [
    "# tok2id"
   ]
  },
  {
   "cell_type": "code",
   "execution_count": 73,
   "metadata": {},
   "outputs": [],
   "source": [
    "# id2tok"
   ]
  },
  {
   "cell_type": "code",
   "execution_count": null,
   "metadata": {},
   "outputs": [],
   "source": []
  },
  {
   "cell_type": "code",
   "execution_count": 74,
   "metadata": {},
   "outputs": [],
   "source": [
    "## we save our dicts for later use\n",
    "myjson = json.dumps(tok2id)\n",
    "f = open(\"tok2id.json\",\"w\")\n",
    "f.write(myjson)\n",
    "f.close()\n",
    "myjson = json.dumps(id2tok)\n",
    "f = open(\"id2tok.json\",\"w\")\n",
    "f.write(myjson)\n",
    "f.close()"
   ]
  },
  {
   "cell_type": "code",
   "execution_count": 75,
   "metadata": {},
   "outputs": [],
   "source": [
    "vocabulary = tok2id.keys()\n",
    "# vocabulary"
   ]
  },
  {
   "cell_type": "code",
   "execution_count": null,
   "metadata": {},
   "outputs": [],
   "source": []
  },
  {
   "cell_type": "markdown",
   "metadata": {},
   "source": [
    "### [optionnal] Quick study of the relationship between type length and frequency of that type:"
   ]
  },
  {
   "cell_type": "code",
   "execution_count": 76,
   "metadata": {
    "scrolled": true
   },
   "outputs": [
    {
     "name": "stdout",
     "output_type": "stream",
     "text": [
      "longueur moyenne dans le dictionnaire (sur les types) : 6.546265721812043\n",
      "longueur moyenne dans le texte (sur les tokens) : 2.7862160479132383\n",
      "les mots les plus longs : ['unterseebootsflottille', 'professionnalisation', 'socioprofessionnelle', 'intergouvernementale', 'proportionnellement', 'perpendiculairement', 'professionnellement', 'pluridisciplinaires', 'interdisciplinaires', 'administrativement']\n"
     ]
    }
   ],
   "source": [
    "print('longueur moyenne dans le dictionnaire (sur les types) :',sum([len(t) for t in wordcounter])/len(wordcounter))\n",
    "print('longueur moyenne dans le texte (sur les tokens) :',sum([len(t)*f for t,f in wordcounter.items()])/ sum(wordcounter.values()))\n",
    "print('les mots les plus longs :', sorted(wordcounter, key=lambda x:len(x), reverse=True)[:10])"
   ]
  },
  {
   "cell_type": "code",
   "execution_count": 77,
   "metadata": {},
   "outputs": [
    {
     "name": "stdout",
     "output_type": "stream",
     "text": [
      "{2: 715, 4: 13457, 1: 51, 3: 2711, 5: 5461, 6: 6571, 7: 6835, 9: 4488, 8: 5742, 10: 3215, 13: 696, 11: 2033, 12: 1287, 14: 344, 17: 31, 15: 184, 18: 18, 16: 58, 19: 5, 20: 3, 22: 1}\n"
     ]
    }
   ],
   "source": [
    "lenfreq = {} # contiendra longueur du mot vers la fréquence dans le dictionnaire\n",
    "for t,f in wordcounter.items():\n",
    "    lenfreq[len(t)] = lenfreq.get(len(t),0)+1 # si remplace +1 par +f, on a la relation longueur / fréquence dans les textes\n",
    "print(lenfreq)"
   ]
  },
  {
   "cell_type": "code",
   "execution_count": 78,
   "metadata": {},
   "outputs": [
    {
     "data": {
      "text/html": [
       "<div>\n",
       "<style scoped>\n",
       "    .dataframe tbody tr th:only-of-type {\n",
       "        vertical-align: middle;\n",
       "    }\n",
       "\n",
       "    .dataframe tbody tr th {\n",
       "        vertical-align: top;\n",
       "    }\n",
       "\n",
       "    .dataframe thead th {\n",
       "        text-align: right;\n",
       "    }\n",
       "</style>\n",
       "<table border=\"1\" class=\"dataframe\">\n",
       "  <thead>\n",
       "    <tr style=\"text-align: right;\">\n",
       "      <th></th>\n",
       "      <th>frequency</th>\n",
       "    </tr>\n",
       "  </thead>\n",
       "  <tbody>\n",
       "    <tr>\n",
       "      <th>4</th>\n",
       "      <td>13457</td>\n",
       "    </tr>\n",
       "    <tr>\n",
       "      <th>7</th>\n",
       "      <td>6835</td>\n",
       "    </tr>\n",
       "    <tr>\n",
       "      <th>6</th>\n",
       "      <td>6571</td>\n",
       "    </tr>\n",
       "    <tr>\n",
       "      <th>8</th>\n",
       "      <td>5742</td>\n",
       "    </tr>\n",
       "    <tr>\n",
       "      <th>5</th>\n",
       "      <td>5461</td>\n",
       "    </tr>\n",
       "  </tbody>\n",
       "</table>\n",
       "</div>"
      ],
      "text/plain": [
       "   frequency\n",
       "4      13457\n",
       "7       6835\n",
       "6       6571\n",
       "8       5742\n",
       "5       5461"
      ]
     },
     "execution_count": 78,
     "metadata": {},
     "output_type": "execute_result"
    }
   ],
   "source": [
    "freq_df = pd.DataFrame.from_dict(lenfreq, orient='index', columns=['frequency']).sort_values(by='frequency', ascending=False)\n",
    "freq_df.head()"
   ]
  },
  {
   "cell_type": "code",
   "execution_count": 79,
   "metadata": {},
   "outputs": [
    {
     "data": {
      "text/plain": [
       "<Axes: title={'center': 'notons la long tail!'}>"
      ]
     },
     "execution_count": 79,
     "metadata": {},
     "output_type": "execute_result"
    },
    {
     "data": {
      "image/png": "[encoded data removed]",
      "text/plain": [
       "<Figure size 640x480 with 1 Axes>"
      ]
     },
     "metadata": {},
     "output_type": "display_data"
    }
   ],
   "source": [
    "freq_df.plot(kind='bar', title='notons la long tail!')"
   ]
  },
  {
   "cell_type": "markdown",
   "metadata": {},
   "source": [
    "### (4) Create training data (skip-gram style)"
   ]
  },
  {
   "cell_type": "code",
   "execution_count": 80,
   "metadata": {},
   "outputs": [],
   "source": [
    "# we limit Y to be MEMORY_LIMIT x VOCAB_SIZE at most, otherwise we may lack memory\n",
    "# MEMORY_LIMIT = 20000"
   ]
  },
  {
   "cell_type": "markdown",
   "metadata": {},
   "source": [
    "### ROOM FOR IMPROVEMENT:\n",
    "\n",
    "**(maybe next year I'll do it, don't try it now, I'd say)**\n",
    "\n",
    "better than this generation of Y as a hard-coded numpy array (torch tensor), use this function at batch loading time: i.e., at every iteration of processing a batch, load some text files and convert them in that way.. \n",
    "\n",
    "Concretly, we should write a proper DataLoader (torch object) that does this. \n",
    "\n",
    "It's not a problem if all batches do not have exactly the same size\n",
    "\n",
    "## But today we do it dirty-style (hard-coded, all-in-memory-style)\n",
    "\n",
    "So, choose the variable `MEMORY_LIMIT` carefully, depending on how much RAM you have."
   ]
  },
  {
   "cell_type": "code",
   "execution_count": 81,
   "metadata": {},
   "outputs": [],
   "source": [
    "# WINDOW_SIZE =3\n",
    "window_size=WINDOW_SIZE\n",
    "X = []\n",
    "Y = []\n",
    "filenumber = -1\n",
    "for f in textfiles:\n",
    "    filenumber+=1\n",
    "    with open(f, encoding='iso-8859-15') as f:\n",
    "        texte = f.read()\n",
    "        phrases = texte.split(\".\")\n",
    "        for phrase in phrases:\n",
    "            tokens = tokenize(phrase)\n",
    "            N = len(tokens)\n",
    "            if N >= 2*window_size+1:\n",
    "                ## replace unknown words with <unk>\n",
    "                for i, tok in enumerate(tokens):\n",
    "                    if tok not in vocabulary:\n",
    "                        tokens[i] = \"<unk>\"\n",
    "\n",
    "                ## fill in X and Y:\n",
    "                for i in range(window_size,N-window_size-1):\n",
    "                    X.append(tok2id[tokens[i]]) ## input\n",
    "                    ys = np.zeros(VOCAB_SIZE+1)\n",
    "                    for j in range(i-window_size, i+window_size+1):\n",
    "                        if i!=j: #  and 0<=j<N:\n",
    "                            ys[tok2id[tokens[j]]] += 1\n",
    "                    Y.append(ys)  ## context (to be predicted)\n",
    "    if len(Y) > MEMORY_LIMIT:\n",
    "        print(filenumber)\n",
    "        break\n",
    "       "
   ]
  },
  {
   "cell_type": "code",
   "execution_count": 86,
   "metadata": {},
   "outputs": [],
   "source": [
    "X = np.array(X)\n",
    "X = torch.tensor(X)\n",
    "Y = torch.tensor(np.array(Y)) "
   ]
  },
  {
   "cell_type": "code",
   "execution_count": 87,
   "metadata": {},
   "outputs": [
    {
     "data": {
      "text/plain": [
       "torch.float64"
      ]
     },
     "execution_count": 87,
     "metadata": {},
     "output_type": "execute_result"
    }
   ],
   "source": [
    "X.dtype"
   ]
  },
  {
   "cell_type": "code",
   "execution_count": 88,
   "metadata": {},
   "outputs": [
    {
     "data": {
      "text/plain": [
       "(torch.Size([0]), torch.Size([0]))"
      ]
     },
     "execution_count": 88,
     "metadata": {},
     "output_type": "execute_result"
    }
   ],
   "source": [
    "X.shape, Y.shape"
   ]
  },
  {
   "cell_type": "markdown",
   "metadata": {},
   "source": [
    "### About the difference between nn.Embedding vs nn.Linear: \n",
    "\n",
    "https://stackoverflow.com/questions/65445174/what-is-the-difference-between-an-embedding-layer-with-a-bias-immediately-afterw\n",
    "\n",
    "In this model, you should use:\n",
    "- a layer with `nn.Embedding`\n",
    "- a layer with nn.Linear (bias is useless)\n",
    "- no activation function is needed\n",
    "- even the softmax is implicit, it's hidden in the Loss (BCELoss)"
   ]
  },
  {
   "cell_type": "code",
   "execution_count": 89,
   "metadata": {},
   "outputs": [
    {
     "ename": "SyntaxError",
     "evalue": "invalid syntax (2069594129.py, line 15)",
     "output_type": "error",
     "traceback": [
      "\u001b[0;36m  Cell \u001b[0;32mIn[89], line 15\u001b[0;36m\u001b[0m\n\u001b[0;31m    return ??\u001b[0m\n\u001b[0m           ^\u001b[0m\n\u001b[0;31mSyntaxError\u001b[0m\u001b[0;31m:\u001b[0m invalid syntax\n"
     ]
    }
   ],
   "source": [
    "import torch.nn as nn\n",
    "class SkipGram_Model(nn.Module):\n",
    "    \"\"\"\n",
    "    Implementation of Skip-Gram model described in paper:\n",
    "    https://arxiv.org/abs/1301.3781\n",
    "    \"\"\"\n",
    "    def __init__(self, vocab_size, embed_dim):\n",
    "        super(SkipGram_Model, self).__init__()\n",
    "        ## TODO\n",
    "        \n",
    "        pass\n",
    "        \n",
    "    def forward(self, inputs):\n",
    "        ## TODO\n",
    "        return ??\n",
    "    "
   ]
  },
  {
   "cell_type": "code",
   "execution_count": null,
   "metadata": {},
   "outputs": [],
   "source": [
    "def train(num_epochs, batch_size, criterion, optimizer, model, trainset):\n",
    "\n",
    "    X, Y = trainset\n",
    "    N = X.shape[0]\n",
    "    N -= X.shape[0]%batch_size\n",
    "    batch_number = X.shape[0]//batch_size    \n",
    "    \n",
    "    t0 = time.time()\n",
    "    \n",
    "    model.train() ## tells pytorch we are in train mode, not in test mode.\n",
    "    running_losses=[]\n",
    "    for epoch in range(num_epochs):  # loop over the dataset multiple times\n",
    "        running_loss = 0.0\n",
    "    \n",
    "        ## TODO: using batch size or just X,Y entirely, train the model\n",
    "        \n",
    "    t1 =time.time()\n",
    "    print('Finished Training. It took '+str(t1-t0)+\" seconds\")\n",
    "    return running_losses\n"
   ]
  },
  {
   "cell_type": "code",
   "execution_count": null,
   "metadata": {},
   "outputs": [],
   "source": [
    "vocab_size = VOCAB_SIZE+1\n",
    "embed_dim = EMBED_DIM\n",
    "myOwnWord2Vec_model = SkipGram_Model(vocab_size=vocab_size, embed_dim=embed_dim)\n",
    "trainset = (X, Y)\n",
    "\n",
    "learning_rate=??\n",
    "num_epochs=3\n",
    "batch_size=??\n",
    "\n",
    "criterion = nn.CrossEntropyLoss()\n",
    "optimizer = torch.optim.Adam(myOwnWord2Vec_model.parameters(), lr=learning_rate)"
   ]
  },
  {
   "cell_type": "code",
   "execution_count": null,
   "metadata": {
    "scrolled": true
   },
   "outputs": [],
   "source": [
    "running_losses = train(num_epochs, batch_size, criterion, optimizer, myOwnWord2Vec_model, trainset)"
   ]
  },
  {
   "cell_type": "code",
   "execution_count": null,
   "metadata": {},
   "outputs": [],
   "source": [
    "torch.save(myOwnWord2Vec_model.state_dict, \"myOwnWord2Vec_model.torch.model_V=\"+str(vocab_size)+\"_d=\"+str(embed_dim))\n",
    "# vocab_size = VOCAB_SIZE+1\n",
    "# embed_dim = 100"
   ]
  },
  {
   "cell_type": "markdown",
   "metadata": {},
   "source": [
    "## Trying analogies... with small corpus, short training and small vocabulary...\n",
    "\n",
    "... It doesn't work very well"
   ]
  },
  {
   "cell_type": "code",
   "execution_count": null,
   "metadata": {},
   "outputs": [],
   "source": [
    "def token_to_vect(token):\n",
    "    vector = myOwnWord2Vec_model.embeddings(torch.tensor([tok2id[token]]))\n",
    "    vector_norm = np.linalg.norm(vector.detach())\n",
    "    return vector/vector_norm"
   ]
  },
  {
   "cell_type": "code",
   "execution_count": null,
   "metadata": {},
   "outputs": [],
   "source": [
    "all_words = torch.tensor(np.arange((VOCAB_SIZE+1), dtype=int))\n",
    "all_vectors = np.array(myOwnWord2Vec_model.embeddings(all_words) .detach())\n",
    "normes = np.linalg.norm(all_vectors, axis=1).reshape(-1,1)\n",
    "all_vectors = all_vectors / normes\n"
   ]
  },
  {
   "cell_type": "code",
   "execution_count": null,
   "metadata": {},
   "outputs": [],
   "source": [
    "vecteur_cible = token_to_vect(\"roi\")+token_to_vect(\"femme\")-token_to_vect(\"homme\")\n",
    "vecteur_cible = np.array(vecteur_cible.detach())\n",
    "dot_prod = (all_vectors @ vecteur_cible.T)# / np.linalg.norm(vector.detach())\n",
    "inds = dot_prod[:,0].argsort()\n",
    "[id2tok[ind] for ind in np.array(inds)[::-1][:10]]"
   ]
  },
  {
   "cell_type": "markdown",
   "metadata": {},
   "source": [
    "## TODOs: (for later, not today !)\n",
    "- make a DataLoader to use the whole corpus even on a small machine\n",
    "- learn with proper scheduler and for long enough ;)\n",
    "- save the model\n",
    "- load the model"
   ]
  },
  {
   "cell_type": "markdown",
   "metadata": {},
   "source": [
    "## To understand how things work: quick debug out of the loop !\n",
    "\n",
    "You can check for instance that your loss computes whay you want, here"
   ]
  },
  {
   "cell_type": "code",
   "execution_count": null,
   "metadata": {},
   "outputs": [],
   "source": [
    "# vocab_size = VOCAB_SIZE+1\n",
    "# embed_dim = 100\n",
    "# myOwnWord2Vec_model = SkipGram_Model(vocab_size=vocab_size, embed_dim=embed_dim) ## only 1 layer !!\n",
    "\n",
    "# learning_rate=3e-4\n",
    "# num_epochs=10\n",
    "# batch_size=128\n",
    "# criterion = nn.CrossEntropyLoss()\n",
    "# optimizer = torch.optim.SGD(myOwnWord2Vec_model.parameters(), lr=learning_rate)\n",
    "# trainset = (X, Y)"
   ]
  },
  {
   "cell_type": "code",
   "execution_count": null,
   "metadata": {},
   "outputs": [],
   "source": [
    "# ## we try 1 epoch, just to check things are ok:\n",
    "# model = myOwnWord2Vec_model\n",
    "\n",
    "# optimizer.zero_grad()\n",
    "# y = model(X)\n",
    "\n",
    "# ## backward pass\n",
    "# loss = criterion(y, Y)  ## loss is also a torch object, so it also has the comput. graph.\n",
    "# loss.backward() # computes and stores the gradients next to the tensors of parameters themselves.\n",
    "# # at this point, the object 'model' has the gradients in it at the correct value.\n",
    "\n",
    "# ## update of gradients\n",
    "# optimizer.step() # updates the parameters wrt the local gradient\n",
    "# ## recall that we defined:  optimizer = optim.SGD(model.parameters(), ... so it knows about the parameters."
   ]
  },
  {
   "cell_type": "code",
   "execution_count": null,
   "metadata": {
    "scrolled": true
   },
   "outputs": [],
   "source": [
    "# loss"
   ]
  },
  {
   "cell_type": "code",
   "execution_count": null,
   "metadata": {
    "scrolled": true
   },
   "outputs": [],
   "source": [
    "# ## we can compute the loss \"by hand\" to check it's what we expect \n",
    "# ## with all the pytorch things happening inside BCELoss, we can't be too sure...\n",
    "# softmax = nn.Softmax(dim=1)\n",
    "# softy = np.array(softmax(y.detach()))\n",
    "# softy.shape, softy.sum(1), softy.sum(1).shape"
   ]
  },
  {
   "cell_type": "code",
   "execution_count": null,
   "metadata": {},
   "outputs": [],
   "source": [
    "# ## it does match :D\n",
    "# np.sum(np.array(Y)*np.log(softy))/X.shape[0]"
   ]
  },
  {
   "cell_type": "code",
   "execution_count": null,
   "metadata": {
    "scrolled": true
   },
   "outputs": [],
   "source": [
    "# N  = X.shape[0]\n",
    "# batch_number = X.shape[0]//batch_size\n",
    "# X.shape[0]%batch_size\n"
   ]
  }
 ],
 "metadata": {
  "kernelspec": {
   "display_name": "Python 3 (ipykernel)",
   "language": "python",
   "name": "python3"
  },
  "language_info": {
   "codemirror_mode": {
    "name": "ipython",
    "version": 3
   },
   "file_extension": ".py",
   "mimetype": "text/x-python",
   "name": "python",
   "nbconvert_exporter": "python",
   "pygments_lexer": "ipython3",
   "version": "3.11.6"
  }
 },
 "nbformat": 4,
 "nbformat_minor": 4
}
