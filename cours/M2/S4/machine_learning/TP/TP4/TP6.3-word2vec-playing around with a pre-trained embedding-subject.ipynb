{
 "cells": [
  {
   "cell_type": "markdown",
   "metadata": {},
   "source": [
    "# 💥 plongement de mot\n",
    "\n",
    "3 étapes :\n",
    "- charger un plongement Word2Vec précalculé \n",
    "- écrire une fonction qui trouve les voisins d'un mot = ses mots les plus proches\n",
    "- explorer les analogies\n",
    "  \n",
    "\n",
    "    \n",
    "___\n"
   ]
  },
  {
   "cell_type": "markdown",
   "metadata": {},
   "source": [
    "\n",
    "#### charger le word2vec précalculé \n",
    "  - chercher frwiki-50k_100d.txt sur google drive et le mettre à côté de votre notebook.\n",
    "  - c'est une réduction à 50k types les plus fréquents du word2vec complet https://wikipedia2vec.github.io/wikipedia2vec/pretrained/ \n",
    "  - ouvrir le fichier et comprendre le format\n",
    "  - 🚧 écrire une fonction `read_vectors` qui donne une matrice numpy `embeddings` avec une ligne par type (~ un mot), chaque ligne représente le mot. `embeddings[i,:]` correspond à un type.\n",
    "  \n",
    "\n",
    "    "
   ]
  },
  {
   "cell_type": "code",
   "execution_count": null,
   "metadata": {},
   "outputs": [],
   "source": [
    "import numpy as np"
   ]
  },
  {
   "cell_type": "code",
   "execution_count": null,
   "metadata": {},
   "outputs": [],
   "source": [
    "def read_vectors(infile, vocab_size=50000, dimension=100):\n",
    "    \"\"\"\n",
    "    fonction qui lit une sauvegarde d'un plongement\n",
    "    retourne \n",
    "    - un dictionnaire word type -> index\n",
    "    - le dictionnaire inverse\n",
    "    - une matrice contenant un vecteur de mot par word type\n",
    "    \"\"\"  \n",
    "    \n",
    "    embeddings = np.zeros((vocab_size, dimension))\n",
    "    w2i, i2w = {}, {}\n",
    "    i = 0\n",
    "    for line in open(infile, encoding='utf8'): # iso-88...\"\n",
    "        splitted = line.split()\n",
    "        w2i[splitted[0]] = i\n",
    "        i2w[i] = splitted[0]\n",
    "        embeddings[i] = np.array(splitted[1:], dtype=float)\n",
    "        i+=1\n",
    "    return w2i, i2w, embeddings\n",
    "\n",
    "w2i, i2w, embeddings = read_vectors('/home/flandes/data/frwiki-50k_100d.txt')\n",
    "print(len(w2i),len(i2w),embeddings.shape)"
   ]
  },
  {
   "cell_type": "code",
   "execution_count": null,
   "metadata": {},
   "outputs": [],
   "source": [
    "i2w[40000]"
   ]
  },
  {
   "cell_type": "code",
   "execution_count": null,
   "metadata": {},
   "outputs": [],
   "source": [
    "embeddings[40000]"
   ]
  },
  {
   "cell_type": "code",
   "execution_count": null,
   "metadata": {},
   "outputs": [],
   "source": [
    "w2i, i2w, embeddings"
   ]
  },
  {
   "cell_type": "markdown",
   "metadata": {},
   "source": [
    "### Objectifs\n",
    "On veut faire une fonction python qui pour un mot donné retourne les K plus proches voisins (sémantiques)\n",
    "Pour ce faire, il faudra \n",
    "1. calculer la distance cosinus entre ?? et ??\n",
    "2. ordoner les distances par ordres decroissants\n"
   ]
  },
  {
   "cell_type": "markdown",
   "metadata": {},
   "source": [
    "#### 1. Calcul de la distance cosinus\n",
    "**Astuce**, on peut faire ceci en deux sous-étapes : \n",
    "- 🚧 normaliser les embeddings (par rapport aux lignes, càd chaque vecteur de mot à une norme unitaire)\n",
    "- 🚧 calculer produit scalaire entre l'embedding du mot source avec l'espace d'embedding entier"
   ]
  },
  {
   "cell_type": "code",
   "execution_count": null,
   "metadata": {},
   "outputs": [],
   "source": [
    "normed_embeddings = embeddings/(np.linalg.norm(embeddings, axis=1)).reshape(-1, 1)"
   ]
  },
  {
   "cell_type": "markdown",
   "metadata": {},
   "source": [
    "**⚠ Achtung !!!** : Pour simplifier les calculs par la suite, on basera nos calculs sur la matrice `normed_embeddings`. De ce fait, on n'aura pas besoin de diviser le produit scalaire des deux vecteurs par leurs normes (la similarité cosinus de deux vecteurs unitaires est juste le produit scalaire des vecteurs).\n",
    "Si vous souhaitez effectuer un calcul de similarité basé sur une autre mesure (distance euclidienne ?), alors vous devrez baser vos calculs sur la matrice `embeddings` brute (qui n'est pas normalisée !)"
   ]
  },
  {
   "cell_type": "code",
   "execution_count": null,
   "metadata": {},
   "outputs": [],
   "source": [
    "def find_closest_words_from_vector(vector, K=10):\n",
    "    \"\"\"Pour un vecteur donné, trouve les K plus proches voisins sémantiques\"\"\"\n",
    "\n",
    "#     TODO\n",
    "    \n",
    "    return closest_words"
   ]
  },
  {
   "cell_type": "code",
   "execution_count": null,
   "metadata": {},
   "outputs": [],
   "source": [
    "def find_closest_words_from_word(word, K=10):\n",
    "    \"\"\"Pour un mot 'word' donné, trouve les K plus proches voisins sémantiques\"\"\"\n",
    "\n",
    "#     TODO \n",
    "\n",
    "    return closest_words"
   ]
  },
  {
   "cell_type": "code",
   "execution_count": null,
   "metadata": {},
   "outputs": [],
   "source": [
    "def pretty_show(closest_words):\n",
    "    \"\"\"prettify the print for the closest words\"\"\"\n",
    "    for word, similarity in closest_words:\n",
    "        print(word.ljust(15, ' '), similarity.round(3))\n",
    "    print(\"___\\n\")"
   ]
  },
  {
   "cell_type": "code",
   "execution_count": null,
   "metadata": {},
   "outputs": [],
   "source": [
    "# Creative time ! Testons notre fonction sur certains termes\n",
    "pretty_show(find_closest_words_from_word(\"français\")) # notez comment un plongement peut être utilisé pour normaliser l'orthographe. notez aussi que l'allemand est plus proche du français que marseillais :)\n",
    "pretty_show(find_closest_words_from_word(\"fusée\"))\n",
    "pretty_show(find_closest_words_from_word(\"purée\")) # c'est entraîné sur Wikipédia. --> peu de jurons...\n",
    "pretty_show(find_closest_words_from_word(\"mince\"))"
   ]
  },
  {
   "cell_type": "markdown",
   "metadata": {},
   "source": [
    "### analogies\n",
    "finalement les jolies analogies dans les plongements !"
   ]
  },
  {
   "cell_type": "code",
   "execution_count": null,
   "metadata": {},
   "outputs": [],
   "source": [
    "def find_analogies(wpos1, wpos2, wneg):\n",
    "    \"\"\"\n",
    "    wpos1: le premier mot positif, wpos2: le 2e mot positif, wneg: le mot négatif\n",
    "    trouve l'analogie 'analog' tel que <'analog' est à 'wpos2' ce que 'wneg' est à 'wpos1'>\n",
    "    Par exemple : <\"reine\" est à \"femme\" ce que \"roi\" est à \"homme\">\n",
    "    \"\"\"\n",
    "    # additionner les vecteurs positifs, substraire le vecteur négatif :\n",
    "    vector_analog  = normed_embeddings[w2i[wpos1]] + normed_embeddings[w2i[wpos2]] - normed_embeddings[w2i[wneg]]\n",
    "    return find_closest_words_from_vector(vector_analog)"
   ]
  },
  {
   "cell_type": "code",
   "execution_count": null,
   "metadata": {},
   "outputs": [],
   "source": [
    "pretty_show(find_analogies(\"roi\", \"femme\", \"homme\"))\n",
    "pretty_show(find_analogies(\"infirmière\", \"homme\", \"femme\")) # attention au biais. \n",
    "# 🚧 todo : trouvez d'autres exemples \"douteux\""
   ]
  },
  {
   "cell_type": "code",
   "execution_count": null,
   "metadata": {},
   "outputs": [],
   "source": []
  }
 ],
 "metadata": {
  "kernelspec": {
   "display_name": "Python 3 (ipykernel)",
   "language": "python",
   "name": "python3"
  },
  "language_info": {
   "codemirror_mode": {
    "name": "ipython",
    "version": 3
   },
   "file_extension": ".py",
   "mimetype": "text/x-python",
   "name": "python",
   "nbconvert_exporter": "python",
   "pygments_lexer": "ipython3",
   "version": "3.10.9"
  }
 },
 "nbformat": 4,
 "nbformat_minor": 4
}
