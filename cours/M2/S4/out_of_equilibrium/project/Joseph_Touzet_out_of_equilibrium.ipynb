{
 "cells": [
  {
   "cell_type": "markdown",
   "id": "b7c06ede-6edc-454c-9eb2-a8386da33a34",
   "metadata": {},
   "source": [
    "# Master PCS - Out of Equilibrium statistical physics\n",
    "## Homework problem\n",
    "### __Simulating lattice model of surface groth__\n",
    "Joseph Touzet"
   ]
  },
  {
   "cell_type": "code",
   "execution_count": 11,
   "id": "6005f3ae-9bee-4896-bdff-cede99b2e504",
   "metadata": {},
   "outputs": [],
   "source": [
    "import numpy as np\n",
    "from matplotlib import pyplot as plt"
   ]
  },
  {
   "cell_type": "markdown",
   "id": "8218f3a0-078e-4026-9c6b-d12993b45819",
   "metadata": {},
   "source": [
    "We first implement the two deposition model: RDR and SOS."
   ]
  },
  {
   "cell_type": "code",
   "execution_count": 22,
   "id": "ee18bbd3-e3ed-44ab-a70c-89d5955c14ce",
   "metadata": {},
   "outputs": [],
   "source": [
    "def step_RDR(h):\n",
    "    L = len(h)\n",
    "    \n",
    "    idx = np.random.randint(0, L)\n",
    "    idx_left  = (idx-1+L)%L\n",
    "    idx_right = (idx+1  )%L\n",
    "    \n",
    "    if   h[idx_left] < h[idx_right]:\n",
    "        h[idx_left]  += 1\n",
    "    elif h[idx_left] > h[idx_right]:\n",
    "        h[idx_right] += 1\n",
    "    else:\n",
    "        if np.random.rand() < 0.5:\n",
    "            h[idx_left]  += 1\n",
    "        else:\n",
    "            h[idx_right] += 1\n",
    "    \n",
    "    return h\n",
    "\n",
    "def simulate_RDR(L, t):\n",
    "    h = np.zeros(L)\n",
    "    for i in range(int(t)):\n",
    "        h = step_RDR(h)\n",
    "    return h"
   ]
  },
  {
   "cell_type": "code",
   "execution_count": 31,
   "id": "a9b4adb9-6824-4440-92c4-a50797f30d8e",
   "metadata": {},
   "outputs": [],
   "source": [
    "def step_SOS(h):\n",
    "    L = len(h)\n",
    "    \n",
    "    idx = np.random.randint(0, L)\n",
    "    idx_left  = (idx-1+L)%L\n",
    "    idx_right = (idx+1  )%L\n",
    "\n",
    "    h[idx] += 1\n",
    "    if abs(h[idx_left] - h[idx]) > 1 and abs(h[idx] - h[idx_right]) > 1:\n",
    "        h[idx] -= 1\n",
    "    \n",
    "    return h\n",
    "\n",
    "def simulate_SOS(L, t):\n",
    "    h = np.zeros(L)\n",
    "    for i in range(int(t)):\n",
    "        h = step_SOS(h)\n",
    "    return h"
   ]
  },
  {
   "cell_type": "markdown",
   "id": "b10765d0-1259-4c05-bfd7-6950c496ceb5",
   "metadata": {},
   "source": [
    "We also need to implement a function to compute the roughness:\n",
    "\n",
    "We first note that $W(L, t)^2 = \\left< \\overline{(h - \\overline{h})^2} \\right> = \\left< std(h) \\right> $"
   ]
  },
  {
   "cell_type": "code",
   "execution_count": 14,
   "id": "51f19d87-06b0-46ec-999b-1152c80a0dab",
   "metadata": {},
   "outputs": [],
   "source": [
    "def compute_Wsqr_single(h):\n",
    "    return np.std(h)\n",
    "\n",
    "def compute_W(L, t, simulator, n_it):\n",
    "    Wsqr = 0\n",
    "    for n in range(int(n_it)):\n",
    "        h = simulator(L, t)\n",
    "        Wsqr += compute_Wsqr_single(h)\n",
    "    Wsqr_avg = Wsqr / n_it\n",
    "    W = np.sqrt(Wsqr_avg)\n",
    "    return W\n",
    "\n",
    "def compute_W_RDR(L, T, n_it):\n",
    "    return compute_W(L, T, simulate_RDR, n_it)\n",
    "    \n",
    "def compute_W_SOS(L, T, n_it):\n",
    "    return compute_W(L, T, simulate_SOS, n_it)"
   ]
  },
  {
   "cell_type": "markdown",
   "id": "7c22405d-55fb-4bcd-b990-162c7c9d2814",
   "metadata": {},
   "source": [
    "(1) TODO"
   ]
  },
  {
   "cell_type": "code",
   "execution_count": 24,
   "id": "6f0400fb-b09b-46cd-9011-b33115db50e8",
   "metadata": {},
   "outputs": [],
   "source": [
    "L, n_it = 100, 100\n",
    "ts      = np.round(100*(np.linspace(0.5,10,20))**2)"
   ]
  },
  {
   "cell_type": "code",
   "execution_count": 25,
   "id": "fc0f8fd0-eeda-49c5-85e7-b040fc685d22",
   "metadata": {},
   "outputs": [],
   "source": [
    "W_RDR = [compute_W_RDR(L, t, n_it) for t in ts]"
   ]
  },
  {
   "cell_type": "code",
   "execution_count": 32,
   "id": "707ada74-6485-4a4b-8c94-06bff659231e",
   "metadata": {},
   "outputs": [],
   "source": [
    "W_SOS = [compute_W_SOS(L, t, n_it) for t in ts]"
   ]
  },
  {
   "cell_type": "code",
   "execution_count": 42,
   "id": "7ac32700-2ac9-41de-b612-d9e98f2f8bee",
   "metadata": {},
   "outputs": [
    {
     "data": {
      "image/png": "[encoded data removed]",
      "text/plain": [
       "<Figure size 640x480 with 1 Axes>"
      ]
     },
     "metadata": {},
     "output_type": "display_data"
    }
   ],
   "source": [
    "plt.plot(ts, W_RDR)\n",
    "plt.plot(ts, W_SOS)\n",
    "plt.xscale(\"log\")\n",
    "plt.yscale(\"log\")\n",
    "plt.show()"
   ]
  },
  {
   "cell_type": "markdown",
   "id": "a63f28f8-810c-4f8b-b5ef-0dfe10c6d12b",
   "metadata": {},
   "source": [
    "(2) TODO"
   ]
  },
  {
   "cell_type": "code",
   "execution_count": null,
   "id": "1331d970-5a45-4fe1-b55a-1c5e1e9e9abb",
   "metadata": {},
   "outputs": [],
   "source": []
  },
  {
   "cell_type": "markdown",
   "id": "62d6b7d3-4474-4884-933e-968e81b8573e",
   "metadata": {},
   "source": [
    "(3) TODO"
   ]
  },
  {
   "cell_type": "code",
   "execution_count": null,
   "id": "8226a572-b7e3-4844-8b8f-af1e67b7324a",
   "metadata": {},
   "outputs": [],
   "source": []
  },
  {
   "cell_type": "markdown",
   "id": "437c84e4-63cc-4170-a9df-a828e04ab820",
   "metadata": {},
   "source": [
    "(4) TODO"
   ]
  },
  {
   "cell_type": "code",
   "execution_count": null,
   "id": "2a05f184-f8b6-4d1f-9ab7-11785c97fc0d",
   "metadata": {},
   "outputs": [],
   "source": []
  }
 ],
 "metadata": {
  "kernelspec": {
   "display_name": "Python 3 (ipykernel)",
   "language": "python",
   "name": "python3"
  },
  "language_info": {
   "codemirror_mode": {
    "name": "ipython",
    "version": 3
   },
   "file_extension": ".py",
   "mimetype": "text/x-python",
   "name": "python",
   "nbconvert_exporter": "python",
   "pygments_lexer": "ipython3",
   "version": "3.11.6"
  }
 },
 "nbformat": 4,
 "nbformat_minor": 5
}
